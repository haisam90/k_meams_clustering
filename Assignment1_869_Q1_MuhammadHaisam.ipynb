{
 "cells": [
  {
   "cell_type": "code",
   "execution_count": 51,
   "metadata": {},
   "outputs": [],
   "source": [
    "# [Muhammad, Haisam]\n",
    "# [20195819]\n",
    "# [MMA]\n",
    "# [Winter]\n",
    "# [869]\n",
    "# [12-08-2020]\n",
    "\n",
    "import pandas as pd\n",
    "import numpy as np\n",
    "import matplotlib as mpl\n",
    "import matplotlib.pyplot as plt\n",
    "from mpl_toolkits.mplot3d import Axes3D\n",
    "import seaborn as sns \n",
    "import pandas_profiling\n",
    "import scipy\n",
    "from IPython.core.interactiveshell import InteractiveShell\n",
    "InteractiveShell.ast_node_interactivity = \"all\"\n",
    "# This will ensure that matplotlib figures don't get cut off when saving with savefig()\n",
    "rcParams.update({'figure.autolayout': True})\n",
    "import cufflinks as cf\n",
    "%matplotlib inline"
   ]
  },
  {
   "cell_type": "code",
   "execution_count": 52,
   "metadata": {},
   "outputs": [],
   "source": [
    "# Answer to Question [1], Part [a]"
   ]
  },
  {
   "cell_type": "code",
   "execution_count": 53,
   "metadata": {},
   "outputs": [],
   "source": [
    "#loading the data\n",
    "df = pd.read_csv('jewelry_customers.csv')"
   ]
  },
  {
   "cell_type": "code",
   "execution_count": 54,
   "metadata": {},
   "outputs": [
    {
     "data": {
      "text/plain": [
       "['Age', 'Income', 'SpendingScore', 'Savings']"
      ]
     },
     "execution_count": 54,
     "metadata": {},
     "output_type": "execute_result"
    },
    {
     "data": {
      "text/plain": [
       "(505, 4)"
      ]
     },
     "execution_count": 54,
     "metadata": {},
     "output_type": "execute_result"
    },
    {
     "name": "stdout",
     "output_type": "stream",
     "text": [
      "<class 'pandas.core.frame.DataFrame'>\n",
      "RangeIndex: 505 entries, 0 to 504\n",
      "Data columns (total 4 columns):\n",
      " #   Column         Non-Null Count  Dtype  \n",
      "---  ------         --------------  -----  \n",
      " 0   Age            505 non-null    int64  \n",
      " 1   Income         505 non-null    int64  \n",
      " 2   SpendingScore  505 non-null    float64\n",
      " 3   Savings        505 non-null    float64\n",
      "dtypes: float64(2), int64(2)\n",
      "memory usage: 15.9 KB\n"
     ]
    },
    {
     "data": {
      "text/html": [
       "<div>\n",
       "<style scoped>\n",
       "    .dataframe tbody tr th:only-of-type {\n",
       "        vertical-align: middle;\n",
       "    }\n",
       "\n",
       "    .dataframe tbody tr th {\n",
       "        vertical-align: top;\n",
       "    }\n",
       "\n",
       "    .dataframe thead th {\n",
       "        text-align: right;\n",
       "    }\n",
       "</style>\n",
       "<table border=\"1\" class=\"dataframe\">\n",
       "  <thead>\n",
       "    <tr style=\"text-align: right;\">\n",
       "      <th></th>\n",
       "      <th>count</th>\n",
       "      <th>mean</th>\n",
       "      <th>std</th>\n",
       "      <th>min</th>\n",
       "      <th>25%</th>\n",
       "      <th>50%</th>\n",
       "      <th>75%</th>\n",
       "      <th>max</th>\n",
       "    </tr>\n",
       "  </thead>\n",
       "  <tbody>\n",
       "    <tr>\n",
       "      <th>Age</th>\n",
       "      <td>505.0</td>\n",
       "      <td>59.019802</td>\n",
       "      <td>24.140043</td>\n",
       "      <td>17.0</td>\n",
       "      <td>34.000000</td>\n",
       "      <td>59.000000</td>\n",
       "      <td>85.000000</td>\n",
       "      <td>97.0</td>\n",
       "    </tr>\n",
       "    <tr>\n",
       "      <th>Income</th>\n",
       "      <td>505.0</td>\n",
       "      <td>75513.291089</td>\n",
       "      <td>35992.922184</td>\n",
       "      <td>12000.0</td>\n",
       "      <td>34529.000000</td>\n",
       "      <td>75078.000000</td>\n",
       "      <td>107100.000000</td>\n",
       "      <td>142000.0</td>\n",
       "    </tr>\n",
       "    <tr>\n",
       "      <th>SpendingScore</th>\n",
       "      <td>505.0</td>\n",
       "      <td>0.505083</td>\n",
       "      <td>0.259634</td>\n",
       "      <td>0.0</td>\n",
       "      <td>0.304792</td>\n",
       "      <td>0.368215</td>\n",
       "      <td>0.768279</td>\n",
       "      <td>1.0</td>\n",
       "    </tr>\n",
       "    <tr>\n",
       "      <th>Savings</th>\n",
       "      <td>505.0</td>\n",
       "      <td>11862.455867</td>\n",
       "      <td>4949.229253</td>\n",
       "      <td>0.0</td>\n",
       "      <td>6828.709702</td>\n",
       "      <td>14209.932802</td>\n",
       "      <td>16047.268331</td>\n",
       "      <td>20000.0</td>\n",
       "    </tr>\n",
       "  </tbody>\n",
       "</table>\n",
       "</div>"
      ],
      "text/plain": [
       "               count          mean           std      min           25%  \\\n",
       "Age            505.0     59.019802     24.140043     17.0     34.000000   \n",
       "Income         505.0  75513.291089  35992.922184  12000.0  34529.000000   \n",
       "SpendingScore  505.0      0.505083      0.259634      0.0      0.304792   \n",
       "Savings        505.0  11862.455867   4949.229253      0.0   6828.709702   \n",
       "\n",
       "                        50%            75%       max  \n",
       "Age               59.000000      85.000000      97.0  \n",
       "Income         75078.000000  107100.000000  142000.0  \n",
       "SpendingScore      0.368215       0.768279       1.0  \n",
       "Savings        14209.932802   16047.268331   20000.0  "
      ]
     },
     "execution_count": 54,
     "metadata": {},
     "output_type": "execute_result"
    },
    {
     "data": {
      "text/html": [
       "<div>\n",
       "<style scoped>\n",
       "    .dataframe tbody tr th:only-of-type {\n",
       "        vertical-align: middle;\n",
       "    }\n",
       "\n",
       "    .dataframe tbody tr th {\n",
       "        vertical-align: top;\n",
       "    }\n",
       "\n",
       "    .dataframe thead th {\n",
       "        text-align: right;\n",
       "    }\n",
       "</style>\n",
       "<table border=\"1\" class=\"dataframe\">\n",
       "  <thead>\n",
       "    <tr style=\"text-align: right;\">\n",
       "      <th></th>\n",
       "      <th>Age</th>\n",
       "      <th>Income</th>\n",
       "      <th>SpendingScore</th>\n",
       "      <th>Savings</th>\n",
       "    </tr>\n",
       "  </thead>\n",
       "  <tbody>\n",
       "    <tr>\n",
       "      <th>0</th>\n",
       "      <td>58</td>\n",
       "      <td>77769</td>\n",
       "      <td>0.791329</td>\n",
       "      <td>6559.829923</td>\n",
       "    </tr>\n",
       "    <tr>\n",
       "      <th>1</th>\n",
       "      <td>59</td>\n",
       "      <td>81799</td>\n",
       "      <td>0.791082</td>\n",
       "      <td>5417.661426</td>\n",
       "    </tr>\n",
       "    <tr>\n",
       "      <th>2</th>\n",
       "      <td>62</td>\n",
       "      <td>74751</td>\n",
       "      <td>0.702657</td>\n",
       "      <td>9258.992965</td>\n",
       "    </tr>\n",
       "    <tr>\n",
       "      <th>3</th>\n",
       "      <td>59</td>\n",
       "      <td>74373</td>\n",
       "      <td>0.765680</td>\n",
       "      <td>7346.334504</td>\n",
       "    </tr>\n",
       "    <tr>\n",
       "      <th>4</th>\n",
       "      <td>87</td>\n",
       "      <td>17760</td>\n",
       "      <td>0.348778</td>\n",
       "      <td>16869.507130</td>\n",
       "    </tr>\n",
       "    <tr>\n",
       "      <th>5</th>\n",
       "      <td>29</td>\n",
       "      <td>131578</td>\n",
       "      <td>0.847034</td>\n",
       "      <td>3535.514352</td>\n",
       "    </tr>\n",
       "    <tr>\n",
       "      <th>6</th>\n",
       "      <td>54</td>\n",
       "      <td>76500</td>\n",
       "      <td>0.785198</td>\n",
       "      <td>6878.884249</td>\n",
       "    </tr>\n",
       "    <tr>\n",
       "      <th>7</th>\n",
       "      <td>87</td>\n",
       "      <td>42592</td>\n",
       "      <td>0.355290</td>\n",
       "      <td>18086.287158</td>\n",
       "    </tr>\n",
       "    <tr>\n",
       "      <th>8</th>\n",
       "      <td>83</td>\n",
       "      <td>34384</td>\n",
       "      <td>0.324719</td>\n",
       "      <td>14783.379086</td>\n",
       "    </tr>\n",
       "    <tr>\n",
       "      <th>9</th>\n",
       "      <td>84</td>\n",
       "      <td>27693</td>\n",
       "      <td>0.367063</td>\n",
       "      <td>17879.558906</td>\n",
       "    </tr>\n",
       "    <tr>\n",
       "      <th>10</th>\n",
       "      <td>85</td>\n",
       "      <td>111389</td>\n",
       "      <td>0.036795</td>\n",
       "      <td>16009.237763</td>\n",
       "    </tr>\n",
       "    <tr>\n",
       "      <th>11</th>\n",
       "      <td>36</td>\n",
       "      <td>99780</td>\n",
       "      <td>0.265433</td>\n",
       "      <td>16398.401333</td>\n",
       "    </tr>\n",
       "    <tr>\n",
       "      <th>12</th>\n",
       "      <td>30</td>\n",
       "      <td>99949</td>\n",
       "      <td>0.344679</td>\n",
       "      <td>13621.639726</td>\n",
       "    </tr>\n",
       "    <tr>\n",
       "      <th>13</th>\n",
       "      <td>31</td>\n",
       "      <td>107963</td>\n",
       "      <td>0.290509</td>\n",
       "      <td>13407.081391</td>\n",
       "    </tr>\n",
       "    <tr>\n",
       "      <th>14</th>\n",
       "      <td>61</td>\n",
       "      <td>71933</td>\n",
       "      <td>0.844107</td>\n",
       "      <td>8022.208541</td>\n",
       "    </tr>\n",
       "    <tr>\n",
       "      <th>15</th>\n",
       "      <td>92</td>\n",
       "      <td>122879</td>\n",
       "      <td>0.060724</td>\n",
       "      <td>13709.670275</td>\n",
       "    </tr>\n",
       "    <tr>\n",
       "      <th>16</th>\n",
       "      <td>55</td>\n",
       "      <td>71621</td>\n",
       "      <td>0.753343</td>\n",
       "      <td>7780.589914</td>\n",
       "    </tr>\n",
       "    <tr>\n",
       "      <th>17</th>\n",
       "      <td>87</td>\n",
       "      <td>31481</td>\n",
       "      <td>0.317424</td>\n",
       "      <td>16180.688082</td>\n",
       "    </tr>\n",
       "    <tr>\n",
       "      <th>18</th>\n",
       "      <td>82</td>\n",
       "      <td>33636</td>\n",
       "      <td>0.371783</td>\n",
       "      <td>17866.833598</td>\n",
       "    </tr>\n",
       "    <tr>\n",
       "      <th>19</th>\n",
       "      <td>88</td>\n",
       "      <td>120678</td>\n",
       "      <td>0.063273</td>\n",
       "      <td>14264.473847</td>\n",
       "    </tr>\n",
       "  </tbody>\n",
       "</table>\n",
       "</div>"
      ],
      "text/plain": [
       "    Age  Income  SpendingScore       Savings\n",
       "0    58   77769       0.791329   6559.829923\n",
       "1    59   81799       0.791082   5417.661426\n",
       "2    62   74751       0.702657   9258.992965\n",
       "3    59   74373       0.765680   7346.334504\n",
       "4    87   17760       0.348778  16869.507130\n",
       "5    29  131578       0.847034   3535.514352\n",
       "6    54   76500       0.785198   6878.884249\n",
       "7    87   42592       0.355290  18086.287158\n",
       "8    83   34384       0.324719  14783.379086\n",
       "9    84   27693       0.367063  17879.558906\n",
       "10   85  111389       0.036795  16009.237763\n",
       "11   36   99780       0.265433  16398.401333\n",
       "12   30   99949       0.344679  13621.639726\n",
       "13   31  107963       0.290509  13407.081391\n",
       "14   61   71933       0.844107   8022.208541\n",
       "15   92  122879       0.060724  13709.670275\n",
       "16   55   71621       0.753343   7780.589914\n",
       "17   87   31481       0.317424  16180.688082\n",
       "18   82   33636       0.371783  17866.833598\n",
       "19   88  120678       0.063273  14264.473847"
      ]
     },
     "execution_count": 54,
     "metadata": {},
     "output_type": "execute_result"
    },
    {
     "data": {
      "text/html": [
       "<div>\n",
       "<style scoped>\n",
       "    .dataframe tbody tr th:only-of-type {\n",
       "        vertical-align: middle;\n",
       "    }\n",
       "\n",
       "    .dataframe tbody tr th {\n",
       "        vertical-align: top;\n",
       "    }\n",
       "\n",
       "    .dataframe thead th {\n",
       "        text-align: right;\n",
       "    }\n",
       "</style>\n",
       "<table border=\"1\" class=\"dataframe\">\n",
       "  <thead>\n",
       "    <tr style=\"text-align: right;\">\n",
       "      <th></th>\n",
       "      <th>Age</th>\n",
       "      <th>Income</th>\n",
       "      <th>SpendingScore</th>\n",
       "      <th>Savings</th>\n",
       "    </tr>\n",
       "  </thead>\n",
       "  <tbody>\n",
       "    <tr>\n",
       "      <th>500</th>\n",
       "      <td>28</td>\n",
       "      <td>101206</td>\n",
       "      <td>0.387441</td>\n",
       "      <td>14936.775389</td>\n",
       "    </tr>\n",
       "    <tr>\n",
       "      <th>501</th>\n",
       "      <td>93</td>\n",
       "      <td>19934</td>\n",
       "      <td>0.203140</td>\n",
       "      <td>17969.693769</td>\n",
       "    </tr>\n",
       "    <tr>\n",
       "      <th>502</th>\n",
       "      <td>90</td>\n",
       "      <td>35297</td>\n",
       "      <td>0.355149</td>\n",
       "      <td>16091.401954</td>\n",
       "    </tr>\n",
       "    <tr>\n",
       "      <th>503</th>\n",
       "      <td>91</td>\n",
       "      <td>20681</td>\n",
       "      <td>0.354679</td>\n",
       "      <td>18401.088445</td>\n",
       "    </tr>\n",
       "    <tr>\n",
       "      <th>504</th>\n",
       "      <td>89</td>\n",
       "      <td>30267</td>\n",
       "      <td>0.289310</td>\n",
       "      <td>14386.351880</td>\n",
       "    </tr>\n",
       "  </tbody>\n",
       "</table>\n",
       "</div>"
      ],
      "text/plain": [
       "     Age  Income  SpendingScore       Savings\n",
       "500   28  101206       0.387441  14936.775389\n",
       "501   93   19934       0.203140  17969.693769\n",
       "502   90   35297       0.355149  16091.401954\n",
       "503   91   20681       0.354679  18401.088445\n",
       "504   89   30267       0.289310  14386.351880"
      ]
     },
     "execution_count": 54,
     "metadata": {},
     "output_type": "execute_result"
    }
   ],
   "source": [
    "list(df)\n",
    "df.shape\n",
    "df.info()\n",
    "df.describe().transpose()\n",
    "df.head(n=20)\n",
    "df.tail()"
   ]
  },
  {
   "cell_type": "code",
   "execution_count": 55,
   "metadata": {},
   "outputs": [
    {
     "data": {
      "text/plain": [
       "Age              0\n",
       "Income           0\n",
       "SpendingScore    0\n",
       "Savings          0\n",
       "dtype: int64"
      ]
     },
     "execution_count": 55,
     "metadata": {},
     "output_type": "execute_result"
    }
   ],
   "source": [
    "#Checking if the data has any missing values\n",
    "df.isna().sum()"
   ]
  },
  {
   "cell_type": "code",
   "execution_count": 56,
   "metadata": {},
   "outputs": [],
   "source": [
    "# Answer to Question [1], Part [b]"
   ]
  },
  {
   "cell_type": "code",
   "execution_count": 58,
   "metadata": {},
   "outputs": [],
   "source": [
    "#Using pycaret to preprocess the data for clustering algorithms "
   ]
  },
  {
   "cell_type": "code",
   "execution_count": 57,
   "metadata": {},
   "outputs": [
    {
     "name": "stdout",
     "output_type": "stream",
     "text": [
      "Setup Succesfully Completed!\n"
     ]
    },
    {
     "data": {
      "text/html": [
       "<style  type=\"text/css\" >\n",
       "#T_20bd28b4_e03a_11ea_b3a1_087190a449d4row12_col1,#T_20bd28b4_e03a_11ea_b3a1_087190a449d4row14_col1,#T_20bd28b4_e03a_11ea_b3a1_087190a449d4row17_col1,#T_20bd28b4_e03a_11ea_b3a1_087190a449d4row21_col1,#T_20bd28b4_e03a_11ea_b3a1_087190a449d4row23_col1{\n",
       "            background-color:  lightgreen;\n",
       "        }</style><table id=\"T_20bd28b4_e03a_11ea_b3a1_087190a449d4\" ><thead>    <tr>        <th class=\"blank level0\" ></th>        <th class=\"col_heading level0 col0\" >Description</th>        <th class=\"col_heading level0 col1\" >Value</th>    </tr></thead><tbody>\n",
       "                <tr>\n",
       "                        <th id=\"T_20bd28b4_e03a_11ea_b3a1_087190a449d4level0_row0\" class=\"row_heading level0 row0\" >0</th>\n",
       "                        <td id=\"T_20bd28b4_e03a_11ea_b3a1_087190a449d4row0_col0\" class=\"data row0 col0\" >session_id </td>\n",
       "                        <td id=\"T_20bd28b4_e03a_11ea_b3a1_087190a449d4row0_col1\" class=\"data row0 col1\" >123</td>\n",
       "            </tr>\n",
       "            <tr>\n",
       "                        <th id=\"T_20bd28b4_e03a_11ea_b3a1_087190a449d4level0_row1\" class=\"row_heading level0 row1\" >1</th>\n",
       "                        <td id=\"T_20bd28b4_e03a_11ea_b3a1_087190a449d4row1_col0\" class=\"data row1 col0\" >Original Data </td>\n",
       "                        <td id=\"T_20bd28b4_e03a_11ea_b3a1_087190a449d4row1_col1\" class=\"data row1 col1\" >(505, 4)</td>\n",
       "            </tr>\n",
       "            <tr>\n",
       "                        <th id=\"T_20bd28b4_e03a_11ea_b3a1_087190a449d4level0_row2\" class=\"row_heading level0 row2\" >2</th>\n",
       "                        <td id=\"T_20bd28b4_e03a_11ea_b3a1_087190a449d4row2_col0\" class=\"data row2 col0\" >Missing Values </td>\n",
       "                        <td id=\"T_20bd28b4_e03a_11ea_b3a1_087190a449d4row2_col1\" class=\"data row2 col1\" >False</td>\n",
       "            </tr>\n",
       "            <tr>\n",
       "                        <th id=\"T_20bd28b4_e03a_11ea_b3a1_087190a449d4level0_row3\" class=\"row_heading level0 row3\" >3</th>\n",
       "                        <td id=\"T_20bd28b4_e03a_11ea_b3a1_087190a449d4row3_col0\" class=\"data row3 col0\" >Numeric Features </td>\n",
       "                        <td id=\"T_20bd28b4_e03a_11ea_b3a1_087190a449d4row3_col1\" class=\"data row3 col1\" >4</td>\n",
       "            </tr>\n",
       "            <tr>\n",
       "                        <th id=\"T_20bd28b4_e03a_11ea_b3a1_087190a449d4level0_row4\" class=\"row_heading level0 row4\" >4</th>\n",
       "                        <td id=\"T_20bd28b4_e03a_11ea_b3a1_087190a449d4row4_col0\" class=\"data row4 col0\" >Categorical Features </td>\n",
       "                        <td id=\"T_20bd28b4_e03a_11ea_b3a1_087190a449d4row4_col1\" class=\"data row4 col1\" >0</td>\n",
       "            </tr>\n",
       "            <tr>\n",
       "                        <th id=\"T_20bd28b4_e03a_11ea_b3a1_087190a449d4level0_row5\" class=\"row_heading level0 row5\" >5</th>\n",
       "                        <td id=\"T_20bd28b4_e03a_11ea_b3a1_087190a449d4row5_col0\" class=\"data row5 col0\" >Ordinal Features </td>\n",
       "                        <td id=\"T_20bd28b4_e03a_11ea_b3a1_087190a449d4row5_col1\" class=\"data row5 col1\" >False</td>\n",
       "            </tr>\n",
       "            <tr>\n",
       "                        <th id=\"T_20bd28b4_e03a_11ea_b3a1_087190a449d4level0_row6\" class=\"row_heading level0 row6\" >6</th>\n",
       "                        <td id=\"T_20bd28b4_e03a_11ea_b3a1_087190a449d4row6_col0\" class=\"data row6 col0\" >High Cardinality Features </td>\n",
       "                        <td id=\"T_20bd28b4_e03a_11ea_b3a1_087190a449d4row6_col1\" class=\"data row6 col1\" >False</td>\n",
       "            </tr>\n",
       "            <tr>\n",
       "                        <th id=\"T_20bd28b4_e03a_11ea_b3a1_087190a449d4level0_row7\" class=\"row_heading level0 row7\" >7</th>\n",
       "                        <td id=\"T_20bd28b4_e03a_11ea_b3a1_087190a449d4row7_col0\" class=\"data row7 col0\" >Transformed Data </td>\n",
       "                        <td id=\"T_20bd28b4_e03a_11ea_b3a1_087190a449d4row7_col1\" class=\"data row7 col1\" >(505, 4)</td>\n",
       "            </tr>\n",
       "            <tr>\n",
       "                        <th id=\"T_20bd28b4_e03a_11ea_b3a1_087190a449d4level0_row8\" class=\"row_heading level0 row8\" >8</th>\n",
       "                        <td id=\"T_20bd28b4_e03a_11ea_b3a1_087190a449d4row8_col0\" class=\"data row8 col0\" >Numeric Imputer </td>\n",
       "                        <td id=\"T_20bd28b4_e03a_11ea_b3a1_087190a449d4row8_col1\" class=\"data row8 col1\" >mean</td>\n",
       "            </tr>\n",
       "            <tr>\n",
       "                        <th id=\"T_20bd28b4_e03a_11ea_b3a1_087190a449d4level0_row9\" class=\"row_heading level0 row9\" >9</th>\n",
       "                        <td id=\"T_20bd28b4_e03a_11ea_b3a1_087190a449d4row9_col0\" class=\"data row9 col0\" >Categorical Imputer </td>\n",
       "                        <td id=\"T_20bd28b4_e03a_11ea_b3a1_087190a449d4row9_col1\" class=\"data row9 col1\" >constant</td>\n",
       "            </tr>\n",
       "            <tr>\n",
       "                        <th id=\"T_20bd28b4_e03a_11ea_b3a1_087190a449d4level0_row10\" class=\"row_heading level0 row10\" >10</th>\n",
       "                        <td id=\"T_20bd28b4_e03a_11ea_b3a1_087190a449d4row10_col0\" class=\"data row10 col0\" >Normalize </td>\n",
       "                        <td id=\"T_20bd28b4_e03a_11ea_b3a1_087190a449d4row10_col1\" class=\"data row10 col1\" >False</td>\n",
       "            </tr>\n",
       "            <tr>\n",
       "                        <th id=\"T_20bd28b4_e03a_11ea_b3a1_087190a449d4level0_row11\" class=\"row_heading level0 row11\" >11</th>\n",
       "                        <td id=\"T_20bd28b4_e03a_11ea_b3a1_087190a449d4row11_col0\" class=\"data row11 col0\" >Normalize Method </td>\n",
       "                        <td id=\"T_20bd28b4_e03a_11ea_b3a1_087190a449d4row11_col1\" class=\"data row11 col1\" >None</td>\n",
       "            </tr>\n",
       "            <tr>\n",
       "                        <th id=\"T_20bd28b4_e03a_11ea_b3a1_087190a449d4level0_row12\" class=\"row_heading level0 row12\" >12</th>\n",
       "                        <td id=\"T_20bd28b4_e03a_11ea_b3a1_087190a449d4row12_col0\" class=\"data row12 col0\" >Transformation </td>\n",
       "                        <td id=\"T_20bd28b4_e03a_11ea_b3a1_087190a449d4row12_col1\" class=\"data row12 col1\" >True</td>\n",
       "            </tr>\n",
       "            <tr>\n",
       "                        <th id=\"T_20bd28b4_e03a_11ea_b3a1_087190a449d4level0_row13\" class=\"row_heading level0 row13\" >13</th>\n",
       "                        <td id=\"T_20bd28b4_e03a_11ea_b3a1_087190a449d4row13_col0\" class=\"data row13 col0\" >Transformation Method </td>\n",
       "                        <td id=\"T_20bd28b4_e03a_11ea_b3a1_087190a449d4row13_col1\" class=\"data row13 col1\" >yeo-johnson</td>\n",
       "            </tr>\n",
       "            <tr>\n",
       "                        <th id=\"T_20bd28b4_e03a_11ea_b3a1_087190a449d4level0_row14\" class=\"row_heading level0 row14\" >14</th>\n",
       "                        <td id=\"T_20bd28b4_e03a_11ea_b3a1_087190a449d4row14_col0\" class=\"data row14 col0\" >PCA </td>\n",
       "                        <td id=\"T_20bd28b4_e03a_11ea_b3a1_087190a449d4row14_col1\" class=\"data row14 col1\" >True</td>\n",
       "            </tr>\n",
       "            <tr>\n",
       "                        <th id=\"T_20bd28b4_e03a_11ea_b3a1_087190a449d4level0_row15\" class=\"row_heading level0 row15\" >15</th>\n",
       "                        <td id=\"T_20bd28b4_e03a_11ea_b3a1_087190a449d4row15_col0\" class=\"data row15 col0\" >PCA Method </td>\n",
       "                        <td id=\"T_20bd28b4_e03a_11ea_b3a1_087190a449d4row15_col1\" class=\"data row15 col1\" >linear</td>\n",
       "            </tr>\n",
       "            <tr>\n",
       "                        <th id=\"T_20bd28b4_e03a_11ea_b3a1_087190a449d4level0_row16\" class=\"row_heading level0 row16\" >16</th>\n",
       "                        <td id=\"T_20bd28b4_e03a_11ea_b3a1_087190a449d4row16_col0\" class=\"data row16 col0\" >PCA components </td>\n",
       "                        <td id=\"T_20bd28b4_e03a_11ea_b3a1_087190a449d4row16_col1\" class=\"data row16 col1\" >0.990000</td>\n",
       "            </tr>\n",
       "            <tr>\n",
       "                        <th id=\"T_20bd28b4_e03a_11ea_b3a1_087190a449d4level0_row17\" class=\"row_heading level0 row17\" >17</th>\n",
       "                        <td id=\"T_20bd28b4_e03a_11ea_b3a1_087190a449d4row17_col0\" class=\"data row17 col0\" >Ignore Low Variance </td>\n",
       "                        <td id=\"T_20bd28b4_e03a_11ea_b3a1_087190a449d4row17_col1\" class=\"data row17 col1\" >True</td>\n",
       "            </tr>\n",
       "            <tr>\n",
       "                        <th id=\"T_20bd28b4_e03a_11ea_b3a1_087190a449d4level0_row18\" class=\"row_heading level0 row18\" >18</th>\n",
       "                        <td id=\"T_20bd28b4_e03a_11ea_b3a1_087190a449d4row18_col0\" class=\"data row18 col0\" >Combine Rare Levels </td>\n",
       "                        <td id=\"T_20bd28b4_e03a_11ea_b3a1_087190a449d4row18_col1\" class=\"data row18 col1\" >False</td>\n",
       "            </tr>\n",
       "            <tr>\n",
       "                        <th id=\"T_20bd28b4_e03a_11ea_b3a1_087190a449d4level0_row19\" class=\"row_heading level0 row19\" >19</th>\n",
       "                        <td id=\"T_20bd28b4_e03a_11ea_b3a1_087190a449d4row19_col0\" class=\"data row19 col0\" >Rare Level Threshold </td>\n",
       "                        <td id=\"T_20bd28b4_e03a_11ea_b3a1_087190a449d4row19_col1\" class=\"data row19 col1\" >None</td>\n",
       "            </tr>\n",
       "            <tr>\n",
       "                        <th id=\"T_20bd28b4_e03a_11ea_b3a1_087190a449d4level0_row20\" class=\"row_heading level0 row20\" >20</th>\n",
       "                        <td id=\"T_20bd28b4_e03a_11ea_b3a1_087190a449d4row20_col0\" class=\"data row20 col0\" >Numeric Binning </td>\n",
       "                        <td id=\"T_20bd28b4_e03a_11ea_b3a1_087190a449d4row20_col1\" class=\"data row20 col1\" >False</td>\n",
       "            </tr>\n",
       "            <tr>\n",
       "                        <th id=\"T_20bd28b4_e03a_11ea_b3a1_087190a449d4level0_row21\" class=\"row_heading level0 row21\" >21</th>\n",
       "                        <td id=\"T_20bd28b4_e03a_11ea_b3a1_087190a449d4row21_col0\" class=\"data row21 col0\" >Remove Multicollinearity </td>\n",
       "                        <td id=\"T_20bd28b4_e03a_11ea_b3a1_087190a449d4row21_col1\" class=\"data row21 col1\" >True</td>\n",
       "            </tr>\n",
       "            <tr>\n",
       "                        <th id=\"T_20bd28b4_e03a_11ea_b3a1_087190a449d4level0_row22\" class=\"row_heading level0 row22\" >22</th>\n",
       "                        <td id=\"T_20bd28b4_e03a_11ea_b3a1_087190a449d4row22_col0\" class=\"data row22 col0\" >Multicollinearity Threshold </td>\n",
       "                        <td id=\"T_20bd28b4_e03a_11ea_b3a1_087190a449d4row22_col1\" class=\"data row22 col1\" >0.900000</td>\n",
       "            </tr>\n",
       "            <tr>\n",
       "                        <th id=\"T_20bd28b4_e03a_11ea_b3a1_087190a449d4level0_row23\" class=\"row_heading level0 row23\" >23</th>\n",
       "                        <td id=\"T_20bd28b4_e03a_11ea_b3a1_087190a449d4row23_col0\" class=\"data row23 col0\" >Group Features </td>\n",
       "                        <td id=\"T_20bd28b4_e03a_11ea_b3a1_087190a449d4row23_col1\" class=\"data row23 col1\" >True</td>\n",
       "            </tr>\n",
       "    </tbody></table>"
      ],
      "text/plain": [
       "<pandas.io.formats.style.Styler at 0x298fa06b748>"
      ]
     },
     "metadata": {},
     "output_type": "display_data"
    },
    {
     "name": "stderr",
     "output_type": "stream",
     "text": [
      "INFO:logs:Logging experiment in MLFlow\n",
      "INFO:logs:SubProcess save_model() called ==================================\n",
      "INFO:logs:Initializing save_model()\n",
      "INFO:logs:save_model(model=Pipeline(memory=None,\n",
      "         steps=[('dtypes',\n",
      "                 DataTypes_Auto_infer(categorical_features=[],\n",
      "                                      display_types=True, features_todrop=[],\n",
      "                                      ml_usecase='regression',\n",
      "                                      numerical_features=[],\n",
      "                                      target='dummy_target',\n",
      "                                      time_features=[])),\n",
      "                ('imputer',\n",
      "                 Simple_Imputer(categorical_strategy='not_available',\n",
      "                                numeric_strategy='mean',\n",
      "                                target_variable=None)),\n",
      "                ('new_levels1',\n",
      "                 New_Catagorical_L...\n",
      "                ('clean_names', Clean_Colum_Names()),\n",
      "                ('fix_multi',\n",
      "                 Fix_multicollinearity(correlation_with_target_preference=None,\n",
      "                                       correlation_with_target_threshold=0.0,\n",
      "                                       target_variable='dummy_target',\n",
      "                                       threshold=0.9)),\n",
      "                ('pca',\n",
      "                 Reduce_Dimensions_For_Supervised_Path(method='pca_liner',\n",
      "                                                       random_state=123,\n",
      "                                                       target='dummy_target',\n",
      "                                                       variance_retained_or_number_of_components=None))],\n",
      "         verbose=False), model_name=Transformation Pipeline, verbose=False)\n",
      "INFO:logs:Appending prep pipeline\n",
      "INFO:logs:Transformation Pipeline.pkl saved in current working directory\n",
      "INFO:logs:[Pipeline(memory=None,\n",
      "         steps=[('dtypes',\n",
      "                 DataTypes_Auto_infer(categorical_features=[],\n",
      "                                      display_types=True, features_todrop=[],\n",
      "                                      ml_usecase='regression',\n",
      "                                      numerical_features=[],\n",
      "                                      target='dummy_target',\n",
      "                                      time_features=[])),\n",
      "                ('imputer',\n",
      "                 Simple_Imputer(categorical_strategy='not_available',\n",
      "                                numeric_strategy='mean',\n",
      "                                target_variable=None)),\n",
      "                ('new_levels1',\n",
      "                 New_Catagorical_L...\n",
      "                ('clean_names', Clean_Colum_Names()),\n",
      "                ('fix_multi',\n",
      "                 Fix_multicollinearity(correlation_with_target_preference=None,\n",
      "                                       correlation_with_target_threshold=0.0,\n",
      "                                       target_variable='dummy_target',\n",
      "                                       threshold=0.9)),\n",
      "                ('pca',\n",
      "                 Reduce_Dimensions_For_Supervised_Path(method='pca_liner',\n",
      "                                                       random_state=123,\n",
      "                                                       target='dummy_target',\n",
      "                                                       variance_retained_or_number_of_components=None))],\n",
      "         verbose=False), Pipeline(memory=None,\n",
      "         steps=[('dtypes',\n",
      "                 DataTypes_Auto_infer(categorical_features=[],\n",
      "                                      display_types=True, features_todrop=[],\n",
      "                                      ml_usecase='regression',\n",
      "                                      numerical_features=[],\n",
      "                                      target='dummy_target',\n",
      "                                      time_features=[])),\n",
      "                ('imputer',\n",
      "                 Simple_Imputer(categorical_strategy='not_available',\n",
      "                                numeric_strategy='mean',\n",
      "                                target_variable=None)),\n",
      "                ('new_levels1',\n",
      "                 New_Catagorical_L...\n",
      "                ('clean_names', Clean_Colum_Names()),\n",
      "                ('fix_multi',\n",
      "                 Fix_multicollinearity(correlation_with_target_preference=None,\n",
      "                                       correlation_with_target_threshold=0.0,\n",
      "                                       target_variable='dummy_target',\n",
      "                                       threshold=0.9)),\n",
      "                ('pca',\n",
      "                 Reduce_Dimensions_For_Supervised_Path(method='pca_liner',\n",
      "                                                       random_state=123,\n",
      "                                                       target='dummy_target',\n",
      "                                                       variance_retained_or_number_of_components=None))],\n",
      "         verbose=False)]\n",
      "INFO:logs:save_model() succesfully completed......................................\n",
      "INFO:logs:SubProcess save_model() end ==================================\n",
      "INFO:logs:Pipeline(memory=None,\n",
      "         steps=[('dtypes',\n",
      "                 DataTypes_Auto_infer(categorical_features=[],\n",
      "                                      display_types=True, features_todrop=[],\n",
      "                                      ml_usecase='regression',\n",
      "                                      numerical_features=[],\n",
      "                                      target='dummy_target',\n",
      "                                      time_features=[])),\n",
      "                ('imputer',\n",
      "                 Simple_Imputer(categorical_strategy='not_available',\n",
      "                                numeric_strategy='mean',\n",
      "                                target_variable=None)),\n",
      "                ('new_levels1',\n",
      "                 New_Catagorical_L...\n",
      "                ('clean_names', Clean_Colum_Names()),\n",
      "                ('fix_multi',\n",
      "                 Fix_multicollinearity(correlation_with_target_preference=None,\n",
      "                                       correlation_with_target_threshold=0.0,\n",
      "                                       target_variable='dummy_target',\n",
      "                                       threshold=0.9)),\n",
      "                ('pca',\n",
      "                 Reduce_Dimensions_For_Supervised_Path(method='pca_liner',\n",
      "                                                       random_state=123,\n",
      "                                                       target='dummy_target',\n",
      "                                                       variance_retained_or_number_of_components=None))],\n",
      "         verbose=False)\n",
      "INFO:logs:setup() succesfully completed......................................\n"
     ]
    }
   ],
   "source": [
    "#import clustering module\n",
    "from pycaret.clustering import *\n",
    "\n",
    "#intialize the setup\n",
    "clu1 = setup(df, remove_multicollinearity = True, multicollinearity_threshold = 0.9, \n",
    "             session_id=123, log_experiment=True, log_plots = True, \n",
    "             transformation=True,\n",
    "             pca=True,pca_components=0.99,pca_method='linear',\n",
    "             ignore_low_variance = True, group_features = ['Income','Savings','Age'] )\n",
    "             \n"
   ]
  },
  {
   "cell_type": "code",
   "execution_count": 59,
   "metadata": {},
   "outputs": [
    {
     "name": "stderr",
     "output_type": "stream",
     "text": [
      "INFO:logs:(505, 5)\n",
      "INFO:logs:assign_model() succesfully completed......................................\n"
     ]
    },
    {
     "data": {
      "text/plain": [
       "<Figure size 432x288 with 0 Axes>"
      ]
     },
     "metadata": {},
     "output_type": "display_data"
    }
   ],
   "source": [
    "# creating k-means model\n",
    "kmeans = create_model('kmeans')\n",
    "\n",
    "# assign labels using trained model\n",
    "kmeans_df = assign_model(kmeans)"
   ]
  },
  {
   "cell_type": "code",
   "execution_count": 60,
   "metadata": {},
   "outputs": [
    {
     "name": "stderr",
     "output_type": "stream",
     "text": [
      "INFO:logs:Initializing plot_model()\n",
      "INFO:logs:plot_model(model=KMeans(algorithm='auto', copy_x=True, init='k-means++', max_iter=300,\n",
      "       n_clusters=4, n_init=10, n_jobs=-1, precompute_distances='deprecated',\n",
      "       random_state=123, tol=0.0001, verbose=0), plot=cluster, feature=None, label=False, save=False, system=True)\n",
      "INFO:logs:Checking exceptions\n",
      "INFO:logs:Importing libraries\n"
     ]
    },
    {
     "data": {
      "text/html": [
       "        <script type=\"text/javascript\">\n",
       "        window.PlotlyConfig = {MathJaxConfig: 'local'};\n",
       "        if (window.MathJax) {MathJax.Hub.Config({SVG: {font: \"STIX-Web\"}});}\n",
       "        if (typeof require !== 'undefined') {\n",
       "        require.undef(\"plotly\");\n",
       "        requirejs.config({\n",
       "            paths: {\n",
       "                'plotly': ['https://cdn.plot.ly/plotly-latest.min']\n",
       "            }\n",
       "        });\n",
       "        require(['plotly'], function(Plotly) {\n",
       "            window._Plotly = Plotly;\n",
       "        });\n",
       "        }\n",
       "        </script>\n",
       "        "
      ]
     },
     "metadata": {},
     "output_type": "display_data"
    },
    {
     "name": "stderr",
     "output_type": "stream",
     "text": [
      "INFO:logs:plot type: cluster\n",
      "INFO:logs:SubProcess assign_model() called ==================================\n",
      "INFO:logs:Initializing assign_model()\n",
      "INFO:logs:assign_model(model=KMeans(algorithm='auto', copy_x=True, init='k-means++', max_iter=300,\n",
      "       n_clusters=4, n_init=10, n_jobs=-1, precompute_distances='deprecated',\n",
      "       random_state=123, tol=0.0001, verbose=0), transformation=True, verbose=False)\n",
      "INFO:logs:Checking exceptions\n",
      "INFO:logs:Preloading libraries\n",
      "INFO:logs:Copying data\n",
      "INFO:logs:Transformation param set to True. Assigned clusters are attached on transformed dataset.\n",
      "INFO:logs:Preparing display monitor\n",
      "INFO:logs:Determining Trained Model\n",
      "INFO:logs:Trained Model : K-Means Clustering\n",
      "INFO:logs:(505, 5)\n",
      "INFO:logs:assign_model() succesfully completed......................................\n",
      "INFO:logs:SubProcess assign_model() end ==================================\n",
      "INFO:logs:Fitting PCA()\n",
      "INFO:logs:Sorting dataframe\n",
      "INFO:logs:Rendering Visual\n"
     ]
    },
    {
     "data": {
      "application/vnd.plotly.v1+json": {
       "config": {
        "plotlyServerURL": "https://plot.ly"
       },
       "data": [
        {
         "customdata": [
          [
           89
          ],
          [
           91
          ],
          [
           92
          ],
          [
           90
          ],
          [
           93
          ],
          [
           89
          ],
          [
           88
          ],
          [
           87
          ],
          [
           86
          ],
          [
           82
          ],
          [
           91
          ],
          [
           88
          ],
          [
           87
          ],
          [
           91
          ],
          [
           90
          ],
          [
           85
          ],
          [
           91
          ],
          [
           88
          ],
          [
           85
          ],
          [
           85
          ],
          [
           88
          ],
          [
           84
          ],
          [
           88
          ],
          [
           94
          ],
          [
           86
          ],
          [
           94
          ],
          [
           89
          ],
          [
           87
          ],
          [
           84
          ],
          [
           91
          ],
          [
           91
          ],
          [
           88
          ],
          [
           88
          ],
          [
           89
          ],
          [
           91
          ],
          [
           90
          ],
          [
           89
          ],
          [
           83
          ],
          [
           83
          ],
          [
           86
          ],
          [
           84
          ],
          [
           94
          ],
          [
           94
          ],
          [
           79
          ],
          [
           88
          ],
          [
           85
          ],
          [
           82
          ],
          [
           82
          ],
          [
           91
          ],
          [
           91
          ],
          [
           89
          ],
          [
           84
          ],
          [
           87
          ],
          [
           81
          ],
          [
           93
          ],
          [
           84
          ],
          [
           95
          ],
          [
           89
          ],
          [
           86
          ],
          [
           85
          ],
          [
           87
          ],
          [
           92
          ],
          [
           89
          ],
          [
           85
          ],
          [
           88
          ],
          [
           86
          ],
          [
           94
          ],
          [
           87
          ],
          [
           85
          ],
          [
           83
          ],
          [
           87
          ],
          [
           88
          ],
          [
           84
          ],
          [
           85
          ],
          [
           91
          ],
          [
           90
          ],
          [
           88
          ],
          [
           89
          ],
          [
           88
          ],
          [
           92
          ],
          [
           90
          ],
          [
           85
          ],
          [
           88
          ],
          [
           94
          ],
          [
           84
          ],
          [
           91
          ],
          [
           88
          ],
          [
           87
          ],
          [
           86
          ],
          [
           83
          ],
          [
           83
          ],
          [
           91
          ],
          [
           86
          ],
          [
           89
          ],
          [
           92
          ],
          [
           87
          ],
          [
           84
          ],
          [
           83
          ],
          [
           83
          ],
          [
           85
          ],
          [
           90
          ],
          [
           97
          ],
          [
           92
          ],
          [
           87
          ],
          [
           91
          ],
          [
           83
          ],
          [
           87
          ],
          [
           91
          ],
          [
           82
          ],
          [
           91
          ],
          [
           90
          ],
          [
           86
          ],
          [
           85
          ],
          [
           90
          ],
          [
           84
          ],
          [
           87
          ],
          [
           84
          ],
          [
           88
          ],
          [
           91
          ],
          [
           84
          ],
          [
           94
          ],
          [
           89
          ],
          [
           92
          ],
          [
           89
          ],
          [
           90
          ],
          [
           90
          ],
          [
           88
          ],
          [
           88
          ],
          [
           93
          ],
          [
           90
          ],
          [
           87
          ],
          [
           87
          ],
          [
           91
          ],
          [
           87
          ],
          [
           87
          ],
          [
           92
          ],
          [
           84
          ],
          [
           87
          ],
          [
           87
          ],
          [
           83
          ],
          [
           79
          ],
          [
           92
          ],
          [
           91
          ],
          [
           83
          ],
          [
           86
          ],
          [
           84
          ],
          [
           82
          ]
         ],
         "hovertemplate": "Cluster=Cluster 0<br>PCA1=%{x}<br>PCA2=%{y}<br>Feature=%{customdata[0]}<extra></extra>",
         "legendgroup": "Cluster 0",
         "marker": {
          "color": "#636efa",
          "opacity": 0.5,
          "symbol": "circle"
         },
         "mode": "markers",
         "name": "Cluster 0",
         "orientation": "v",
         "showlegend": true,
         "textposition": "top center",
         "type": "scatter",
         "x": [
          -1.8636656581666913,
          -2.374533541094474,
          -2.369496925337856,
          -1.8227189752383326,
          -2.423058992262573,
          -2.0485306471562916,
          -2.1281821705683424,
          -2.0213459309656634,
          -2.2528272769009536,
          -1.9858226325569597,
          -1.77459800081042,
          -1.8804739318083512,
          -1.7148009743741102,
          -1.9088444211627618,
          -2.452626138008338,
          -2.047745624472743,
          -2.023161133708442,
          -1.8395174460656807,
          -1.7996522885874897,
          -1.7770831933178644,
          -1.7926200051584749,
          -1.7460120092235545,
          -2.1266975237682515,
          -2.0360530659970184,
          -1.888804691838328,
          -1.9925441464619895,
          -2.083297872384071,
          -1.9178612610974093,
          -1.9908126604758496,
          -2.1865340735225045,
          -2.0036720271273567,
          -2.0515360202408934,
          -1.8004766255138507,
          -1.5495737159842309,
          -2.391661026820781,
          -1.7355409240057214,
          -1.89603259486379,
          -2.0812517342524814,
          -2.0082402129648966,
          -2.051968319125883,
          -2.0358001949702875,
          -2.345314119564446,
          -2.194730663671257,
          -1.5729548759340237,
          -2.1690020936216965,
          -2.0546156998643954,
          -1.6261948917411886,
          -1.8489723727778606,
          -2.293327607424447,
          -2.3092654085216817,
          -2.1354234653939863,
          -1.809195114153167,
          -2.0635923925835535,
          -1.869693387482338,
          -2.3774091813600036,
          -2.3270890692195936,
          -2.3051625387940575,
          -2.172785162710231,
          -1.6960324087541438,
          -1.7570592103309852,
          -1.9732757567732813,
          -1.9532327809330488,
          -2.062966457647544,
          -1.973680588271361,
          -2.2119796415296373,
          -2.2097784263166416,
          -2.0178493241062583,
          -2.1992289792082755,
          -2.1395955573551086,
          -1.6614220892254672,
          -1.5735189359648833,
          -1.9139398289969443,
          -1.788226414568858,
          -1.9003333640436497,
          -2.127457648424265,
          -2.0774443590224694,
          -1.864537808339332,
          -2.2081950304867153,
          -2.0009943722032077,
          -1.8931809064029326,
          -2.166482065205713,
          -2.0868916624905913,
          -1.8685827656925533,
          -2.2564811949637775,
          -2.0127236492041414,
          -2.1039051220058558,
          -2.320656748728342,
          -1.8443763220892255,
          -2.086975367014561,
          -1.8136935618018801,
          -2.0375358260411733,
          -2.227742203797159,
          -2.221844869339869,
          -1.9996680663725108,
          -2.020989236358968,
          -2.1448936990412326,
          -1.7472747772178947,
          -1.9779868912938163,
          -2.035340256420358,
          -1.7319804123432545,
          -2.0778098350116108,
          -2.127275309172161,
          -2.1176302460851137,
          -2.0693779838711537,
          -2.2067491024081924,
          -2.1094049851484056,
          -1.9209202960621763,
          -2.1210730761003864,
          -1.8435247430455024,
          -2.152860708889821,
          -2.069164939153641,
          -2.024275040129167,
          -1.841791679445063,
          -2.0070670691069887,
          -2.2944143255580283,
          -1.9356422934774302,
          -2.1175062998251226,
          -1.7983299609253618,
          -2.1664925475021266,
          -1.7748672326573067,
          -2.2451236519503177,
          -1.9072786359743876,
          -1.9665328888727516,
          -1.6345690250031073,
          -1.907598048553899,
          -1.8290505411500881,
          -2.3502955000636896,
          -1.6429863324625031,
          -2.6656917566508236,
          -1.988442805652188,
          -1.8547132546847152,
          -1.801465934975132,
          -1.9704394995737446,
          -2.1433273223131404,
          -1.9287009958696084,
          -1.90009873358035,
          -1.9659122938964113,
          -2.0873763324455994,
          -1.865642366643535,
          -1.6446304537095857,
          -1.6975240785950696,
          -2.253462481128289,
          -2.313420213063416,
          -1.8314674117580556,
          -2.029019844940109,
          -1.9846982930544628,
          -2.116555590344918
         ],
         "xaxis": "x",
         "y": [
          -0.6258151422256333,
          -0.19986449367467798,
          -0.498321051248277,
          -0.612288351350893,
          -0.6292790839719136,
          -0.5610539288840752,
          -0.3813601580753978,
          -0.38724448109676335,
          -0.03476770751989854,
          -0.1227980931152612,
          -1.365455813043873,
          -0.41784549114463093,
          -1.2957986189171586,
          -0.42602388606924635,
          -0.3343231093090776,
          -0.6347869283588532,
          -0.53046369842688,
          -0.7677439238529982,
          -0.6329196244014931,
          -0.4286443013147315,
          -0.5368595345290521,
          -0.15104755781882093,
          -0.4713355038544475,
          -0.7098605071969625,
          -0.5545895967708558,
          -0.3664517644331365,
          -0.5876200552454818,
          -0.6792585293172957,
          -0.42121001431963073,
          -0.4177645006827937,
          -0.6735660617061694,
          -0.6938994058658949,
          -0.7330371840191491,
          -1.209328447650242,
          -0.15897115820991828,
          -0.7037902431808634,
          -0.4971944467549767,
          -0.6486172172868383,
          -0.39125445103451184,
          -0.7701991709246764,
          -0.29922884526696947,
          -0.7386944353476823,
          -0.8289064780374262,
          -0.2967833830977078,
          -0.6847309293714421,
          -0.258257669902242,
          -0.883886536650911,
          -0.3118624703382196,
          -0.755631607542182,
          -0.6008433946217793,
          -0.7256701058721963,
          -0.6285490090408636,
          -0.5709728490963842,
          -0.17184519002992701,
          -0.6005929687194741,
          -0.04214287287444822,
          -0.5009054895034648,
          -0.4556375174952073,
          -0.10373767699826783,
          -0.6945287751766598,
          -0.6142574499137377,
          -0.45133638902052176,
          -0.8575386266744814,
          -0.41022782354729126,
          -0.1177425546062116,
          0.04324227086123061,
          -0.7630600617939378,
          -0.651640688543269,
          -0.21896834775973778,
          -0.707172083438287,
          -0.27448938263036954,
          -1.0673045344175514,
          -0.2606101674048226,
          -0.2782970539763923,
          -0.6187354028238234,
          -0.43685969239934225,
          -0.5143336946548525,
          -0.22873718156968773,
          -0.5586269234033744,
          -0.6241379038994436,
          -0.5196290703713561,
          -0.3998810000269718,
          -0.6670398735427571,
          -0.48392169168210963,
          -0.6069831296155797,
          -0.592664815928642,
          -0.5773107537026588,
          -0.5581729999782408,
          -0.06206677509219742,
          -0.4539605456942685,
          -0.10692710632172438,
          -0.4779413528176799,
          -0.6344722354772396,
          -0.8134351751378349,
          -0.368584575574983,
          -0.5415378467249985,
          -0.3553595552789174,
          -0.27810597206258675,
          -0.498292110879267,
          -0.7028252968204058,
          -0.31905343312082207,
          -0.7437629992420919,
          -0.9211040870199123,
          -0.6022316514056896,
          -0.41495577228657127,
          -0.2080029944904488,
          -0.45314039864070627,
          -0.5661674698209388,
          -0.2862046402458093,
          -0.6153714110611301,
          -0.6666359630825233,
          -0.6067761489689601,
          -0.8440428371885619,
          -0.8076511898921225,
          -0.4487113791632085,
          -0.6323693220020185,
          -0.40384924522401255,
          -0.6351235333971477,
          -0.6636060272543389,
          -0.5503567238883177,
          -0.6473384409233435,
          -0.6676669125385148,
          -0.5203287677049505,
          -0.7225971930953071,
          -0.3688296946574561,
          -0.5276605272981287,
          -0.5513937485339039,
          -0.7320127096825795,
          -0.2943744093384687,
          -0.5782831024818612,
          -0.7378043508254775,
          -0.6441903197543474,
          -0.5689438481817474,
          -0.751430347103945,
          -1.0776156132551244,
          -0.527117614389498,
          -0.7176604997089461,
          -0.3404570893742994,
          -0.13115287145968516,
          -0.494442222509753,
          -0.3582505573311877,
          -0.6160746026810812,
          0.020120626197968273,
          -0.2914770755694627,
          -0.44466360481616807,
          -0.4261470075743978,
          -0.3205744688040287
         ],
         "yaxis": "y"
        },
        {
         "customdata": [
          [
           65
          ],
          [
           57
          ],
          [
           65
          ],
          [
           59
          ],
          [
           61
          ],
          [
           60
          ],
          [
           55
          ],
          [
           63
          ],
          [
           62
          ],
          [
           59
          ],
          [
           67
          ],
          [
           58
          ],
          [
           66
          ],
          [
           58
          ],
          [
           57
          ],
          [
           57
          ],
          [
           66
          ],
          [
           59
          ],
          [
           68
          ],
          [
           61
          ],
          [
           58
          ],
          [
           59
          ],
          [
           61
          ],
          [
           64
          ],
          [
           63
          ],
          [
           64
          ],
          [
           62
          ],
          [
           61
          ],
          [
           62
          ],
          [
           67
          ],
          [
           61
          ],
          [
           57
          ],
          [
           63
          ],
          [
           56
          ],
          [
           51
          ],
          [
           59
          ],
          [
           58
          ],
          [
           55
          ],
          [
           61
          ],
          [
           55
          ],
          [
           58
          ],
          [
           68
          ],
          [
           58
          ],
          [
           67
          ],
          [
           56
          ],
          [
           59
          ],
          [
           59
          ],
          [
           57
          ],
          [
           60
          ],
          [
           67
          ],
          [
           61
          ],
          [
           60
          ],
          [
           59
          ],
          [
           57
          ],
          [
           59
          ],
          [
           59
          ],
          [
           58
          ],
          [
           63
          ],
          [
           61
          ],
          [
           56
          ],
          [
           58
          ],
          [
           56
          ],
          [
           59
          ],
          [
           61
          ],
          [
           60
          ],
          [
           56
          ],
          [
           63
          ],
          [
           58
          ],
          [
           59
          ],
          [
           62
          ],
          [
           59
          ],
          [
           59
          ],
          [
           65
          ],
          [
           64
          ],
          [
           59
          ],
          [
           59
          ],
          [
           61
          ],
          [
           64
          ],
          [
           58
          ],
          [
           57
          ],
          [
           58
          ],
          [
           56
          ],
          [
           63
          ],
          [
           58
          ],
          [
           60
          ],
          [
           58
          ],
          [
           62
          ],
          [
           66
          ],
          [
           66
          ],
          [
           63
          ],
          [
           64
          ],
          [
           62
          ],
          [
           62
          ],
          [
           60
          ],
          [
           65
          ],
          [
           60
          ],
          [
           63
          ],
          [
           56
          ],
          [
           58
          ],
          [
           62
          ],
          [
           56
          ],
          [
           59
          ],
          [
           65
          ],
          [
           62
          ],
          [
           59
          ],
          [
           64
          ],
          [
           66
          ],
          [
           59
          ],
          [
           59
          ],
          [
           59
          ],
          [
           62
          ],
          [
           59
          ],
          [
           54
          ],
          [
           61
          ],
          [
           55
          ],
          [
           53
          ],
          [
           55
          ],
          [
           61
          ],
          [
           59
          ],
          [
           59
          ],
          [
           56
          ],
          [
           61
          ],
          [
           61
          ],
          [
           60
          ],
          [
           57
          ],
          [
           61
          ],
          [
           55
          ],
          [
           53
          ],
          [
           61
          ],
          [
           64
          ],
          [
           62
          ],
          [
           55
          ],
          [
           58
          ],
          [
           57
          ],
          [
           58
          ],
          [
           64
          ],
          [
           57
          ],
          [
           62
          ],
          [
           56
          ],
          [
           53
          ],
          [
           60
          ],
          [
           56
          ],
          [
           62
          ],
          [
           61
          ],
          [
           62
          ],
          [
           55
          ],
          [
           60
          ],
          [
           58
          ],
          [
           61
          ],
          [
           59
          ],
          [
           58
          ],
          [
           56
          ],
          [
           60
          ],
          [
           62
          ],
          [
           58
          ],
          [
           64
          ],
          [
           63
          ]
         ],
         "hovertemplate": "Cluster=Cluster 1<br>PCA1=%{x}<br>PCA2=%{y}<br>Feature=%{customdata[0]}<extra></extra>",
         "legendgroup": "Cluster 1",
         "marker": {
          "color": "#EF553B",
          "opacity": 0.5,
          "symbol": "circle"
         },
         "mode": "markers",
         "name": "Cluster 1",
         "orientation": "v",
         "showlegend": true,
         "textposition": "top center",
         "type": "scatter",
         "x": [
          0.6767555813086105,
          0.9005908975107203,
          0.6289915187685119,
          1.1037637808734089,
          0.6934240506315865,
          1.038930075538572,
          1.1427839738533208,
          0.8633159103054844,
          0.8536519143080914,
          1.162212913200068,
          0.6986928608105032,
          1.0559787394138542,
          0.8226118030067687,
          1.168420432038246,
          0.892889703086677,
          1.2101903532054157,
          0.7209141382779787,
          0.9572640021850712,
          0.9347011941639924,
          0.7727616624814315,
          1.0794144165845194,
          1.0421420057485216,
          0.855887681173991,
          0.9751339367328689,
          0.5523949612281098,
          0.9258124483295305,
          0.9829074429294044,
          0.8102615379626676,
          1.1465132000412679,
          0.6845418472836932,
          0.9602258138734748,
          0.9957331883505438,
          1.067711932617791,
          0.9783887460441585,
          1.1620088335476766,
          1.2188363288469797,
          0.9298969616618579,
          0.9136386239435411,
          1.095871103975671,
          0.9608674181525351,
          1.1747255638017682,
          0.6844437492145922,
          0.6822333163951089,
          1.0277219325646354,
          1.0030545182834545,
          0.9558157606296528,
          1.243301551681682,
          1.2567813274275157,
          0.8372718360673834,
          0.9695973878074936,
          0.8770820576966031,
          0.8657368914762053,
          0.8375655278201983,
          0.8857427843470345,
          0.8543410820832849,
          0.826017782668841,
          0.8635970208905537,
          0.7994825824080191,
          0.8858786257136019,
          1.0172261313538722,
          0.9624891203587376,
          1.06739091090935,
          0.8577529208499091,
          0.8952102622525635,
          0.7183340820321099,
          1.1213877890622477,
          0.8194226017607819,
          1.1016468619801523,
          0.8053779254771929,
          0.8749818861021842,
          0.9731830073793092,
          0.6243941529805819,
          0.7974053106599154,
          0.548523103805933,
          0.8483843034826849,
          0.95586665933028,
          0.6782591498199464,
          0.8169659025020819,
          1.1015495859252002,
          1.1043395471394475,
          1.069231305256786,
          0.9516103092830008,
          1.052675336894337,
          0.920245728358531,
          1.275174959749592,
          0.8819795518096878,
          0.9102047599484204,
          0.9014530227270173,
          0.8691533189759195,
          1.0730438407971377,
          0.9289988908475305,
          0.800164380778297,
          0.688256491337077,
          0.8450642778398603,
          0.7941198343541459,
          0.7568685061814219,
          1.1234548316429822,
          1.1509428093540133,
          1.0235753236382334,
          0.8052714050460325,
          0.8635239553447086,
          0.8322069913432987,
          0.8305222941008357,
          0.8749580078755799,
          0.915766879014843,
          1.0194551316256588,
          0.996664086847291,
          0.6386583128721323,
          1.052754558060755,
          1.2389285120102234,
          0.5841523746564435,
          0.9236218387889907,
          1.1315322135905146,
          0.8993142187116165,
          0.9128492671527785,
          1.2784790869545155,
          1.0563415877985827,
          0.9204438304636021,
          0.9157360636443516,
          0.8457332092607606,
          0.8027455532259723,
          1.0959157579468348,
          0.8389819600656206,
          0.8960450734867577,
          0.9588314977406173,
          0.927514019610573,
          1.1410388984551756,
          0.8247997184306333,
          1.1062919504862863,
          0.6028084027538111,
          1.064714173344325,
          0.9405977386393248,
          0.90634367976411,
          1.0978611422652433,
          0.9045361288390404,
          0.8918047820920554,
          1.1413156359777066,
          0.7926242223715362,
          0.8250701371687528,
          0.9738221365047774,
          0.6350918681431171,
          0.7548728167990661,
          0.9866460842384398,
          0.6466245579682519,
          0.7405136174260203,
          1.3071762279477346,
          0.9455067177101861,
          1.2330517827765552,
          0.7401807249388199,
          0.8568612717928211,
          1.2014161902256661,
          0.980743147771724,
          0.8725753153576618,
          0.9129932959899973,
          1.0481144830386286,
          1.0042282366184978,
          0.711320328290931
         ],
         "xaxis": "x",
         "y": [
          -1.1020268804345708,
          -1.0389477566615792,
          -1.0469668987722534,
          -1.371076630586716,
          -0.8868224432526508,
          -1.4400040105522407,
          -1.0900995543006022,
          -1.0902178952844597,
          -1.4241430722653803,
          -1.2235070631803457,
          -1.5672593755697783,
          -1.0024765353671157,
          -1.089043743920491,
          -1.361609430220461,
          -1.1749988068228892,
          -1.174332711662221,
          -1.1582370854245343,
          -1.1969440200535526,
          -1.2785987412008157,
          -0.9266518479996232,
          -1.2811560666549222,
          -1.1060649470858488,
          -1.1123615804806652,
          -1.2006178146143434,
          -1.3406732423357046,
          -1.071719377252021,
          -1.4067500737745866,
          -1.1863683268563303,
          -1.38613809368508,
          -1.2558536463571262,
          -0.991001056229387,
          -1.0773034022077337,
          -1.5576049879602591,
          -0.7694542618173396,
          -1.0117936393101472,
          -1.0868148663186616,
          -0.7972592263002745,
          -1.1372362242037928,
          -1.438907192639037,
          -0.8151670252871678,
          -1.1297067442049562,
          -1.279770848144357,
          -0.8775748064239428,
          -1.2974663078454451,
          -1.0102951993116442,
          -1.08771096365356,
          -0.8737160501180272,
          -1.121677527498012,
          -1.0874966954327323,
          -1.1833780350423906,
          -1.3090141928837238,
          -0.9894645604015304,
          -0.9402930786402184,
          -1.1866224988147518,
          -1.5233028092421992,
          -1.1189624693314657,
          -1.0261252251103659,
          -1.1592160359625308,
          -1.124527634283927,
          -1.2708885544935882,
          -0.9546454927225206,
          -1.0062368366777388,
          -1.1481255789260891,
          -1.1464524979641628,
          -1.1791279335747749,
          -0.966908810051465,
          -0.8199345027050957,
          -1.0474542579472716,
          -0.7767196534153838,
          -1.242285087898249,
          -1.2253835035150185,
          -0.9170204650287268,
          -1.1134149979243335,
          -1.1783785603054417,
          -0.720732512015024,
          -1.0991082193263968,
          -1.10199901030973,
          -1.41077349199032,
          -1.058083861274631,
          -1.0566645427236594,
          -1.2310424993569915,
          -0.5612013687660501,
          -0.9694267631574132,
          -1.0978556351824904,
          -1.2512043143814857,
          -1.0612874230718372,
          -1.139288779125236,
          -1.325673019723419,
          -1.5267508319336691,
          -1.3800080058270747,
          -1.3097488905219548,
          -1.3370741687480179,
          -1.255393445721572,
          -1.0754139963702536,
          -1.3845676400484241,
          -0.9867171266662849,
          -1.1817174468078606,
          -0.832704798650178,
          -1.0430090172219646,
          -1.105979523862415,
          -0.9988048977858738,
          -1.115448842473186,
          -1.4145205125981397,
          -0.8945167216754263,
          -1.2108401712073105,
          -0.893974361498649,
          -1.115301315750582,
          -0.7236212994677284,
          -1.2068397204390722,
          -1.1166191963197158,
          -0.7626815016248879,
          -1.013989693745034,
          -0.9667008524508812,
          -1.156480821538551,
          -0.9262449890301067,
          -1.066370413245827,
          -0.8715486334039946,
          -1.013251372501809,
          -1.282710113786523,
          -1.0719987277715022,
          -1.096863166317681,
          -1.2768047999006669,
          -1.3439104998549152,
          -1.1639532943038564,
          -0.9332159326271118,
          -1.1389872595294996,
          -1.0840384878511637,
          -1.0494877933385705,
          -1.4554738612501887,
          -1.314586278865548,
          -1.4324646694117091,
          -0.9724469050703461,
          -0.9521055129281144,
          -0.9606653721045388,
          -0.8737829842470909,
          -1.1021683765583148,
          -1.1721047857937452,
          -1.2203097151618585,
          -0.9858050849570846,
          -0.8026656981185191,
          -1.0309934727568986,
          -1.1638342701356186,
          -1.0780946874050465,
          -0.9484422483224487,
          -1.122662356942112,
          -1.2159008198274392,
          -1.3022786802555617,
          -1.035482756788976,
          -1.0214891854398949,
          -1.0272994187351234,
          -1.0906985105289992,
          -1.1753344690444896,
          -1.2805868930321378,
          -1.2781570086701988,
          -0.9771324416841003,
          -0.9345862106521816,
          -1.0868042347286566
         ],
         "yaxis": "y"
        },
        {
         "customdata": [
          [
           38
          ],
          [
           29
          ],
          [
           36
          ],
          [
           31
          ],
          [
           39
          ],
          [
           88
          ],
          [
           86
          ],
          [
           35
          ],
          [
           30
          ],
          [
           35
          ],
          [
           25
          ],
          [
           37
          ],
          [
           30
          ],
          [
           36
          ],
          [
           34
          ],
          [
           33
          ],
          [
           36
          ],
          [
           32
          ],
          [
           83
          ],
          [
           31
          ],
          [
           37
          ],
          [
           36
          ],
          [
           90
          ],
          [
           31
          ],
          [
           37
          ],
          [
           35
          ],
          [
           33
          ],
          [
           84
          ],
          [
           37
          ],
          [
           29
          ],
          [
           44
          ],
          [
           32
          ],
          [
           31
          ],
          [
           29
          ],
          [
           36
          ],
          [
           31
          ],
          [
           90
          ],
          [
           33
          ],
          [
           33
          ],
          [
           89
          ],
          [
           29
          ],
          [
           32
          ],
          [
           84
          ],
          [
           30
          ],
          [
           88
          ],
          [
           38
          ],
          [
           92
          ],
          [
           31
          ],
          [
           30
          ],
          [
           36
          ],
          [
           85
          ],
          [
           30
          ],
          [
           28
          ],
          [
           37
          ],
          [
           29
          ],
          [
           31
          ],
          [
           29
          ],
          [
           31
          ],
          [
           33
          ],
          [
           31
          ],
          [
           83
          ],
          [
           34
          ],
          [
           22
          ],
          [
           87
          ],
          [
           34
          ],
          [
           25
          ],
          [
           31
          ],
          [
           31
          ],
          [
           31
          ],
          [
           35
          ],
          [
           28
          ],
          [
           33
          ],
          [
           31
          ],
          [
           28
          ],
          [
           39
          ],
          [
           36
          ],
          [
           32
          ],
          [
           93
          ],
          [
           36
          ],
          [
           34
          ],
          [
           37
          ],
          [
           33
          ],
          [
           43
          ],
          [
           33
          ],
          [
           26
          ],
          [
           24
          ],
          [
           31
          ],
          [
           29
          ],
          [
           36
          ],
          [
           86
          ],
          [
           33
          ],
          [
           29
          ],
          [
           40
          ],
          [
           35
          ],
          [
           32
          ],
          [
           37
          ],
          [
           34
          ],
          [
           34
          ],
          [
           84
          ],
          [
           82
          ],
          [
           88
          ],
          [
           85
          ],
          [
           35
          ],
          [
           33
          ],
          [
           33
          ],
          [
           29
          ],
          [
           83
          ],
          [
           28
          ],
          [
           31
          ],
          [
           37
          ],
          [
           31
          ],
          [
           33
          ],
          [
           30
          ],
          [
           30
          ],
          [
           34
          ],
          [
           30
          ],
          [
           30
          ],
          [
           86
          ],
          [
           29
          ],
          [
           30
          ],
          [
           28
          ],
          [
           37
          ],
          [
           37
          ],
          [
           82
          ],
          [
           42
          ],
          [
           28
          ],
          [
           30
          ],
          [
           32
          ],
          [
           35
          ],
          [
           35
          ],
          [
           31
          ],
          [
           35
          ],
          [
           33
          ],
          [
           29
          ],
          [
           35
          ],
          [
           38
          ],
          [
           34
          ],
          [
           33
          ],
          [
           32
          ],
          [
           34
          ],
          [
           31
          ],
          [
           27
          ],
          [
           39
          ],
          [
           38
          ],
          [
           84
          ],
          [
           77
          ],
          [
           34
          ],
          [
           28
          ],
          [
           36
          ],
          [
           91
          ],
          [
           34
          ]
         ],
         "hovertemplate": "Cluster=Cluster 2<br>PCA1=%{x}<br>PCA2=%{y}<br>Feature=%{customdata[0]}<extra></extra>",
         "legendgroup": "Cluster 2",
         "marker": {
          "color": "#00cc96",
          "opacity": 0.5,
          "symbol": "circle"
         },
         "mode": "markers",
         "name": "Cluster 2",
         "orientation": "v",
         "showlegend": true,
         "textposition": "top center",
         "type": "scatter",
         "x": [
          0.3070294102089413,
          0.6140887372753004,
          0.3754327904133492,
          0.5438739527426215,
          0.04804976172014894,
          -1.246904593607952,
          -1.4842225813296512,
          0.06355606750361338,
          0.35943598890219336,
          0.2649134466769478,
          0.40245099657030614,
          0.3845052531687989,
          0.33294215853957143,
          0.141106995077453,
          0.21115517885341253,
          0.13008180506741285,
          0.24446829662461267,
          0.012815314127692863,
          -1.2646852683527356,
          0.5718352703209505,
          -0.13317789586213563,
          0.29598533129187776,
          -1.4044776460534723,
          0.43626632161967704,
          0.36393371430433524,
          0.2355478289497881,
          0.3297776067508478,
          -1.3427793600216866,
          0.44844429081285203,
          0.2538565258460621,
          0.2356840640665602,
          0.40349411403433544,
          0.10416237980165265,
          0.30461665966297474,
          0.010518749806852778,
          0.41403518888813673,
          -1.0949529460702785,
          0.25195100251324937,
          0.39744058045134606,
          -1.404411386476286,
          0.42940101066236896,
          0.12864450308370676,
          -1.0541528534080695,
          0.399546085369273,
          -1.2548117888895034,
          0.011481065569843957,
          -1.2569311373978442,
          0.49406292691990994,
          0.5244022630583316,
          -0.0871523700500766,
          -1.560149792825187,
          0.36389133928283535,
          0.5452387574027823,
          -0.02590864418332165,
          0.6575406683911175,
          0.42028662398985345,
          0.48168039397819445,
          0.08641834442256457,
          0.2664268929107338,
          0.18657178043459885,
          -1.3740781972353229,
          0.10923738618228039,
          0.5454419239518697,
          -1.0594442034675315,
          0.00856123098752956,
          0.5476836698545151,
          0.4749432070352599,
          0.5488794072139032,
          0.7980582570312516,
          0.25653470216099944,
          0.19672318046939757,
          0.4362488886642653,
          0.48847458413527733,
          0.24676907848104135,
          0.07756808433005782,
          0.0395564891664977,
          0.5262372520229205,
          -1.38412395117529,
          0.15080993528586506,
          0.483902394466509,
          0.18186119495633749,
          0.3197803143158604,
          0.23032130098241418,
          0.48159069117347597,
          0.2619155960722456,
          0.5757141896099114,
          0.3333977004036947,
          0.7231390315749109,
          0.16687762980261261,
          -0.8847897698205406,
          0.4589826225840662,
          0.5572855042118277,
          -0.11947924011043726,
          0.16044978228124113,
          0.25348436280135034,
          0.19418113572189882,
          0.37308468962136043,
          0.320013278073726,
          -1.2360012592861653,
          -1.1954837283398614,
          -1.7838276239281696,
          -1.1162290985148484,
          0.2741643746957851,
          0.10992622147351726,
          0.38078947299048277,
          0.2519227108717809,
          -1.0234193840699453,
          0.24968333398102466,
          0.4407671255361468,
          0.2578198537247982,
          0.4542590309135152,
          0.34020908511622855,
          0.16014394335897383,
          0.3406323353765562,
          -0.21168129879310227,
          0.5239181202856692,
          0.5954068883969375,
          -1.3434211655407209,
          0.3469068373043461,
          0.18111105804090377,
          0.5027962453229629,
          -0.09583531832870423,
          0.22901573323987914,
          -1.1452254770464803,
          0.15986556810862332,
          0.3445792787466179,
          0.4648109194537033,
          0.0632065256517854,
          -0.012411569003758623,
          0.3771479410532704,
          0.34170476680175726,
          0.14576868518406474,
          0.02507299300787238,
          0.34833569168274425,
          0.4398923633821287,
          0.3169657604996488,
          0.4548584475238026,
          0.2971695879728321,
          0.4870063686805262,
          0.33145019159153055,
          0.3108302058841823,
          0.368435580733137,
          -0.1612405175511695,
          0.3867056100878983,
          -1.3142709597535052,
          -1.0463512201393255,
          0.22890173554435228,
          0.6716511670547829,
          0.29750561076480725,
          -1.4435110499822363,
          0.35873384199656055
         ],
         "xaxis": "x",
         "y": [
          1.3981604035203627,
          1.724410459511104,
          1.5689358926468544,
          1.6662522155453345,
          1.5094803840453415,
          1.6633700330454766,
          1.9939049777464166,
          1.9173301840816133,
          1.4841206678740182,
          1.6404502378455375,
          1.848789480352386,
          1.4463620291143533,
          1.8575915333073922,
          1.7868748127212448,
          1.6639660789004824,
          1.6460623292951746,
          1.492230149477685,
          1.9067766215007254,
          1.6822630435611332,
          1.6859710489837811,
          2.0553088253064278,
          1.407977004772608,
          1.7575392323961725,
          1.5981053201803306,
          1.574032049401376,
          1.624594271026294,
          1.2940348503143855,
          1.6078541931029946,
          1.4110400255045688,
          1.7366097538237137,
          1.510274946599512,
          1.650152893046044,
          1.9600181593441486,
          1.7825075391753713,
          1.6382604254748776,
          1.675866939176621,
          1.2684497683169889,
          1.7794611195538073,
          1.6135520953387017,
          1.645289627499808,
          1.6334586593662825,
          1.9730474398496856,
          1.5628535183765822,
          1.5982387600026906,
          1.5768850069105615,
          1.429401062488261,
          1.4993113764411499,
          1.6526768857137148,
          1.435439647940778,
          1.7895448968285468,
          1.7520283827514262,
          1.5153044256389863,
          1.5241410018934893,
          1.8699914766483834,
          1.8499450698570559,
          1.5892235440054485,
          1.6811740082860342,
          1.8635134456842988,
          1.592249498496437,
          1.788065464094321,
          1.84397615251424,
          1.6423963158515158,
          2.040452704555171,
          1.310778255049963,
          1.857898613104105,
          1.8062306667521848,
          1.6703313469245575,
          1.7711978292836426,
          1.3249686574242712,
          1.762334845514027,
          1.895572029276364,
          1.8292697178178294,
          1.7470184163868379,
          1.6732570003099672,
          1.4746754417557917,
          1.565670109002903,
          1.8021927769768837,
          1.7001697162637102,
          1.70123307567028,
          1.411397124115865,
          1.7605782285304223,
          1.3712090762138835,
          1.1898520165007063,
          1.3443689998229233,
          1.8359396872204137,
          1.9589663986441328,
          1.7702598103371538,
          1.5687761419871578,
          1.7417345791792196,
          1.4496687011308056,
          1.7725991419250118,
          1.879694182206688,
          1.6190663912169982,
          1.7249920211177063,
          1.6966273720426486,
          1.6506559340593403,
          1.1239505002847312,
          1.653867724873632,
          1.5561179279505126,
          1.8576959130642285,
          1.9513140336078858,
          1.4520436894278914,
          1.9164689736324845,
          2.0556031966762887,
          1.6295380103189852,
          1.5569364575846516,
          1.3952412277060562,
          1.809979498978594,
          1.450397572705244,
          1.3175016453087112,
          1.7029217162400168,
          1.6503203297421118,
          2.044576812177429,
          1.8538212715066895,
          1.994410163969679,
          1.595496360528675,
          1.5865208384604,
          1.6074863976027007,
          1.7302256118030042,
          1.8576077242622657,
          1.8990539406994136,
          1.702326727491093,
          1.6646201281041637,
          1.7084017379156045,
          1.4598614670763232,
          1.6604767218881806,
          1.7455591437885905,
          1.7059101460342063,
          1.9632323290946248,
          1.4007534591873703,
          1.7079631112213136,
          1.6705269168572348,
          1.8242224527874098,
          1.946232554883415,
          1.6513715015658914,
          1.6930075372967086,
          1.6219889903044822,
          1.7492218292198591,
          1.6724022008378876,
          1.4019845168366274,
          2.0398045344549454,
          1.9350938462900542,
          1.7388236176891037,
          1.5803092586927696,
          1.506511645761137,
          1.97016083457313,
          1.6749839731646803,
          1.6176588365188267,
          1.5508661716526968,
          1.6330073297510996,
          1.9483367563131913
         ],
         "yaxis": "y"
        },
        {
         "customdata": [
          [
           27
          ],
          [
           23
          ],
          [
           25
          ],
          [
           17
          ],
          [
           24
          ],
          [
           20
          ],
          [
           23
          ],
          [
           26
          ],
          [
           23
          ],
          [
           27
          ],
          [
           23
          ],
          [
           31
          ],
          [
           22
          ],
          [
           24
          ],
          [
           29
          ],
          [
           22
          ],
          [
           28
          ],
          [
           26
          ],
          [
           25
          ],
          [
           24
          ],
          [
           24
          ],
          [
           25
          ],
          [
           20
          ],
          [
           30
          ],
          [
           25
          ],
          [
           28
          ],
          [
           20
          ],
          [
           24
          ],
          [
           22
          ],
          [
           26
          ],
          [
           17
          ],
          [
           26
          ],
          [
           28
          ],
          [
           18
          ],
          [
           21
          ],
          [
           21
          ],
          [
           17
          ],
          [
           27
          ],
          [
           25
          ],
          [
           24
          ],
          [
           28
          ],
          [
           26
          ],
          [
           28
          ],
          [
           25
          ],
          [
           24
          ],
          [
           17
          ],
          [
           29
          ],
          [
           29
          ],
          [
           28
          ],
          [
           18
          ]
         ],
         "hovertemplate": "Cluster=Cluster 3<br>PCA1=%{x}<br>PCA2=%{y}<br>Feature=%{customdata[0]}<extra></extra>",
         "legendgroup": "Cluster 3",
         "marker": {
          "color": "#ab63fa",
          "opacity": 0.5,
          "symbol": "circle"
         },
         "mode": "markers",
         "name": "Cluster 3",
         "orientation": "v",
         "showlegend": true,
         "textposition": "top center",
         "type": "scatter",
         "x": [
          2.7453229511303388,
          3.1254534395883304,
          3.122784682360347,
          3.4392232513910046,
          2.864159127522357,
          2.9240626286612685,
          2.8899395825601943,
          2.8576515908113467,
          2.917445281382241,
          2.6707087726419907,
          2.738329963688203,
          2.7242733493962663,
          2.863877114290946,
          2.898655703897159,
          2.7684030967185964,
          3.089184624218131,
          2.869786613325936,
          2.8194177382640913,
          2.6671995388713334,
          3.1591261862373403,
          2.957934098253033,
          2.918863313686763,
          2.887060697174684,
          2.478393985958895,
          2.858370277358073,
          2.9913299228494927,
          2.8413978321833477,
          2.983858691948535,
          2.849840602929608,
          2.8886406984505153,
          3.1101493310199975,
          2.6493621964801775,
          2.616059713268722,
          2.9542047322001665,
          2.9323154663845985,
          3.006636979316512,
          3.156692885658748,
          2.951215396011261,
          2.7721876043725233,
          2.7362012810793304,
          2.9276307771902115,
          2.5835291787157546,
          2.5329377620152886,
          2.60358472590843,
          2.949337624948914,
          3.2093326355310556,
          2.8393761248391503,
          2.829777109308966,
          2.5229877449535985,
          2.8348344946414534
         ],
         "xaxis": "x",
         "y": [
          -0.16060759388535772,
          0.055608430969572346,
          -0.053519389755965506,
          -0.03433610286687494,
          0.04909455947250902,
          0.1712515512257125,
          0.08348301980703669,
          -0.23132238497355545,
          -0.02990108908819086,
          -0.12072604693456138,
          -0.019637197830232964,
          -0.3138278258520388,
          0.2661380423949839,
          0.043878216455397856,
          -0.03351844337071285,
          0.00921463034934296,
          -0.3333252449001571,
          0.054800146158785625,
          0.18516633062008642,
          -0.060562324378432966,
          0.06590931467921686,
          -0.02532644626280908,
          0.041438924974755494,
          -0.025802065532740667,
          0.016764800334630257,
          -0.4319264853887277,
          0.25584102764898736,
          -0.13110641458649502,
          -0.09807935831901343,
          -0.14565571818533257,
          -0.0017869854021300249,
          0.05361267482164347,
          0.055188186900684076,
          0.28908746119397954,
          -0.011434193010067158,
          0.04444842353023489,
          0.24417172942251975,
          -0.3139343851914792,
          0.13162264566654025,
          -0.06556709186929048,
          -0.22800950730220845,
          0.18426710017747663,
          -0.13148686982957078,
          0.03614502133790622,
          0.08887297591778315,
          0.21851666548721177,
          0.13547458434795945,
          -0.34583621957395594,
          -0.01444569120224647,
          0.24473994640383775
         ],
         "yaxis": "y"
        }
       ],
       "layout": {
        "height": 600,
        "legend": {
         "title": {
          "text": "Cluster"
         },
         "tracegroupgap": 0
        },
        "margin": {
         "t": 60
        },
        "plot_bgcolor": "rgb(240,240,240)",
        "template": {
         "data": {
          "bar": [
           {
            "error_x": {
             "color": "#2a3f5f"
            },
            "error_y": {
             "color": "#2a3f5f"
            },
            "marker": {
             "line": {
              "color": "#E5ECF6",
              "width": 0.5
             }
            },
            "type": "bar"
           }
          ],
          "barpolar": [
           {
            "marker": {
             "line": {
              "color": "#E5ECF6",
              "width": 0.5
             }
            },
            "type": "barpolar"
           }
          ],
          "carpet": [
           {
            "aaxis": {
             "endlinecolor": "#2a3f5f",
             "gridcolor": "white",
             "linecolor": "white",
             "minorgridcolor": "white",
             "startlinecolor": "#2a3f5f"
            },
            "baxis": {
             "endlinecolor": "#2a3f5f",
             "gridcolor": "white",
             "linecolor": "white",
             "minorgridcolor": "white",
             "startlinecolor": "#2a3f5f"
            },
            "type": "carpet"
           }
          ],
          "choropleth": [
           {
            "colorbar": {
             "outlinewidth": 0,
             "ticks": ""
            },
            "type": "choropleth"
           }
          ],
          "contour": [
           {
            "colorbar": {
             "outlinewidth": 0,
             "ticks": ""
            },
            "colorscale": [
             [
              0,
              "#0d0887"
             ],
             [
              0.1111111111111111,
              "#46039f"
             ],
             [
              0.2222222222222222,
              "#7201a8"
             ],
             [
              0.3333333333333333,
              "#9c179e"
             ],
             [
              0.4444444444444444,
              "#bd3786"
             ],
             [
              0.5555555555555556,
              "#d8576b"
             ],
             [
              0.6666666666666666,
              "#ed7953"
             ],
             [
              0.7777777777777778,
              "#fb9f3a"
             ],
             [
              0.8888888888888888,
              "#fdca26"
             ],
             [
              1,
              "#f0f921"
             ]
            ],
            "type": "contour"
           }
          ],
          "contourcarpet": [
           {
            "colorbar": {
             "outlinewidth": 0,
             "ticks": ""
            },
            "type": "contourcarpet"
           }
          ],
          "heatmap": [
           {
            "colorbar": {
             "outlinewidth": 0,
             "ticks": ""
            },
            "colorscale": [
             [
              0,
              "#0d0887"
             ],
             [
              0.1111111111111111,
              "#46039f"
             ],
             [
              0.2222222222222222,
              "#7201a8"
             ],
             [
              0.3333333333333333,
              "#9c179e"
             ],
             [
              0.4444444444444444,
              "#bd3786"
             ],
             [
              0.5555555555555556,
              "#d8576b"
             ],
             [
              0.6666666666666666,
              "#ed7953"
             ],
             [
              0.7777777777777778,
              "#fb9f3a"
             ],
             [
              0.8888888888888888,
              "#fdca26"
             ],
             [
              1,
              "#f0f921"
             ]
            ],
            "type": "heatmap"
           }
          ],
          "heatmapgl": [
           {
            "colorbar": {
             "outlinewidth": 0,
             "ticks": ""
            },
            "colorscale": [
             [
              0,
              "#0d0887"
             ],
             [
              0.1111111111111111,
              "#46039f"
             ],
             [
              0.2222222222222222,
              "#7201a8"
             ],
             [
              0.3333333333333333,
              "#9c179e"
             ],
             [
              0.4444444444444444,
              "#bd3786"
             ],
             [
              0.5555555555555556,
              "#d8576b"
             ],
             [
              0.6666666666666666,
              "#ed7953"
             ],
             [
              0.7777777777777778,
              "#fb9f3a"
             ],
             [
              0.8888888888888888,
              "#fdca26"
             ],
             [
              1,
              "#f0f921"
             ]
            ],
            "type": "heatmapgl"
           }
          ],
          "histogram": [
           {
            "marker": {
             "colorbar": {
              "outlinewidth": 0,
              "ticks": ""
             }
            },
            "type": "histogram"
           }
          ],
          "histogram2d": [
           {
            "colorbar": {
             "outlinewidth": 0,
             "ticks": ""
            },
            "colorscale": [
             [
              0,
              "#0d0887"
             ],
             [
              0.1111111111111111,
              "#46039f"
             ],
             [
              0.2222222222222222,
              "#7201a8"
             ],
             [
              0.3333333333333333,
              "#9c179e"
             ],
             [
              0.4444444444444444,
              "#bd3786"
             ],
             [
              0.5555555555555556,
              "#d8576b"
             ],
             [
              0.6666666666666666,
              "#ed7953"
             ],
             [
              0.7777777777777778,
              "#fb9f3a"
             ],
             [
              0.8888888888888888,
              "#fdca26"
             ],
             [
              1,
              "#f0f921"
             ]
            ],
            "type": "histogram2d"
           }
          ],
          "histogram2dcontour": [
           {
            "colorbar": {
             "outlinewidth": 0,
             "ticks": ""
            },
            "colorscale": [
             [
              0,
              "#0d0887"
             ],
             [
              0.1111111111111111,
              "#46039f"
             ],
             [
              0.2222222222222222,
              "#7201a8"
             ],
             [
              0.3333333333333333,
              "#9c179e"
             ],
             [
              0.4444444444444444,
              "#bd3786"
             ],
             [
              0.5555555555555556,
              "#d8576b"
             ],
             [
              0.6666666666666666,
              "#ed7953"
             ],
             [
              0.7777777777777778,
              "#fb9f3a"
             ],
             [
              0.8888888888888888,
              "#fdca26"
             ],
             [
              1,
              "#f0f921"
             ]
            ],
            "type": "histogram2dcontour"
           }
          ],
          "mesh3d": [
           {
            "colorbar": {
             "outlinewidth": 0,
             "ticks": ""
            },
            "type": "mesh3d"
           }
          ],
          "parcoords": [
           {
            "line": {
             "colorbar": {
              "outlinewidth": 0,
              "ticks": ""
             }
            },
            "type": "parcoords"
           }
          ],
          "pie": [
           {
            "automargin": true,
            "type": "pie"
           }
          ],
          "scatter": [
           {
            "marker": {
             "colorbar": {
              "outlinewidth": 0,
              "ticks": ""
             }
            },
            "type": "scatter"
           }
          ],
          "scatter3d": [
           {
            "line": {
             "colorbar": {
              "outlinewidth": 0,
              "ticks": ""
             }
            },
            "marker": {
             "colorbar": {
              "outlinewidth": 0,
              "ticks": ""
             }
            },
            "type": "scatter3d"
           }
          ],
          "scattercarpet": [
           {
            "marker": {
             "colorbar": {
              "outlinewidth": 0,
              "ticks": ""
             }
            },
            "type": "scattercarpet"
           }
          ],
          "scattergeo": [
           {
            "marker": {
             "colorbar": {
              "outlinewidth": 0,
              "ticks": ""
             }
            },
            "type": "scattergeo"
           }
          ],
          "scattergl": [
           {
            "marker": {
             "colorbar": {
              "outlinewidth": 0,
              "ticks": ""
             }
            },
            "type": "scattergl"
           }
          ],
          "scattermapbox": [
           {
            "marker": {
             "colorbar": {
              "outlinewidth": 0,
              "ticks": ""
             }
            },
            "type": "scattermapbox"
           }
          ],
          "scatterpolar": [
           {
            "marker": {
             "colorbar": {
              "outlinewidth": 0,
              "ticks": ""
             }
            },
            "type": "scatterpolar"
           }
          ],
          "scatterpolargl": [
           {
            "marker": {
             "colorbar": {
              "outlinewidth": 0,
              "ticks": ""
             }
            },
            "type": "scatterpolargl"
           }
          ],
          "scatterternary": [
           {
            "marker": {
             "colorbar": {
              "outlinewidth": 0,
              "ticks": ""
             }
            },
            "type": "scatterternary"
           }
          ],
          "surface": [
           {
            "colorbar": {
             "outlinewidth": 0,
             "ticks": ""
            },
            "colorscale": [
             [
              0,
              "#0d0887"
             ],
             [
              0.1111111111111111,
              "#46039f"
             ],
             [
              0.2222222222222222,
              "#7201a8"
             ],
             [
              0.3333333333333333,
              "#9c179e"
             ],
             [
              0.4444444444444444,
              "#bd3786"
             ],
             [
              0.5555555555555556,
              "#d8576b"
             ],
             [
              0.6666666666666666,
              "#ed7953"
             ],
             [
              0.7777777777777778,
              "#fb9f3a"
             ],
             [
              0.8888888888888888,
              "#fdca26"
             ],
             [
              1,
              "#f0f921"
             ]
            ],
            "type": "surface"
           }
          ],
          "table": [
           {
            "cells": {
             "fill": {
              "color": "#EBF0F8"
             },
             "line": {
              "color": "white"
             }
            },
            "header": {
             "fill": {
              "color": "#C8D4E3"
             },
             "line": {
              "color": "white"
             }
            },
            "type": "table"
           }
          ]
         },
         "layout": {
          "annotationdefaults": {
           "arrowcolor": "#2a3f5f",
           "arrowhead": 0,
           "arrowwidth": 1
          },
          "coloraxis": {
           "colorbar": {
            "outlinewidth": 0,
            "ticks": ""
           }
          },
          "colorscale": {
           "diverging": [
            [
             0,
             "#8e0152"
            ],
            [
             0.1,
             "#c51b7d"
            ],
            [
             0.2,
             "#de77ae"
            ],
            [
             0.3,
             "#f1b6da"
            ],
            [
             0.4,
             "#fde0ef"
            ],
            [
             0.5,
             "#f7f7f7"
            ],
            [
             0.6,
             "#e6f5d0"
            ],
            [
             0.7,
             "#b8e186"
            ],
            [
             0.8,
             "#7fbc41"
            ],
            [
             0.9,
             "#4d9221"
            ],
            [
             1,
             "#276419"
            ]
           ],
           "sequential": [
            [
             0,
             "#0d0887"
            ],
            [
             0.1111111111111111,
             "#46039f"
            ],
            [
             0.2222222222222222,
             "#7201a8"
            ],
            [
             0.3333333333333333,
             "#9c179e"
            ],
            [
             0.4444444444444444,
             "#bd3786"
            ],
            [
             0.5555555555555556,
             "#d8576b"
            ],
            [
             0.6666666666666666,
             "#ed7953"
            ],
            [
             0.7777777777777778,
             "#fb9f3a"
            ],
            [
             0.8888888888888888,
             "#fdca26"
            ],
            [
             1,
             "#f0f921"
            ]
           ],
           "sequentialminus": [
            [
             0,
             "#0d0887"
            ],
            [
             0.1111111111111111,
             "#46039f"
            ],
            [
             0.2222222222222222,
             "#7201a8"
            ],
            [
             0.3333333333333333,
             "#9c179e"
            ],
            [
             0.4444444444444444,
             "#bd3786"
            ],
            [
             0.5555555555555556,
             "#d8576b"
            ],
            [
             0.6666666666666666,
             "#ed7953"
            ],
            [
             0.7777777777777778,
             "#fb9f3a"
            ],
            [
             0.8888888888888888,
             "#fdca26"
            ],
            [
             1,
             "#f0f921"
            ]
           ]
          },
          "colorway": [
           "#636efa",
           "#EF553B",
           "#00cc96",
           "#ab63fa",
           "#FFA15A",
           "#19d3f3",
           "#FF6692",
           "#B6E880",
           "#FF97FF",
           "#FECB52"
          ],
          "font": {
           "color": "#2a3f5f"
          },
          "geo": {
           "bgcolor": "white",
           "lakecolor": "white",
           "landcolor": "#E5ECF6",
           "showlakes": true,
           "showland": true,
           "subunitcolor": "white"
          },
          "hoverlabel": {
           "align": "left"
          },
          "hovermode": "closest",
          "mapbox": {
           "style": "light"
          },
          "paper_bgcolor": "white",
          "plot_bgcolor": "#E5ECF6",
          "polar": {
           "angularaxis": {
            "gridcolor": "white",
            "linecolor": "white",
            "ticks": ""
           },
           "bgcolor": "#E5ECF6",
           "radialaxis": {
            "gridcolor": "white",
            "linecolor": "white",
            "ticks": ""
           }
          },
          "scene": {
           "xaxis": {
            "backgroundcolor": "#E5ECF6",
            "gridcolor": "white",
            "gridwidth": 2,
            "linecolor": "white",
            "showbackground": true,
            "ticks": "",
            "zerolinecolor": "white"
           },
           "yaxis": {
            "backgroundcolor": "#E5ECF6",
            "gridcolor": "white",
            "gridwidth": 2,
            "linecolor": "white",
            "showbackground": true,
            "ticks": "",
            "zerolinecolor": "white"
           },
           "zaxis": {
            "backgroundcolor": "#E5ECF6",
            "gridcolor": "white",
            "gridwidth": 2,
            "linecolor": "white",
            "showbackground": true,
            "ticks": "",
            "zerolinecolor": "white"
           }
          },
          "shapedefaults": {
           "line": {
            "color": "#2a3f5f"
           }
          },
          "ternary": {
           "aaxis": {
            "gridcolor": "white",
            "linecolor": "white",
            "ticks": ""
           },
           "baxis": {
            "gridcolor": "white",
            "linecolor": "white",
            "ticks": ""
           },
           "bgcolor": "#E5ECF6",
           "caxis": {
            "gridcolor": "white",
            "linecolor": "white",
            "ticks": ""
           }
          },
          "title": {
           "x": 0.05
          },
          "xaxis": {
           "automargin": true,
           "gridcolor": "white",
           "linecolor": "white",
           "ticks": "",
           "title": {
            "standoff": 15
           },
           "zerolinecolor": "white",
           "zerolinewidth": 2
          },
          "yaxis": {
           "automargin": true,
           "gridcolor": "white",
           "linecolor": "white",
           "ticks": "",
           "title": {
            "standoff": 15
           },
           "zerolinecolor": "white",
           "zerolinewidth": 2
          }
         }
        },
        "title": {
         "text": "2D Cluster PCA Plot"
        },
        "xaxis": {
         "anchor": "y",
         "domain": [
          0,
          1
         ],
         "title": {
          "text": "PCA1"
         }
        },
        "yaxis": {
         "anchor": "x",
         "domain": [
          0,
          1
         ],
         "title": {
          "text": "PCA2"
         }
        }
       }
      },
      "text/html": [
       "<div>\n",
       "        \n",
       "        \n",
       "            <div id=\"9e1317a2-8324-4fc3-8dad-86056a73aedf\" class=\"plotly-graph-div\" style=\"height:600px; width:100%;\"></div>\n",
       "            <script type=\"text/javascript\">\n",
       "                require([\"plotly\"], function(Plotly) {\n",
       "                    window.PLOTLYENV=window.PLOTLYENV || {};\n",
       "                    \n",
       "                if (document.getElementById(\"9e1317a2-8324-4fc3-8dad-86056a73aedf\")) {\n",
       "                    Plotly.newPlot(\n",
       "                        '9e1317a2-8324-4fc3-8dad-86056a73aedf',\n",
       "                        [{\"customdata\": [[89], [91], [92], [90], [93], [89], [88], [87], [86], [82], [91], [88], [87], [91], [90], [85], [91], [88], [85], [85], [88], [84], [88], [94], [86], [94], [89], [87], [84], [91], [91], [88], [88], [89], [91], [90], [89], [83], [83], [86], [84], [94], [94], [79], [88], [85], [82], [82], [91], [91], [89], [84], [87], [81], [93], [84], [95], [89], [86], [85], [87], [92], [89], [85], [88], [86], [94], [87], [85], [83], [87], [88], [84], [85], [91], [90], [88], [89], [88], [92], [90], [85], [88], [94], [84], [91], [88], [87], [86], [83], [83], [91], [86], [89], [92], [87], [84], [83], [83], [85], [90], [97], [92], [87], [91], [83], [87], [91], [82], [91], [90], [86], [85], [90], [84], [87], [84], [88], [91], [84], [94], [89], [92], [89], [90], [90], [88], [88], [93], [90], [87], [87], [91], [87], [87], [92], [84], [87], [87], [83], [79], [92], [91], [83], [86], [84], [82]], \"hovertemplate\": \"Cluster=Cluster 0<br>PCA1=%{x}<br>PCA2=%{y}<br>Feature=%{customdata[0]}<extra></extra>\", \"legendgroup\": \"Cluster 0\", \"marker\": {\"color\": \"#636efa\", \"opacity\": 0.5, \"symbol\": \"circle\"}, \"mode\": \"markers\", \"name\": \"Cluster 0\", \"orientation\": \"v\", \"showlegend\": true, \"textposition\": \"top center\", \"type\": \"scatter\", \"x\": [-1.8636656581666913, -2.374533541094474, -2.369496925337856, -1.8227189752383326, -2.423058992262573, -2.0485306471562916, -2.1281821705683424, -2.0213459309656634, -2.2528272769009536, -1.9858226325569597, -1.77459800081042, -1.8804739318083512, -1.7148009743741102, -1.9088444211627618, -2.452626138008338, -2.047745624472743, -2.023161133708442, -1.8395174460656807, -1.7996522885874897, -1.7770831933178644, -1.7926200051584749, -1.7460120092235545, -2.1266975237682515, -2.0360530659970184, -1.888804691838328, -1.9925441464619895, -2.083297872384071, -1.9178612610974093, -1.9908126604758496, -2.1865340735225045, -2.0036720271273567, -2.0515360202408934, -1.8004766255138507, -1.5495737159842309, -2.391661026820781, -1.7355409240057214, -1.89603259486379, -2.0812517342524814, -2.0082402129648966, -2.051968319125883, -2.0358001949702875, -2.345314119564446, -2.194730663671257, -1.5729548759340237, -2.1690020936216965, -2.0546156998643954, -1.6261948917411886, -1.8489723727778606, -2.293327607424447, -2.3092654085216817, -2.1354234653939863, -1.809195114153167, -2.0635923925835535, -1.869693387482338, -2.3774091813600036, -2.3270890692195936, -2.3051625387940575, -2.172785162710231, -1.6960324087541438, -1.7570592103309852, -1.9732757567732813, -1.9532327809330488, -2.062966457647544, -1.973680588271361, -2.2119796415296373, -2.2097784263166416, -2.0178493241062583, -2.1992289792082755, -2.1395955573551086, -1.6614220892254672, -1.5735189359648833, -1.9139398289969443, -1.788226414568858, -1.9003333640436497, -2.127457648424265, -2.0774443590224694, -1.864537808339332, -2.2081950304867153, -2.0009943722032077, -1.8931809064029326, -2.166482065205713, -2.0868916624905913, -1.8685827656925533, -2.2564811949637775, -2.0127236492041414, -2.1039051220058558, -2.320656748728342, -1.8443763220892255, -2.086975367014561, -1.8136935618018801, -2.0375358260411733, -2.227742203797159, -2.221844869339869, -1.9996680663725108, -2.020989236358968, -2.1448936990412326, -1.7472747772178947, -1.9779868912938163, -2.035340256420358, -1.7319804123432545, -2.0778098350116108, -2.127275309172161, -2.1176302460851137, -2.0693779838711537, -2.2067491024081924, -2.1094049851484056, -1.9209202960621763, -2.1210730761003864, -1.8435247430455024, -2.152860708889821, -2.069164939153641, -2.024275040129167, -1.841791679445063, -2.0070670691069887, -2.2944143255580283, -1.9356422934774302, -2.1175062998251226, -1.7983299609253618, -2.1664925475021266, -1.7748672326573067, -2.2451236519503177, -1.9072786359743876, -1.9665328888727516, -1.6345690250031073, -1.907598048553899, -1.8290505411500881, -2.3502955000636896, -1.6429863324625031, -2.6656917566508236, -1.988442805652188, -1.8547132546847152, -1.801465934975132, -1.9704394995737446, -2.1433273223131404, -1.9287009958696084, -1.90009873358035, -1.9659122938964113, -2.0873763324455994, -1.865642366643535, -1.6446304537095857, -1.6975240785950696, -2.253462481128289, -2.313420213063416, -1.8314674117580556, -2.029019844940109, -1.9846982930544628, -2.116555590344918], \"xaxis\": \"x\", \"y\": [-0.6258151422256333, -0.19986449367467798, -0.498321051248277, -0.612288351350893, -0.6292790839719136, -0.5610539288840752, -0.3813601580753978, -0.38724448109676335, -0.03476770751989854, -0.1227980931152612, -1.365455813043873, -0.41784549114463093, -1.2957986189171586, -0.42602388606924635, -0.3343231093090776, -0.6347869283588532, -0.53046369842688, -0.7677439238529982, -0.6329196244014931, -0.4286443013147315, -0.5368595345290521, -0.15104755781882093, -0.4713355038544475, -0.7098605071969625, -0.5545895967708558, -0.3664517644331365, -0.5876200552454818, -0.6792585293172957, -0.42121001431963073, -0.4177645006827937, -0.6735660617061694, -0.6938994058658949, -0.7330371840191491, -1.209328447650242, -0.15897115820991828, -0.7037902431808634, -0.4971944467549767, -0.6486172172868383, -0.39125445103451184, -0.7701991709246764, -0.29922884526696947, -0.7386944353476823, -0.8289064780374262, -0.2967833830977078, -0.6847309293714421, -0.258257669902242, -0.883886536650911, -0.3118624703382196, -0.755631607542182, -0.6008433946217793, -0.7256701058721963, -0.6285490090408636, -0.5709728490963842, -0.17184519002992701, -0.6005929687194741, -0.04214287287444822, -0.5009054895034648, -0.4556375174952073, -0.10373767699826783, -0.6945287751766598, -0.6142574499137377, -0.45133638902052176, -0.8575386266744814, -0.41022782354729126, -0.1177425546062116, 0.04324227086123061, -0.7630600617939378, -0.651640688543269, -0.21896834775973778, -0.707172083438287, -0.27448938263036954, -1.0673045344175514, -0.2606101674048226, -0.2782970539763923, -0.6187354028238234, -0.43685969239934225, -0.5143336946548525, -0.22873718156968773, -0.5586269234033744, -0.6241379038994436, -0.5196290703713561, -0.3998810000269718, -0.6670398735427571, -0.48392169168210963, -0.6069831296155797, -0.592664815928642, -0.5773107537026588, -0.5581729999782408, -0.06206677509219742, -0.4539605456942685, -0.10692710632172438, -0.4779413528176799, -0.6344722354772396, -0.8134351751378349, -0.368584575574983, -0.5415378467249985, -0.3553595552789174, -0.27810597206258675, -0.498292110879267, -0.7028252968204058, -0.31905343312082207, -0.7437629992420919, -0.9211040870199123, -0.6022316514056896, -0.41495577228657127, -0.2080029944904488, -0.45314039864070627, -0.5661674698209388, -0.2862046402458093, -0.6153714110611301, -0.6666359630825233, -0.6067761489689601, -0.8440428371885619, -0.8076511898921225, -0.4487113791632085, -0.6323693220020185, -0.40384924522401255, -0.6351235333971477, -0.6636060272543389, -0.5503567238883177, -0.6473384409233435, -0.6676669125385148, -0.5203287677049505, -0.7225971930953071, -0.3688296946574561, -0.5276605272981287, -0.5513937485339039, -0.7320127096825795, -0.2943744093384687, -0.5782831024818612, -0.7378043508254775, -0.6441903197543474, -0.5689438481817474, -0.751430347103945, -1.0776156132551244, -0.527117614389498, -0.7176604997089461, -0.3404570893742994, -0.13115287145968516, -0.494442222509753, -0.3582505573311877, -0.6160746026810812, 0.020120626197968273, -0.2914770755694627, -0.44466360481616807, -0.4261470075743978, -0.3205744688040287], \"yaxis\": \"y\"}, {\"customdata\": [[65], [57], [65], [59], [61], [60], [55], [63], [62], [59], [67], [58], [66], [58], [57], [57], [66], [59], [68], [61], [58], [59], [61], [64], [63], [64], [62], [61], [62], [67], [61], [57], [63], [56], [51], [59], [58], [55], [61], [55], [58], [68], [58], [67], [56], [59], [59], [57], [60], [67], [61], [60], [59], [57], [59], [59], [58], [63], [61], [56], [58], [56], [59], [61], [60], [56], [63], [58], [59], [62], [59], [59], [65], [64], [59], [59], [61], [64], [58], [57], [58], [56], [63], [58], [60], [58], [62], [66], [66], [63], [64], [62], [62], [60], [65], [60], [63], [56], [58], [62], [56], [59], [65], [62], [59], [64], [66], [59], [59], [59], [62], [59], [54], [61], [55], [53], [55], [61], [59], [59], [56], [61], [61], [60], [57], [61], [55], [53], [61], [64], [62], [55], [58], [57], [58], [64], [57], [62], [56], [53], [60], [56], [62], [61], [62], [55], [60], [58], [61], [59], [58], [56], [60], [62], [58], [64], [63]], \"hovertemplate\": \"Cluster=Cluster 1<br>PCA1=%{x}<br>PCA2=%{y}<br>Feature=%{customdata[0]}<extra></extra>\", \"legendgroup\": \"Cluster 1\", \"marker\": {\"color\": \"#EF553B\", \"opacity\": 0.5, \"symbol\": \"circle\"}, \"mode\": \"markers\", \"name\": \"Cluster 1\", \"orientation\": \"v\", \"showlegend\": true, \"textposition\": \"top center\", \"type\": \"scatter\", \"x\": [0.6767555813086105, 0.9005908975107203, 0.6289915187685119, 1.1037637808734089, 0.6934240506315865, 1.038930075538572, 1.1427839738533208, 0.8633159103054844, 0.8536519143080914, 1.162212913200068, 0.6986928608105032, 1.0559787394138542, 0.8226118030067687, 1.168420432038246, 0.892889703086677, 1.2101903532054157, 0.7209141382779787, 0.9572640021850712, 0.9347011941639924, 0.7727616624814315, 1.0794144165845194, 1.0421420057485216, 0.855887681173991, 0.9751339367328689, 0.5523949612281098, 0.9258124483295305, 0.9829074429294044, 0.8102615379626676, 1.1465132000412679, 0.6845418472836932, 0.9602258138734748, 0.9957331883505438, 1.067711932617791, 0.9783887460441585, 1.1620088335476766, 1.2188363288469797, 0.9298969616618579, 0.9136386239435411, 1.095871103975671, 0.9608674181525351, 1.1747255638017682, 0.6844437492145922, 0.6822333163951089, 1.0277219325646354, 1.0030545182834545, 0.9558157606296528, 1.243301551681682, 1.2567813274275157, 0.8372718360673834, 0.9695973878074936, 0.8770820576966031, 0.8657368914762053, 0.8375655278201983, 0.8857427843470345, 0.8543410820832849, 0.826017782668841, 0.8635970208905537, 0.7994825824080191, 0.8858786257136019, 1.0172261313538722, 0.9624891203587376, 1.06739091090935, 0.8577529208499091, 0.8952102622525635, 0.7183340820321099, 1.1213877890622477, 0.8194226017607819, 1.1016468619801523, 0.8053779254771929, 0.8749818861021842, 0.9731830073793092, 0.6243941529805819, 0.7974053106599154, 0.548523103805933, 0.8483843034826849, 0.95586665933028, 0.6782591498199464, 0.8169659025020819, 1.1015495859252002, 1.1043395471394475, 1.069231305256786, 0.9516103092830008, 1.052675336894337, 0.920245728358531, 1.275174959749592, 0.8819795518096878, 0.9102047599484204, 0.9014530227270173, 0.8691533189759195, 1.0730438407971377, 0.9289988908475305, 0.800164380778297, 0.688256491337077, 0.8450642778398603, 0.7941198343541459, 0.7568685061814219, 1.1234548316429822, 1.1509428093540133, 1.0235753236382334, 0.8052714050460325, 0.8635239553447086, 0.8322069913432987, 0.8305222941008357, 0.8749580078755799, 0.915766879014843, 1.0194551316256588, 0.996664086847291, 0.6386583128721323, 1.052754558060755, 1.2389285120102234, 0.5841523746564435, 0.9236218387889907, 1.1315322135905146, 0.8993142187116165, 0.9128492671527785, 1.2784790869545155, 1.0563415877985827, 0.9204438304636021, 0.9157360636443516, 0.8457332092607606, 0.8027455532259723, 1.0959157579468348, 0.8389819600656206, 0.8960450734867577, 0.9588314977406173, 0.927514019610573, 1.1410388984551756, 0.8247997184306333, 1.1062919504862863, 0.6028084027538111, 1.064714173344325, 0.9405977386393248, 0.90634367976411, 1.0978611422652433, 0.9045361288390404, 0.8918047820920554, 1.1413156359777066, 0.7926242223715362, 0.8250701371687528, 0.9738221365047774, 0.6350918681431171, 0.7548728167990661, 0.9866460842384398, 0.6466245579682519, 0.7405136174260203, 1.3071762279477346, 0.9455067177101861, 1.2330517827765552, 0.7401807249388199, 0.8568612717928211, 1.2014161902256661, 0.980743147771724, 0.8725753153576618, 0.9129932959899973, 1.0481144830386286, 1.0042282366184978, 0.711320328290931], \"xaxis\": \"x\", \"y\": [-1.1020268804345708, -1.0389477566615792, -1.0469668987722534, -1.371076630586716, -0.8868224432526508, -1.4400040105522407, -1.0900995543006022, -1.0902178952844597, -1.4241430722653803, -1.2235070631803457, -1.5672593755697783, -1.0024765353671157, -1.089043743920491, -1.361609430220461, -1.1749988068228892, -1.174332711662221, -1.1582370854245343, -1.1969440200535526, -1.2785987412008157, -0.9266518479996232, -1.2811560666549222, -1.1060649470858488, -1.1123615804806652, -1.2006178146143434, -1.3406732423357046, -1.071719377252021, -1.4067500737745866, -1.1863683268563303, -1.38613809368508, -1.2558536463571262, -0.991001056229387, -1.0773034022077337, -1.5576049879602591, -0.7694542618173396, -1.0117936393101472, -1.0868148663186616, -0.7972592263002745, -1.1372362242037928, -1.438907192639037, -0.8151670252871678, -1.1297067442049562, -1.279770848144357, -0.8775748064239428, -1.2974663078454451, -1.0102951993116442, -1.08771096365356, -0.8737160501180272, -1.121677527498012, -1.0874966954327323, -1.1833780350423906, -1.3090141928837238, -0.9894645604015304, -0.9402930786402184, -1.1866224988147518, -1.5233028092421992, -1.1189624693314657, -1.0261252251103659, -1.1592160359625308, -1.124527634283927, -1.2708885544935882, -0.9546454927225206, -1.0062368366777388, -1.1481255789260891, -1.1464524979641628, -1.1791279335747749, -0.966908810051465, -0.8199345027050957, -1.0474542579472716, -0.7767196534153838, -1.242285087898249, -1.2253835035150185, -0.9170204650287268, -1.1134149979243335, -1.1783785603054417, -0.720732512015024, -1.0991082193263968, -1.10199901030973, -1.41077349199032, -1.058083861274631, -1.0566645427236594, -1.2310424993569915, -0.5612013687660501, -0.9694267631574132, -1.0978556351824904, -1.2512043143814857, -1.0612874230718372, -1.139288779125236, -1.325673019723419, -1.5267508319336691, -1.3800080058270747, -1.3097488905219548, -1.3370741687480179, -1.255393445721572, -1.0754139963702536, -1.3845676400484241, -0.9867171266662849, -1.1817174468078606, -0.832704798650178, -1.0430090172219646, -1.105979523862415, -0.9988048977858738, -1.115448842473186, -1.4145205125981397, -0.8945167216754263, -1.2108401712073105, -0.893974361498649, -1.115301315750582, -0.7236212994677284, -1.2068397204390722, -1.1166191963197158, -0.7626815016248879, -1.013989693745034, -0.9667008524508812, -1.156480821538551, -0.9262449890301067, -1.066370413245827, -0.8715486334039946, -1.013251372501809, -1.282710113786523, -1.0719987277715022, -1.096863166317681, -1.2768047999006669, -1.3439104998549152, -1.1639532943038564, -0.9332159326271118, -1.1389872595294996, -1.0840384878511637, -1.0494877933385705, -1.4554738612501887, -1.314586278865548, -1.4324646694117091, -0.9724469050703461, -0.9521055129281144, -0.9606653721045388, -0.8737829842470909, -1.1021683765583148, -1.1721047857937452, -1.2203097151618585, -0.9858050849570846, -0.8026656981185191, -1.0309934727568986, -1.1638342701356186, -1.0780946874050465, -0.9484422483224487, -1.122662356942112, -1.2159008198274392, -1.3022786802555617, -1.035482756788976, -1.0214891854398949, -1.0272994187351234, -1.0906985105289992, -1.1753344690444896, -1.2805868930321378, -1.2781570086701988, -0.9771324416841003, -0.9345862106521816, -1.0868042347286566], \"yaxis\": \"y\"}, {\"customdata\": [[38], [29], [36], [31], [39], [88], [86], [35], [30], [35], [25], [37], [30], [36], [34], [33], [36], [32], [83], [31], [37], [36], [90], [31], [37], [35], [33], [84], [37], [29], [44], [32], [31], [29], [36], [31], [90], [33], [33], [89], [29], [32], [84], [30], [88], [38], [92], [31], [30], [36], [85], [30], [28], [37], [29], [31], [29], [31], [33], [31], [83], [34], [22], [87], [34], [25], [31], [31], [31], [35], [28], [33], [31], [28], [39], [36], [32], [93], [36], [34], [37], [33], [43], [33], [26], [24], [31], [29], [36], [86], [33], [29], [40], [35], [32], [37], [34], [34], [84], [82], [88], [85], [35], [33], [33], [29], [83], [28], [31], [37], [31], [33], [30], [30], [34], [30], [30], [86], [29], [30], [28], [37], [37], [82], [42], [28], [30], [32], [35], [35], [31], [35], [33], [29], [35], [38], [34], [33], [32], [34], [31], [27], [39], [38], [84], [77], [34], [28], [36], [91], [34]], \"hovertemplate\": \"Cluster=Cluster 2<br>PCA1=%{x}<br>PCA2=%{y}<br>Feature=%{customdata[0]}<extra></extra>\", \"legendgroup\": \"Cluster 2\", \"marker\": {\"color\": \"#00cc96\", \"opacity\": 0.5, \"symbol\": \"circle\"}, \"mode\": \"markers\", \"name\": \"Cluster 2\", \"orientation\": \"v\", \"showlegend\": true, \"textposition\": \"top center\", \"type\": \"scatter\", \"x\": [0.3070294102089413, 0.6140887372753004, 0.3754327904133492, 0.5438739527426215, 0.04804976172014894, -1.246904593607952, -1.4842225813296512, 0.06355606750361338, 0.35943598890219336, 0.2649134466769478, 0.40245099657030614, 0.3845052531687989, 0.33294215853957143, 0.141106995077453, 0.21115517885341253, 0.13008180506741285, 0.24446829662461267, 0.012815314127692863, -1.2646852683527356, 0.5718352703209505, -0.13317789586213563, 0.29598533129187776, -1.4044776460534723, 0.43626632161967704, 0.36393371430433524, 0.2355478289497881, 0.3297776067508478, -1.3427793600216866, 0.44844429081285203, 0.2538565258460621, 0.2356840640665602, 0.40349411403433544, 0.10416237980165265, 0.30461665966297474, 0.010518749806852778, 0.41403518888813673, -1.0949529460702785, 0.25195100251324937, 0.39744058045134606, -1.404411386476286, 0.42940101066236896, 0.12864450308370676, -1.0541528534080695, 0.399546085369273, -1.2548117888895034, 0.011481065569843957, -1.2569311373978442, 0.49406292691990994, 0.5244022630583316, -0.0871523700500766, -1.560149792825187, 0.36389133928283535, 0.5452387574027823, -0.02590864418332165, 0.6575406683911175, 0.42028662398985345, 0.48168039397819445, 0.08641834442256457, 0.2664268929107338, 0.18657178043459885, -1.3740781972353229, 0.10923738618228039, 0.5454419239518697, -1.0594442034675315, 0.00856123098752956, 0.5476836698545151, 0.4749432070352599, 0.5488794072139032, 0.7980582570312516, 0.25653470216099944, 0.19672318046939757, 0.4362488886642653, 0.48847458413527733, 0.24676907848104135, 0.07756808433005782, 0.0395564891664977, 0.5262372520229205, -1.38412395117529, 0.15080993528586506, 0.483902394466509, 0.18186119495633749, 0.3197803143158604, 0.23032130098241418, 0.48159069117347597, 0.2619155960722456, 0.5757141896099114, 0.3333977004036947, 0.7231390315749109, 0.16687762980261261, -0.8847897698205406, 0.4589826225840662, 0.5572855042118277, -0.11947924011043726, 0.16044978228124113, 0.25348436280135034, 0.19418113572189882, 0.37308468962136043, 0.320013278073726, -1.2360012592861653, -1.1954837283398614, -1.7838276239281696, -1.1162290985148484, 0.2741643746957851, 0.10992622147351726, 0.38078947299048277, 0.2519227108717809, -1.0234193840699453, 0.24968333398102466, 0.4407671255361468, 0.2578198537247982, 0.4542590309135152, 0.34020908511622855, 0.16014394335897383, 0.3406323353765562, -0.21168129879310227, 0.5239181202856692, 0.5954068883969375, -1.3434211655407209, 0.3469068373043461, 0.18111105804090377, 0.5027962453229629, -0.09583531832870423, 0.22901573323987914, -1.1452254770464803, 0.15986556810862332, 0.3445792787466179, 0.4648109194537033, 0.0632065256517854, -0.012411569003758623, 0.3771479410532704, 0.34170476680175726, 0.14576868518406474, 0.02507299300787238, 0.34833569168274425, 0.4398923633821287, 0.3169657604996488, 0.4548584475238026, 0.2971695879728321, 0.4870063686805262, 0.33145019159153055, 0.3108302058841823, 0.368435580733137, -0.1612405175511695, 0.3867056100878983, -1.3142709597535052, -1.0463512201393255, 0.22890173554435228, 0.6716511670547829, 0.29750561076480725, -1.4435110499822363, 0.35873384199656055], \"xaxis\": \"x\", \"y\": [1.3981604035203627, 1.724410459511104, 1.5689358926468544, 1.6662522155453345, 1.5094803840453415, 1.6633700330454766, 1.9939049777464166, 1.9173301840816133, 1.4841206678740182, 1.6404502378455375, 1.848789480352386, 1.4463620291143533, 1.8575915333073922, 1.7868748127212448, 1.6639660789004824, 1.6460623292951746, 1.492230149477685, 1.9067766215007254, 1.6822630435611332, 1.6859710489837811, 2.0553088253064278, 1.407977004772608, 1.7575392323961725, 1.5981053201803306, 1.574032049401376, 1.624594271026294, 1.2940348503143855, 1.6078541931029946, 1.4110400255045688, 1.7366097538237137, 1.510274946599512, 1.650152893046044, 1.9600181593441486, 1.7825075391753713, 1.6382604254748776, 1.675866939176621, 1.2684497683169889, 1.7794611195538073, 1.6135520953387017, 1.645289627499808, 1.6334586593662825, 1.9730474398496856, 1.5628535183765822, 1.5982387600026906, 1.5768850069105615, 1.429401062488261, 1.4993113764411499, 1.6526768857137148, 1.435439647940778, 1.7895448968285468, 1.7520283827514262, 1.5153044256389863, 1.5241410018934893, 1.8699914766483834, 1.8499450698570559, 1.5892235440054485, 1.6811740082860342, 1.8635134456842988, 1.592249498496437, 1.788065464094321, 1.84397615251424, 1.6423963158515158, 2.040452704555171, 1.310778255049963, 1.857898613104105, 1.8062306667521848, 1.6703313469245575, 1.7711978292836426, 1.3249686574242712, 1.762334845514027, 1.895572029276364, 1.8292697178178294, 1.7470184163868379, 1.6732570003099672, 1.4746754417557917, 1.565670109002903, 1.8021927769768837, 1.7001697162637102, 1.70123307567028, 1.411397124115865, 1.7605782285304223, 1.3712090762138835, 1.1898520165007063, 1.3443689998229233, 1.8359396872204137, 1.9589663986441328, 1.7702598103371538, 1.5687761419871578, 1.7417345791792196, 1.4496687011308056, 1.7725991419250118, 1.879694182206688, 1.6190663912169982, 1.7249920211177063, 1.6966273720426486, 1.6506559340593403, 1.1239505002847312, 1.653867724873632, 1.5561179279505126, 1.8576959130642285, 1.9513140336078858, 1.4520436894278914, 1.9164689736324845, 2.0556031966762887, 1.6295380103189852, 1.5569364575846516, 1.3952412277060562, 1.809979498978594, 1.450397572705244, 1.3175016453087112, 1.7029217162400168, 1.6503203297421118, 2.044576812177429, 1.8538212715066895, 1.994410163969679, 1.595496360528675, 1.5865208384604, 1.6074863976027007, 1.7302256118030042, 1.8576077242622657, 1.8990539406994136, 1.702326727491093, 1.6646201281041637, 1.7084017379156045, 1.4598614670763232, 1.6604767218881806, 1.7455591437885905, 1.7059101460342063, 1.9632323290946248, 1.4007534591873703, 1.7079631112213136, 1.6705269168572348, 1.8242224527874098, 1.946232554883415, 1.6513715015658914, 1.6930075372967086, 1.6219889903044822, 1.7492218292198591, 1.6724022008378876, 1.4019845168366274, 2.0398045344549454, 1.9350938462900542, 1.7388236176891037, 1.5803092586927696, 1.506511645761137, 1.97016083457313, 1.6749839731646803, 1.6176588365188267, 1.5508661716526968, 1.6330073297510996, 1.9483367563131913], \"yaxis\": \"y\"}, {\"customdata\": [[27], [23], [25], [17], [24], [20], [23], [26], [23], [27], [23], [31], [22], [24], [29], [22], [28], [26], [25], [24], [24], [25], [20], [30], [25], [28], [20], [24], [22], [26], [17], [26], [28], [18], [21], [21], [17], [27], [25], [24], [28], [26], [28], [25], [24], [17], [29], [29], [28], [18]], \"hovertemplate\": \"Cluster=Cluster 3<br>PCA1=%{x}<br>PCA2=%{y}<br>Feature=%{customdata[0]}<extra></extra>\", \"legendgroup\": \"Cluster 3\", \"marker\": {\"color\": \"#ab63fa\", \"opacity\": 0.5, \"symbol\": \"circle\"}, \"mode\": \"markers\", \"name\": \"Cluster 3\", \"orientation\": \"v\", \"showlegend\": true, \"textposition\": \"top center\", \"type\": \"scatter\", \"x\": [2.7453229511303388, 3.1254534395883304, 3.122784682360347, 3.4392232513910046, 2.864159127522357, 2.9240626286612685, 2.8899395825601943, 2.8576515908113467, 2.917445281382241, 2.6707087726419907, 2.738329963688203, 2.7242733493962663, 2.863877114290946, 2.898655703897159, 2.7684030967185964, 3.089184624218131, 2.869786613325936, 2.8194177382640913, 2.6671995388713334, 3.1591261862373403, 2.957934098253033, 2.918863313686763, 2.887060697174684, 2.478393985958895, 2.858370277358073, 2.9913299228494927, 2.8413978321833477, 2.983858691948535, 2.849840602929608, 2.8886406984505153, 3.1101493310199975, 2.6493621964801775, 2.616059713268722, 2.9542047322001665, 2.9323154663845985, 3.006636979316512, 3.156692885658748, 2.951215396011261, 2.7721876043725233, 2.7362012810793304, 2.9276307771902115, 2.5835291787157546, 2.5329377620152886, 2.60358472590843, 2.949337624948914, 3.2093326355310556, 2.8393761248391503, 2.829777109308966, 2.5229877449535985, 2.8348344946414534], \"xaxis\": \"x\", \"y\": [-0.16060759388535772, 0.055608430969572346, -0.053519389755965506, -0.03433610286687494, 0.04909455947250902, 0.1712515512257125, 0.08348301980703669, -0.23132238497355545, -0.02990108908819086, -0.12072604693456138, -0.019637197830232964, -0.3138278258520388, 0.2661380423949839, 0.043878216455397856, -0.03351844337071285, 0.00921463034934296, -0.3333252449001571, 0.054800146158785625, 0.18516633062008642, -0.060562324378432966, 0.06590931467921686, -0.02532644626280908, 0.041438924974755494, -0.025802065532740667, 0.016764800334630257, -0.4319264853887277, 0.25584102764898736, -0.13110641458649502, -0.09807935831901343, -0.14565571818533257, -0.0017869854021300249, 0.05361267482164347, 0.055188186900684076, 0.28908746119397954, -0.011434193010067158, 0.04444842353023489, 0.24417172942251975, -0.3139343851914792, 0.13162264566654025, -0.06556709186929048, -0.22800950730220845, 0.18426710017747663, -0.13148686982957078, 0.03614502133790622, 0.08887297591778315, 0.21851666548721177, 0.13547458434795945, -0.34583621957395594, -0.01444569120224647, 0.24473994640383775], \"yaxis\": \"y\"}],\n",
       "                        {\"height\": 600, \"legend\": {\"title\": {\"text\": \"Cluster\"}, \"tracegroupgap\": 0}, \"margin\": {\"t\": 60}, \"plot_bgcolor\": \"rgb(240,240,240)\", \"template\": {\"data\": {\"bar\": [{\"error_x\": {\"color\": \"#2a3f5f\"}, \"error_y\": {\"color\": \"#2a3f5f\"}, \"marker\": {\"line\": {\"color\": \"#E5ECF6\", \"width\": 0.5}}, \"type\": \"bar\"}], \"barpolar\": [{\"marker\": {\"line\": {\"color\": \"#E5ECF6\", \"width\": 0.5}}, \"type\": \"barpolar\"}], \"carpet\": [{\"aaxis\": {\"endlinecolor\": \"#2a3f5f\", \"gridcolor\": \"white\", \"linecolor\": \"white\", \"minorgridcolor\": \"white\", \"startlinecolor\": \"#2a3f5f\"}, \"baxis\": {\"endlinecolor\": \"#2a3f5f\", \"gridcolor\": \"white\", \"linecolor\": \"white\", \"minorgridcolor\": \"white\", \"startlinecolor\": \"#2a3f5f\"}, \"type\": \"carpet\"}], \"choropleth\": [{\"colorbar\": {\"outlinewidth\": 0, \"ticks\": \"\"}, \"type\": \"choropleth\"}], \"contour\": [{\"colorbar\": {\"outlinewidth\": 0, \"ticks\": \"\"}, \"colorscale\": [[0.0, \"#0d0887\"], [0.1111111111111111, \"#46039f\"], [0.2222222222222222, \"#7201a8\"], [0.3333333333333333, \"#9c179e\"], [0.4444444444444444, \"#bd3786\"], [0.5555555555555556, \"#d8576b\"], [0.6666666666666666, \"#ed7953\"], [0.7777777777777778, \"#fb9f3a\"], [0.8888888888888888, \"#fdca26\"], [1.0, \"#f0f921\"]], \"type\": \"contour\"}], \"contourcarpet\": [{\"colorbar\": {\"outlinewidth\": 0, \"ticks\": \"\"}, \"type\": \"contourcarpet\"}], \"heatmap\": [{\"colorbar\": {\"outlinewidth\": 0, \"ticks\": \"\"}, \"colorscale\": [[0.0, \"#0d0887\"], [0.1111111111111111, \"#46039f\"], [0.2222222222222222, \"#7201a8\"], [0.3333333333333333, \"#9c179e\"], [0.4444444444444444, \"#bd3786\"], [0.5555555555555556, \"#d8576b\"], [0.6666666666666666, \"#ed7953\"], [0.7777777777777778, \"#fb9f3a\"], [0.8888888888888888, \"#fdca26\"], [1.0, \"#f0f921\"]], \"type\": \"heatmap\"}], \"heatmapgl\": [{\"colorbar\": {\"outlinewidth\": 0, \"ticks\": \"\"}, \"colorscale\": [[0.0, \"#0d0887\"], [0.1111111111111111, \"#46039f\"], [0.2222222222222222, \"#7201a8\"], [0.3333333333333333, \"#9c179e\"], [0.4444444444444444, \"#bd3786\"], [0.5555555555555556, \"#d8576b\"], [0.6666666666666666, \"#ed7953\"], [0.7777777777777778, \"#fb9f3a\"], [0.8888888888888888, \"#fdca26\"], [1.0, \"#f0f921\"]], \"type\": \"heatmapgl\"}], \"histogram\": [{\"marker\": {\"colorbar\": {\"outlinewidth\": 0, \"ticks\": \"\"}}, \"type\": \"histogram\"}], \"histogram2d\": [{\"colorbar\": {\"outlinewidth\": 0, \"ticks\": \"\"}, \"colorscale\": [[0.0, \"#0d0887\"], [0.1111111111111111, \"#46039f\"], [0.2222222222222222, \"#7201a8\"], [0.3333333333333333, \"#9c179e\"], [0.4444444444444444, \"#bd3786\"], [0.5555555555555556, \"#d8576b\"], [0.6666666666666666, \"#ed7953\"], [0.7777777777777778, \"#fb9f3a\"], [0.8888888888888888, \"#fdca26\"], [1.0, \"#f0f921\"]], \"type\": \"histogram2d\"}], \"histogram2dcontour\": [{\"colorbar\": {\"outlinewidth\": 0, \"ticks\": \"\"}, \"colorscale\": [[0.0, \"#0d0887\"], [0.1111111111111111, \"#46039f\"], [0.2222222222222222, \"#7201a8\"], [0.3333333333333333, \"#9c179e\"], [0.4444444444444444, \"#bd3786\"], [0.5555555555555556, \"#d8576b\"], [0.6666666666666666, \"#ed7953\"], [0.7777777777777778, \"#fb9f3a\"], [0.8888888888888888, \"#fdca26\"], [1.0, \"#f0f921\"]], \"type\": \"histogram2dcontour\"}], \"mesh3d\": [{\"colorbar\": {\"outlinewidth\": 0, \"ticks\": \"\"}, \"type\": \"mesh3d\"}], \"parcoords\": [{\"line\": {\"colorbar\": {\"outlinewidth\": 0, \"ticks\": \"\"}}, \"type\": \"parcoords\"}], \"pie\": [{\"automargin\": true, \"type\": \"pie\"}], \"scatter\": [{\"marker\": {\"colorbar\": {\"outlinewidth\": 0, \"ticks\": \"\"}}, \"type\": \"scatter\"}], \"scatter3d\": [{\"line\": {\"colorbar\": {\"outlinewidth\": 0, \"ticks\": \"\"}}, \"marker\": {\"colorbar\": {\"outlinewidth\": 0, \"ticks\": \"\"}}, \"type\": \"scatter3d\"}], \"scattercarpet\": [{\"marker\": {\"colorbar\": {\"outlinewidth\": 0, \"ticks\": \"\"}}, \"type\": \"scattercarpet\"}], \"scattergeo\": [{\"marker\": {\"colorbar\": {\"outlinewidth\": 0, \"ticks\": \"\"}}, \"type\": \"scattergeo\"}], \"scattergl\": [{\"marker\": {\"colorbar\": {\"outlinewidth\": 0, \"ticks\": \"\"}}, \"type\": \"scattergl\"}], \"scattermapbox\": [{\"marker\": {\"colorbar\": {\"outlinewidth\": 0, \"ticks\": \"\"}}, \"type\": \"scattermapbox\"}], \"scatterpolar\": [{\"marker\": {\"colorbar\": {\"outlinewidth\": 0, \"ticks\": \"\"}}, \"type\": \"scatterpolar\"}], \"scatterpolargl\": [{\"marker\": {\"colorbar\": {\"outlinewidth\": 0, \"ticks\": \"\"}}, \"type\": \"scatterpolargl\"}], \"scatterternary\": [{\"marker\": {\"colorbar\": {\"outlinewidth\": 0, \"ticks\": \"\"}}, \"type\": \"scatterternary\"}], \"surface\": [{\"colorbar\": {\"outlinewidth\": 0, \"ticks\": \"\"}, \"colorscale\": [[0.0, \"#0d0887\"], [0.1111111111111111, \"#46039f\"], [0.2222222222222222, \"#7201a8\"], [0.3333333333333333, \"#9c179e\"], [0.4444444444444444, \"#bd3786\"], [0.5555555555555556, \"#d8576b\"], [0.6666666666666666, \"#ed7953\"], [0.7777777777777778, \"#fb9f3a\"], [0.8888888888888888, \"#fdca26\"], [1.0, \"#f0f921\"]], \"type\": \"surface\"}], \"table\": [{\"cells\": {\"fill\": {\"color\": \"#EBF0F8\"}, \"line\": {\"color\": \"white\"}}, \"header\": {\"fill\": {\"color\": \"#C8D4E3\"}, \"line\": {\"color\": \"white\"}}, \"type\": \"table\"}]}, \"layout\": {\"annotationdefaults\": {\"arrowcolor\": \"#2a3f5f\", \"arrowhead\": 0, \"arrowwidth\": 1}, \"coloraxis\": {\"colorbar\": {\"outlinewidth\": 0, \"ticks\": \"\"}}, \"colorscale\": {\"diverging\": [[0, \"#8e0152\"], [0.1, \"#c51b7d\"], [0.2, \"#de77ae\"], [0.3, \"#f1b6da\"], [0.4, \"#fde0ef\"], [0.5, \"#f7f7f7\"], [0.6, \"#e6f5d0\"], [0.7, \"#b8e186\"], [0.8, \"#7fbc41\"], [0.9, \"#4d9221\"], [1, \"#276419\"]], \"sequential\": [[0.0, \"#0d0887\"], [0.1111111111111111, \"#46039f\"], [0.2222222222222222, \"#7201a8\"], [0.3333333333333333, \"#9c179e\"], [0.4444444444444444, \"#bd3786\"], [0.5555555555555556, \"#d8576b\"], [0.6666666666666666, \"#ed7953\"], [0.7777777777777778, \"#fb9f3a\"], [0.8888888888888888, \"#fdca26\"], [1.0, \"#f0f921\"]], \"sequentialminus\": [[0.0, \"#0d0887\"], [0.1111111111111111, \"#46039f\"], [0.2222222222222222, \"#7201a8\"], [0.3333333333333333, \"#9c179e\"], [0.4444444444444444, \"#bd3786\"], [0.5555555555555556, \"#d8576b\"], [0.6666666666666666, \"#ed7953\"], [0.7777777777777778, \"#fb9f3a\"], [0.8888888888888888, \"#fdca26\"], [1.0, \"#f0f921\"]]}, \"colorway\": [\"#636efa\", \"#EF553B\", \"#00cc96\", \"#ab63fa\", \"#FFA15A\", \"#19d3f3\", \"#FF6692\", \"#B6E880\", \"#FF97FF\", \"#FECB52\"], \"font\": {\"color\": \"#2a3f5f\"}, \"geo\": {\"bgcolor\": \"white\", \"lakecolor\": \"white\", \"landcolor\": \"#E5ECF6\", \"showlakes\": true, \"showland\": true, \"subunitcolor\": \"white\"}, \"hoverlabel\": {\"align\": \"left\"}, \"hovermode\": \"closest\", \"mapbox\": {\"style\": \"light\"}, \"paper_bgcolor\": \"white\", \"plot_bgcolor\": \"#E5ECF6\", \"polar\": {\"angularaxis\": {\"gridcolor\": \"white\", \"linecolor\": \"white\", \"ticks\": \"\"}, \"bgcolor\": \"#E5ECF6\", \"radialaxis\": {\"gridcolor\": \"white\", \"linecolor\": \"white\", \"ticks\": \"\"}}, \"scene\": {\"xaxis\": {\"backgroundcolor\": \"#E5ECF6\", \"gridcolor\": \"white\", \"gridwidth\": 2, \"linecolor\": \"white\", \"showbackground\": true, \"ticks\": \"\", \"zerolinecolor\": \"white\"}, \"yaxis\": {\"backgroundcolor\": \"#E5ECF6\", \"gridcolor\": \"white\", \"gridwidth\": 2, \"linecolor\": \"white\", \"showbackground\": true, \"ticks\": \"\", \"zerolinecolor\": \"white\"}, \"zaxis\": {\"backgroundcolor\": \"#E5ECF6\", \"gridcolor\": \"white\", \"gridwidth\": 2, \"linecolor\": \"white\", \"showbackground\": true, \"ticks\": \"\", \"zerolinecolor\": \"white\"}}, \"shapedefaults\": {\"line\": {\"color\": \"#2a3f5f\"}}, \"ternary\": {\"aaxis\": {\"gridcolor\": \"white\", \"linecolor\": \"white\", \"ticks\": \"\"}, \"baxis\": {\"gridcolor\": \"white\", \"linecolor\": \"white\", \"ticks\": \"\"}, \"bgcolor\": \"#E5ECF6\", \"caxis\": {\"gridcolor\": \"white\", \"linecolor\": \"white\", \"ticks\": \"\"}}, \"title\": {\"x\": 0.05}, \"xaxis\": {\"automargin\": true, \"gridcolor\": \"white\", \"linecolor\": \"white\", \"ticks\": \"\", \"title\": {\"standoff\": 15}, \"zerolinecolor\": \"white\", \"zerolinewidth\": 2}, \"yaxis\": {\"automargin\": true, \"gridcolor\": \"white\", \"linecolor\": \"white\", \"ticks\": \"\", \"title\": {\"standoff\": 15}, \"zerolinecolor\": \"white\", \"zerolinewidth\": 2}}}, \"title\": {\"text\": \"2D Cluster PCA Plot\"}, \"xaxis\": {\"anchor\": \"y\", \"domain\": [0.0, 1.0], \"title\": {\"text\": \"PCA1\"}}, \"yaxis\": {\"anchor\": \"x\", \"domain\": [0.0, 1.0], \"title\": {\"text\": \"PCA2\"}}},\n",
       "                        {\"responsive\": true}\n",
       "                    ).then(function(){\n",
       "                            \n",
       "var gd = document.getElementById('9e1317a2-8324-4fc3-8dad-86056a73aedf');\n",
       "var x = new MutationObserver(function (mutations, observer) {{\n",
       "        var display = window.getComputedStyle(gd).display;\n",
       "        if (!display || display === 'none') {{\n",
       "            console.log([gd, 'removed!']);\n",
       "            Plotly.purge(gd);\n",
       "            observer.disconnect();\n",
       "        }}\n",
       "}});\n",
       "\n",
       "// Listen for the removal of the full notebook cells\n",
       "var notebookContainer = gd.closest('#notebook-container');\n",
       "if (notebookContainer) {{\n",
       "    x.observe(notebookContainer, {childList: true});\n",
       "}}\n",
       "\n",
       "// Listen for the clearing of the current output cell\n",
       "var outputEl = gd.closest('.output');\n",
       "if (outputEl) {{\n",
       "    x.observe(outputEl, {childList: true});\n",
       "}}\n",
       "\n",
       "                        })\n",
       "                };\n",
       "                });\n",
       "            </script>\n",
       "        </div>"
      ]
     },
     "metadata": {},
     "output_type": "display_data"
    },
    {
     "name": "stderr",
     "output_type": "stream",
     "text": [
      "INFO:logs:Visual Rendered Successfully\n",
      "INFO:logs:plot_model() succesfully completed......................................\n",
      "INFO:logs:Initializing plot_model()\n",
      "INFO:logs:plot_model(model=KMeans(algorithm='auto', copy_x=True, init='k-means++', max_iter=300,\n",
      "       n_clusters=4, n_init=10, n_jobs=-1, precompute_distances='deprecated',\n",
      "       random_state=123, tol=0.0001, verbose=0), plot=elbow, feature=None, label=False, save=False, system=True)\n",
      "INFO:logs:Checking exceptions\n",
      "INFO:logs:Importing libraries\n"
     ]
    },
    {
     "data": {
      "text/html": [
       "        <script type=\"text/javascript\">\n",
       "        window.PlotlyConfig = {MathJaxConfig: 'local'};\n",
       "        if (window.MathJax) {MathJax.Hub.Config({SVG: {font: \"STIX-Web\"}});}\n",
       "        if (typeof require !== 'undefined') {\n",
       "        require.undef(\"plotly\");\n",
       "        requirejs.config({\n",
       "            paths: {\n",
       "                'plotly': ['https://cdn.plot.ly/plotly-latest.min']\n",
       "            }\n",
       "        });\n",
       "        require(['plotly'], function(Plotly) {\n",
       "            window._Plotly = Plotly;\n",
       "        });\n",
       "        }\n",
       "        </script>\n",
       "        "
      ]
     },
     "metadata": {},
     "output_type": "display_data"
    },
    {
     "name": "stderr",
     "output_type": "stream",
     "text": [
      "INFO:logs:plot type: elbow\n",
      "INFO:logs:Fitting KElbowVisualizer()\n",
      "INFO:logs:Rendering Visual\n"
     ]
    },
    {
     "data": {
      "image/png": "[encoded data removed]",
      "text/plain": [
       "<Figure size 432x288 with 1 Axes>"
      ]
     },
     "metadata": {
      "needs_background": "light"
     },
     "output_type": "display_data"
    },
    {
     "name": "stderr",
     "output_type": "stream",
     "text": [
      "INFO:logs:Visual Rendered Successfully\n",
      "INFO:logs:plot_model() succesfully completed......................................\n",
      "INFO:logs:Initializing plot_model()\n",
      "INFO:logs:plot_model(model=KMeans(algorithm='auto', copy_x=True, init='k-means++', max_iter=300,\n",
      "       n_clusters=4, n_init=10, n_jobs=-1, precompute_distances='deprecated',\n",
      "       random_state=123, tol=0.0001, verbose=0), plot=silhouette, feature=None, label=False, save=False, system=True)\n",
      "INFO:logs:Checking exceptions\n",
      "INFO:logs:Importing libraries\n"
     ]
    },
    {
     "data": {
      "text/html": [
       "        <script type=\"text/javascript\">\n",
       "        window.PlotlyConfig = {MathJaxConfig: 'local'};\n",
       "        if (window.MathJax) {MathJax.Hub.Config({SVG: {font: \"STIX-Web\"}});}\n",
       "        if (typeof require !== 'undefined') {\n",
       "        require.undef(\"plotly\");\n",
       "        requirejs.config({\n",
       "            paths: {\n",
       "                'plotly': ['https://cdn.plot.ly/plotly-latest.min']\n",
       "            }\n",
       "        });\n",
       "        require(['plotly'], function(Plotly) {\n",
       "            window._Plotly = Plotly;\n",
       "        });\n",
       "        }\n",
       "        </script>\n",
       "        "
      ]
     },
     "metadata": {},
     "output_type": "display_data"
    },
    {
     "name": "stderr",
     "output_type": "stream",
     "text": [
      "INFO:logs:plot type: silhouette\n",
      "INFO:logs:Fitting SilhouetteVisualizer()\n",
      "INFO:logs:Rendering Visual\n"
     ]
    },
    {
     "data": {
      "image/png": "[encoded data removed]",
      "text/plain": [
       "<Figure size 432x288 with 1 Axes>"
      ]
     },
     "metadata": {
      "needs_background": "light"
     },
     "output_type": "display_data"
    },
    {
     "name": "stderr",
     "output_type": "stream",
     "text": [
      "INFO:logs:Visual Rendered Successfully\n",
      "INFO:logs:plot_model() succesfully completed......................................\n",
      "INFO:logs:Initializing plot_model()\n",
      "INFO:logs:plot_model(model=KMeans(algorithm='auto', copy_x=True, init='k-means++', max_iter=300,\n",
      "       n_clusters=4, n_init=10, n_jobs=-1, precompute_distances='deprecated',\n",
      "       random_state=123, tol=0.0001, verbose=0), plot=distribution, feature=None, label=False, save=False, system=True)\n",
      "INFO:logs:Checking exceptions\n",
      "INFO:logs:Importing libraries\n"
     ]
    },
    {
     "data": {
      "text/html": [
       "        <script type=\"text/javascript\">\n",
       "        window.PlotlyConfig = {MathJaxConfig: 'local'};\n",
       "        if (window.MathJax) {MathJax.Hub.Config({SVG: {font: \"STIX-Web\"}});}\n",
       "        if (typeof require !== 'undefined') {\n",
       "        require.undef(\"plotly\");\n",
       "        requirejs.config({\n",
       "            paths: {\n",
       "                'plotly': ['https://cdn.plot.ly/plotly-latest.min']\n",
       "            }\n",
       "        });\n",
       "        require(['plotly'], function(Plotly) {\n",
       "            window._Plotly = Plotly;\n",
       "        });\n",
       "        }\n",
       "        </script>\n",
       "        "
      ]
     },
     "metadata": {},
     "output_type": "display_data"
    },
    {
     "name": "stderr",
     "output_type": "stream",
     "text": [
      "INFO:logs:plot type: distribution\n",
      "INFO:logs:SubProcess assign_model() called ==================================\n",
      "INFO:logs:Initializing assign_model()\n",
      "INFO:logs:assign_model(model=KMeans(algorithm='auto', copy_x=True, init='k-means++', max_iter=300,\n",
      "       n_clusters=4, n_init=10, n_jobs=-1, precompute_distances='deprecated',\n",
      "       random_state=123, tol=0.0001, verbose=0), transformation=False, verbose=False)\n",
      "INFO:logs:Checking exceptions\n",
      "INFO:logs:Preloading libraries\n",
      "INFO:logs:Copying data\n",
      "INFO:logs:Preparing display monitor\n",
      "INFO:logs:Determining Trained Model\n",
      "INFO:logs:Trained Model : K-Means Clustering\n",
      "INFO:logs:(505, 5)\n",
      "INFO:logs:assign_model() succesfully completed......................................\n",
      "INFO:logs:SubProcess assign_model() end ==================================\n",
      "INFO:logs:Sorting dataframe\n",
      "INFO:logs:Rendering Visual\n"
     ]
    },
    {
     "data": {
      "application/vnd.plotly.v1+json": {
       "config": {
        "plotlyServerURL": "https://plot.ly"
       },
       "data": [
        {
         "alignmentgroup": "True",
         "bingroup": "x",
         "hovertemplate": "Cluster=%{x}<br>count=%{y}<extra></extra>",
         "legendgroup": "Cluster 0",
         "marker": {
          "color": "#636efa",
          "opacity": 0.7
         },
         "name": "Cluster 0",
         "offsetgroup": "Cluster 0",
         "orientation": "v",
         "showlegend": true,
         "type": "histogram",
         "x": [
          "Cluster 0",
          "Cluster 0",
          "Cluster 0",
          "Cluster 0",
          "Cluster 0",
          "Cluster 0",
          "Cluster 0",
          "Cluster 0",
          "Cluster 0",
          "Cluster 0",
          "Cluster 0",
          "Cluster 0",
          "Cluster 0",
          "Cluster 0",
          "Cluster 0",
          "Cluster 0",
          "Cluster 0",
          "Cluster 0",
          "Cluster 0",
          "Cluster 0",
          "Cluster 0",
          "Cluster 0",
          "Cluster 0",
          "Cluster 0",
          "Cluster 0",
          "Cluster 0",
          "Cluster 0",
          "Cluster 0",
          "Cluster 0",
          "Cluster 0",
          "Cluster 0",
          "Cluster 0",
          "Cluster 0",
          "Cluster 0",
          "Cluster 0",
          "Cluster 0",
          "Cluster 0",
          "Cluster 0",
          "Cluster 0",
          "Cluster 0",
          "Cluster 0",
          "Cluster 0",
          "Cluster 0",
          "Cluster 0",
          "Cluster 0",
          "Cluster 0",
          "Cluster 0",
          "Cluster 0",
          "Cluster 0",
          "Cluster 0",
          "Cluster 0",
          "Cluster 0",
          "Cluster 0",
          "Cluster 0",
          "Cluster 0",
          "Cluster 0",
          "Cluster 0",
          "Cluster 0",
          "Cluster 0",
          "Cluster 0",
          "Cluster 0",
          "Cluster 0",
          "Cluster 0",
          "Cluster 0",
          "Cluster 0",
          "Cluster 0",
          "Cluster 0",
          "Cluster 0",
          "Cluster 0",
          "Cluster 0",
          "Cluster 0",
          "Cluster 0",
          "Cluster 0",
          "Cluster 0",
          "Cluster 0",
          "Cluster 0",
          "Cluster 0",
          "Cluster 0",
          "Cluster 0",
          "Cluster 0",
          "Cluster 0",
          "Cluster 0",
          "Cluster 0",
          "Cluster 0",
          "Cluster 0",
          "Cluster 0",
          "Cluster 0",
          "Cluster 0",
          "Cluster 0",
          "Cluster 0",
          "Cluster 0",
          "Cluster 0",
          "Cluster 0",
          "Cluster 0",
          "Cluster 0",
          "Cluster 0",
          "Cluster 0",
          "Cluster 0",
          "Cluster 0",
          "Cluster 0",
          "Cluster 0",
          "Cluster 0",
          "Cluster 0",
          "Cluster 0",
          "Cluster 0",
          "Cluster 0",
          "Cluster 0",
          "Cluster 0",
          "Cluster 0",
          "Cluster 0",
          "Cluster 0",
          "Cluster 0",
          "Cluster 0",
          "Cluster 0",
          "Cluster 0",
          "Cluster 0",
          "Cluster 0",
          "Cluster 0",
          "Cluster 0",
          "Cluster 0",
          "Cluster 0",
          "Cluster 0",
          "Cluster 0",
          "Cluster 0",
          "Cluster 0",
          "Cluster 0",
          "Cluster 0",
          "Cluster 0",
          "Cluster 0",
          "Cluster 0",
          "Cluster 0",
          "Cluster 0",
          "Cluster 0",
          "Cluster 0",
          "Cluster 0",
          "Cluster 0",
          "Cluster 0",
          "Cluster 0",
          "Cluster 0",
          "Cluster 0",
          "Cluster 0",
          "Cluster 0",
          "Cluster 0",
          "Cluster 0",
          "Cluster 0",
          "Cluster 0",
          "Cluster 0"
         ],
         "xaxis": "x",
         "yaxis": "y"
        },
        {
         "alignmentgroup": "True",
         "customdata": [
          [
           89,
           30267,
           0.2893100658351509,
           14386.351879589123,
           "Cluster 0"
          ],
          [
           91,
           29082,
           0.28248852137129143,
           18794.488169074688,
           "Cluster 0"
          ],
          [
           92,
           22484,
           0.3317732623948493,
           18615.632589788456,
           "Cluster 0"
          ],
          [
           90,
           33490,
           0.4199085281737912,
           17091.904228934392,
           "Cluster 0"
          ],
          [
           93,
           17672,
           0.3032923688871533,
           18516.451810726718,
           "Cluster 0"
          ],
          [
           89,
           26940,
           0.3260051328059917,
           16555.159377159824,
           "Cluster 0"
          ],
          [
           88,
           28409,
           0.30565353367521064,
           17326.175608364214,
           "Cluster 0"
          ],
          [
           87,
           30178,
           0.2793159778940049,
           16123.070750832,
           "Cluster 0"
          ],
          [
           86,
           31994,
           0.24947694035510065,
           18210.088099070614,
           "Cluster 0"
          ],
          [
           82,
           33610,
           0.3012532342412973,
           17755.664940228176,
           "Cluster 0"
          ],
          [
           91,
           12038,
           0.3498032558856572,
           16464.960504438823,
           "Cluster 0"
          ],
          [
           88,
           35051,
           0.3860515062876169,
           17593.24679258195,
           "Cluster 0"
          ],
          [
           87,
           12000,
           0.3429910076112659,
           16180.26525174153,
           "Cluster 0"
          ],
          [
           91,
           36639,
           0.3261988874784867,
           16275.703341192586,
           "Cluster 0"
          ],
          [
           90,
           22288,
           0.2713268321051208,
           18434.099152391347,
           "Cluster 0"
          ],
          [
           85,
           21250,
           0.3104101151420252,
           16033.971166673777,
           "Cluster 0"
          ],
          [
           91,
           30148,
           0.2773889467565771,
           15324.287405101717,
           "Cluster 0"
          ],
          [
           88,
           26351,
           0.3041682062164747,
           14035.917553542351,
           "Cluster 0"
          ],
          [
           85,
           28401,
           0.3694371368158697,
           15990.49413056604,
           "Cluster 0"
          ],
          [
           85,
           34634,
           0.3690001696241634,
           16719.815875018445,
           "Cluster 0"
          ],
          [
           88,
           34001,
           0.33756932388752803,
           15530.934134298665,
           "Cluster 0"
          ],
          [
           84,
           42018,
           0.29799360218993026,
           16148.370454036614,
           "Cluster 0"
          ],
          [
           88,
           26092,
           0.3128732065230775,
           17105.79392615357,
           "Cluster 0"
          ],
          [
           94,
           28352,
           0.37687573531685575,
           16798.886114738052,
           "Cluster 0"
          ],
          [
           86,
           28779,
           0.3365233301816881,
           16047.268331461928,
           "Cluster 0"
          ],
          [
           94,
           38923,
           0.33022601809734325,
           16971.181554867213,
           "Cluster 0"
          ],
          [
           89,
           25252,
           0.32176522093208865,
           16539.364186086335,
           "Cluster 0"
          ],
          [
           87,
           25566,
           0.3167603729756968,
           15188.058749407255,
           "Cluster 0"
          ],
          [
           84,
           27384,
           0.31364671699548896,
           16734.672754073246,
           "Cluster 0"
          ],
          [
           91,
           28777,
           0.324193555035782,
           17808.2662415687,
           "Cluster 0"
          ],
          [
           91,
           27168,
           0.3322388165540652,
           15893.729773516614,
           "Cluster 0"
          ],
          [
           88,
           22602,
           0.35674482887974684,
           16740.343496726702,
           "Cluster 0"
          ],
          [
           88,
           28802,
           0.4083878319987073,
           16293.038332542192,
           "Cluster 0"
          ],
          [
           89,
           24520,
           0.44383270684567067,
           13556.9358834699,
           "Cluster 0"
          ],
          [
           91,
           29750,
           0.2884703320713124,
           19201.11991627576,
           "Cluster 0"
          ],
          [
           90,
           33259,
           0.377571058498228,
           15315.028503741696,
           "Cluster 0"
          ],
          [
           89,
           33311,
           0.3761469685086391,
           17093.06995548225,
           "Cluster 0"
          ],
          [
           83,
           18162,
           0.3013734548863509,
           16029.469213914268,
           "Cluster 0"
          ],
          [
           83,
           26882,
           0.34797963237384105,
           17775.22817123954,
           "Cluster 0"
          ],
          [
           86,
           18812,
           0.34154576038705153,
           16157.734142403422,
           "Cluster 0"
          ],
          [
           84,
           29492,
           0.3336031402694437,
           17954.09505703969,
           "Cluster 0"
          ],
          [
           94,
           18937,
           0.3470950600753079,
           17739.776098377628,
           "Cluster 0"
          ],
          [
           94,
           20719,
           0.336402269797664,
           16281.832273239006,
           "Cluster 0"
          ],
          [
           79,
           38201,
           0.3697828881534748,
           16393.395697309446,
           "Cluster 0"
          ],
          [
           88,
           19510,
           0.3167510258154691,
           16529.20080632274,
           "Cluster 0"
          ],
          [
           85,
           30794,
           0.2862292747117072,
           17096.39150937826,
           "Cluster 0"
          ],
          [
           82,
           24221,
           0.4735496605323542,
           16251.759445212669,
           "Cluster 0"
          ],
          [
           82,
           32494,
           0.3273154026360584,
           16799.444266662453,
           "Cluster 0"
          ],
          [
           91,
           16950,
           0.32300404344763,
           17172.609400509067,
           "Cluster 0"
          ],
          [
           91,
           20681,
           0.3546791690549572,
           18401.08844474873,
           "Cluster 0"
          ],
          [
           89,
           20292,
           0.3121481952107594,
           16023.4456584523,
           "Cluster 0"
          ],
          [
           84,
           27179,
           0.3474234168306904,
           15612.628547766899,
           "Cluster 0"
          ],
          [
           87,
           24578,
           0.37616545875063534,
           17789.247521813828,
           "Cluster 0"
          ],
          [
           81,
           34425,
           0.2726097792323641,
           16262.623790655764,
           "Cluster 0"
          ],
          [
           93,
           20440,
           0.2975730342292497,
           17406.074017844054,
           "Cluster 0"
          ],
          [
           84,
           27544,
           0.2309337663207005,
           18207.36169648481,
           "Cluster 0"
          ],
          [
           95,
           27038,
           0.3313520070109344,
           18126.577451151075,
           "Cluster 0"
          ],
          [
           89,
           26127,
           0.3044743722681633,
           17194.828018777476,
           "Cluster 0"
          ],
          [
           86,
           46977,
           0.2827283910152334,
           15628.957075805025,
           "Cluster 0"
          ],
          [
           85,
           27599,
           0.2819950483303406,
           13470.97060503703,
           "Cluster 0"
          ],
          [
           87,
           25701,
           0.3152205738281265,
           15738.859295516553,
           "Cluster 0"
          ],
          [
           92,
           35877,
           0.3668917159124752,
           17287.907016982324,
           "Cluster 0"
          ],
          [
           89,
           19202,
           0.3819877440174351,
           16626.22236147723,
           "Cluster 0"
          ],
          [
           85,
           29204,
           0.3254914498834959,
           16918.903460369133,
           "Cluster 0"
          ],
          [
           88,
           33251,
           0.3043913649608802,
           18868.24161249696,
           "Cluster 0"
          ],
          [
           86,
           35998,
           0.3216356471662456,
           20000,
           "Cluster 0"
          ],
          [
           94,
           27169,
           0.3141730453838618,
           15061.776215142369,
           "Cluster 0"
          ],
          [
           87,
           18459,
           0.2645499059687874,
           15637.59765457844,
           "Cluster 0"
          ],
          [
           85,
           29610,
           0.3181352453742131,
           18475.487468080933,
           "Cluster 0"
          ],
          [
           83,
           28497,
           0.3938023931664613,
           15510.112981164848,
           "Cluster 0"
          ],
          [
           87,
           46910,
           0.3085616998317755,
           14789.14847617646,
           "Cluster 0"
          ],
          [
           88,
           17388,
           0.4661894446652393,
           16698.6210372462,
           "Cluster 0"
          ],
          [
           84,
           38042,
           0.3660858718547989,
           17465.856285855403,
           "Cluster 0"
          ],
          [
           85,
           34802,
           0.2987969233586417,
           16450.003270402787,
           "Cluster 0"
          ],
          [
           91,
           25237,
           0.3535018242414266,
           17292.733103848248,
           "Cluster 0"
          ],
          [
           90,
           30178,
           0.2823512821567113,
           16182.8384364088,
           "Cluster 0"
          ],
          [
           88,
           32708,
           0.3682153159958089,
           16711.0679804242,
           "Cluster 0"
          ],
          [
           89,
           31096,
           0.2785878455435617,
           17736.94259966666,
           "Cluster 0"
          ],
          [
           88,
           27169,
           0.28005950486141434,
           15260.635546195437,
           "Cluster 0"
          ],
          [
           92,
           32915,
           0.3885749195868542,
           16694.706839244012,
           "Cluster 0"
          ],
          [
           90,
           25733,
           0.3385629680709827,
           17631.56888411863,
           "Cluster 0"
          ],
          [
           85,
           26355,
           0.34234066669498114,
           17971.19363998381,
           "Cluster 0"
          ],
          [
           88,
           28585,
           0.3977396663840213,
           16725.841854363774,
           "Cluster 0"
          ],
          [
           94,
           27771,
           0.3025032231546657,
           17303.957194969433,
           "Cluster 0"
          ],
          [
           84,
           22286,
           0.3955062459001081,
           17886.53737311577,
           "Cluster 0"
          ],
          [
           91,
           26424,
           0.3193886529047028,
           16501.46877669979,
           "Cluster 0"
          ],
          [
           88,
           17946,
           0.26964363039994416,
           16715.160017840968,
           "Cluster 0"
          ],
          [
           87,
           30812,
           0.3144631516753479,
           15238.118997598334,
           "Cluster 0"
          ],
          [
           86,
           36031,
           0.2401766350783482,
           16945.326244896307,
           "Cluster 0"
          ],
          [
           83,
           30492,
           0.3016314685914632,
           15365.85846293255,
           "Cluster 0"
          ],
          [
           83,
           33170,
           0.24107774427464634,
           16620.010473689304,
           "Cluster 0"
          ],
          [
           91,
           25886,
           0.30175376758370465,
           17266.045729118025,
           "Cluster 0"
          ],
          [
           86,
           15695,
           0.25717496647489363,
           17366.186263516567,
           "Cluster 0"
          ],
          [
           89,
           22008,
           0.3819060693389532,
           16458.398097731253,
           "Cluster 0"
          ],
          [
           92,
           36032,
           0.3369683066109672,
           17348.5998812573,
           "Cluster 0"
          ],
          [
           87,
           23042,
           0.3663120107544869,
           18149.035872923057,
           "Cluster 0"
          ],
          [
           84,
           36463,
           0.3536209572557781,
           16563.372591147832,
           "Cluster 0"
          ],
          [
           83,
           30721,
           0.3311418077630257,
           17705.99238527814,
           "Cluster 0"
          ],
          [
           83,
           23206,
           0.3212403632065312,
           16870.672003783384,
           "Cluster 0"
          ],
          [
           85,
           28408,
           0.3580738593579665,
           15063.335797441836,
           "Cluster 0"
          ],
          [
           90,
           33188,
           0.24881006879023135,
           15866.913937696345,
           "Cluster 0"
          ],
          [
           97,
           27271,
           0.28392289527040304,
           14928.165597390327,
           "Cluster 0"
          ],
          [
           92,
           18724,
           0.3278623148176303,
           15341.381109594675,
           "Cluster 0"
          ],
          [
           87,
           23322,
           0.30682119734644964,
           16131.267659393414,
           "Cluster 0"
          ],
          [
           91,
           28165,
           0.3036929225036061,
           17460.179350212424,
           "Cluster 0"
          ],
          [
           83,
           28727,
           0.3082630418510537,
           18205.33626089001,
           "Cluster 0"
          ],
          [
           87,
           31481,
           0.317423970601333,
           16180.68808203422,
           "Cluster 0"
          ],
          [
           91,
           26917,
           0.37671353045834655,
           17986.618644605885,
           "Cluster 0"
          ],
          [
           82,
           33636,
           0.3717829785401914,
           17866.83359752812,
           "Cluster 0"
          ],
          [
           91,
           24370,
           0.2963285713632805,
           16141.048981383728,
           "Cluster 0"
          ],
          [
           90,
           24376,
           0.2812794569155436,
           15134.994226396464,
           "Cluster 0"
          ],
          [
           86,
           23400,
           0.27803553844702666,
           15215.28126373834,
           "Cluster 0"
          ],
          [
           85,
           21652,
           0.3184561372216806,
           14175.16988549895,
           "Cluster 0"
          ],
          [
           90,
           22782,
           0.3563068710287742,
           15924.071707885845,
           "Cluster 0"
          ],
          [
           84,
           18244,
           0.29266337446440194,
           17815.348406878897,
           "Cluster 0"
          ],
          [
           87,
           26665,
           0.4021456613889217,
           17376.914743318182,
           "Cluster 0"
          ],
          [
           84,
           24105,
           0.2718090229374729,
           16524.902538052145,
           "Cluster 0"
          ],
          [
           88,
           31366,
           0.3796208481334848,
           16079.622699815933,
           "Cluster 0"
          ],
          [
           91,
           22672,
           0.2710645345158169,
           15407.646761130874,
           "Cluster 0"
          ],
          [
           84,
           30481,
           0.3970228936031003,
           16837.205964813103,
           "Cluster 0"
          ],
          [
           94,
           23854,
           0.3144466826182581,
           16828.410118749016,
           "Cluster 0"
          ],
          [
           89,
           28160,
           0.3388488510290433,
           15607.061781887898,
           "Cluster 0"
          ],
          [
           92,
           33550,
           0.3685156285793065,
           17106.32591058189,
           "Cluster 0"
          ],
          [
           89,
           34524,
           0.348118273264174,
           14051.256515312789,
           "Cluster 0"
          ],
          [
           90,
           37503,
           0.35778831446458764,
           17258.57497274541,
           "Cluster 0"
          ],
          [
           90,
           35297,
           0.35514901905663643,
           16091.401954058958,
           "Cluster 0"
          ],
          [
           88,
           17851,
           0.2898659849627828,
           17472.470686173863,
           "Cluster 0"
          ],
          [
           88,
           33303,
           0.39971568554521497,
           15232.598068845287,
           "Cluster 0"
          ],
          [
           93,
           19934,
           0.20314023979537812,
           17969.693768505334,
           "Cluster 0"
          ],
          [
           90,
           29029,
           0.30375897133462404,
           15592.991530526488,
           "Cluster 0"
          ],
          [
           87,
           26045,
           0.3752921226023748,
           15903.558359374925,
           "Cluster 0"
          ],
          [
           87,
           30102,
           0.3903905943444749,
           16330.081190027211,
           "Cluster 0"
          ],
          [
           91,
           30756,
           0.30369803009825364,
           15492.004711465304,
           "Cluster 0"
          ],
          [
           87,
           17760,
           0.34877754843050746,
           16869.507130301474,
           "Cluster 0"
          ],
          [
           87,
           15671,
           0.3507250914944152,
           14326.601120246103,
           "Cluster 0"
          ],
          [
           92,
           35484,
           0.3970636039704499,
           17324.045112814925,
           "Cluster 0"
          ],
          [
           84,
           20704,
           0.3794963151514172,
           16816.911895743782,
           "Cluster 0"
          ],
          [
           87,
           29909,
           0.3421516318130469,
           18142.232746738577,
           "Cluster 0"
          ],
          [
           87,
           42592,
           0.35528968203827593,
           18086.287157859304,
           "Cluster 0"
          ],
          [
           83,
           34384,
           0.3247186821733417,
           14783.379085794499,
           "Cluster 0"
          ],
          [
           79,
           32421,
           0.3032762059432743,
           15319.467662272391,
           "Cluster 0"
          ],
          [
           92,
           22616,
           0.3228506824321553,
           17275.66131398456,
           "Cluster 0"
          ],
          [
           91,
           36991,
           0.2685979050949868,
           19047.77233878285,
           "Cluster 0"
          ],
          [
           83,
           34529,
           0.3172075114569807,
           16517.208746949746,
           "Cluster 0"
          ],
          [
           86,
           27705,
           0.3293769514872405,
           17130.85610211788,
           "Cluster 0"
          ],
          [
           84,
           27693,
           0.3670629731870412,
           17879.558905551898,
           "Cluster 0"
          ],
          [
           82,
           24391,
           0.27610134635529604,
           17053.03010738692,
           "Cluster 0"
          ]
         ],
         "hovertemplate": "Cluster=%{customdata[4]}<br>Age=%{customdata[0]}<br>Income=%{customdata[1]}<br>SpendingScore=%{customdata[2]}<br>Savings=%{customdata[3]}<extra></extra>",
         "legendgroup": "Cluster 0",
         "marker": {
          "color": "#636efa"
         },
         "name": "Cluster 0",
         "notched": true,
         "offsetgroup": "Cluster 0",
         "showlegend": false,
         "type": "box",
         "x": [
          "Cluster 0",
          "Cluster 0",
          "Cluster 0",
          "Cluster 0",
          "Cluster 0",
          "Cluster 0",
          "Cluster 0",
          "Cluster 0",
          "Cluster 0",
          "Cluster 0",
          "Cluster 0",
          "Cluster 0",
          "Cluster 0",
          "Cluster 0",
          "Cluster 0",
          "Cluster 0",
          "Cluster 0",
          "Cluster 0",
          "Cluster 0",
          "Cluster 0",
          "Cluster 0",
          "Cluster 0",
          "Cluster 0",
          "Cluster 0",
          "Cluster 0",
          "Cluster 0",
          "Cluster 0",
          "Cluster 0",
          "Cluster 0",
          "Cluster 0",
          "Cluster 0",
          "Cluster 0",
          "Cluster 0",
          "Cluster 0",
          "Cluster 0",
          "Cluster 0",
          "Cluster 0",
          "Cluster 0",
          "Cluster 0",
          "Cluster 0",
          "Cluster 0",
          "Cluster 0",
          "Cluster 0",
          "Cluster 0",
          "Cluster 0",
          "Cluster 0",
          "Cluster 0",
          "Cluster 0",
          "Cluster 0",
          "Cluster 0",
          "Cluster 0",
          "Cluster 0",
          "Cluster 0",
          "Cluster 0",
          "Cluster 0",
          "Cluster 0",
          "Cluster 0",
          "Cluster 0",
          "Cluster 0",
          "Cluster 0",
          "Cluster 0",
          "Cluster 0",
          "Cluster 0",
          "Cluster 0",
          "Cluster 0",
          "Cluster 0",
          "Cluster 0",
          "Cluster 0",
          "Cluster 0",
          "Cluster 0",
          "Cluster 0",
          "Cluster 0",
          "Cluster 0",
          "Cluster 0",
          "Cluster 0",
          "Cluster 0",
          "Cluster 0",
          "Cluster 0",
          "Cluster 0",
          "Cluster 0",
          "Cluster 0",
          "Cluster 0",
          "Cluster 0",
          "Cluster 0",
          "Cluster 0",
          "Cluster 0",
          "Cluster 0",
          "Cluster 0",
          "Cluster 0",
          "Cluster 0",
          "Cluster 0",
          "Cluster 0",
          "Cluster 0",
          "Cluster 0",
          "Cluster 0",
          "Cluster 0",
          "Cluster 0",
          "Cluster 0",
          "Cluster 0",
          "Cluster 0",
          "Cluster 0",
          "Cluster 0",
          "Cluster 0",
          "Cluster 0",
          "Cluster 0",
          "Cluster 0",
          "Cluster 0",
          "Cluster 0",
          "Cluster 0",
          "Cluster 0",
          "Cluster 0",
          "Cluster 0",
          "Cluster 0",
          "Cluster 0",
          "Cluster 0",
          "Cluster 0",
          "Cluster 0",
          "Cluster 0",
          "Cluster 0",
          "Cluster 0",
          "Cluster 0",
          "Cluster 0",
          "Cluster 0",
          "Cluster 0",
          "Cluster 0",
          "Cluster 0",
          "Cluster 0",
          "Cluster 0",
          "Cluster 0",
          "Cluster 0",
          "Cluster 0",
          "Cluster 0",
          "Cluster 0",
          "Cluster 0",
          "Cluster 0",
          "Cluster 0",
          "Cluster 0",
          "Cluster 0",
          "Cluster 0",
          "Cluster 0",
          "Cluster 0",
          "Cluster 0",
          "Cluster 0",
          "Cluster 0",
          "Cluster 0",
          "Cluster 0",
          "Cluster 0"
         ],
         "xaxis": "x2",
         "yaxis": "y2"
        },
        {
         "alignmentgroup": "True",
         "bingroup": "x",
         "hovertemplate": "Cluster=%{x}<br>count=%{y}<extra></extra>",
         "legendgroup": "Cluster 1",
         "marker": {
          "color": "#EF553B",
          "opacity": 0.7
         },
         "name": "Cluster 1",
         "offsetgroup": "Cluster 1",
         "orientation": "v",
         "showlegend": true,
         "type": "histogram",
         "x": [
          "Cluster 1",
          "Cluster 1",
          "Cluster 1",
          "Cluster 1",
          "Cluster 1",
          "Cluster 1",
          "Cluster 1",
          "Cluster 1",
          "Cluster 1",
          "Cluster 1",
          "Cluster 1",
          "Cluster 1",
          "Cluster 1",
          "Cluster 1",
          "Cluster 1",
          "Cluster 1",
          "Cluster 1",
          "Cluster 1",
          "Cluster 1",
          "Cluster 1",
          "Cluster 1",
          "Cluster 1",
          "Cluster 1",
          "Cluster 1",
          "Cluster 1",
          "Cluster 1",
          "Cluster 1",
          "Cluster 1",
          "Cluster 1",
          "Cluster 1",
          "Cluster 1",
          "Cluster 1",
          "Cluster 1",
          "Cluster 1",
          "Cluster 1",
          "Cluster 1",
          "Cluster 1",
          "Cluster 1",
          "Cluster 1",
          "Cluster 1",
          "Cluster 1",
          "Cluster 1",
          "Cluster 1",
          "Cluster 1",
          "Cluster 1",
          "Cluster 1",
          "Cluster 1",
          "Cluster 1",
          "Cluster 1",
          "Cluster 1",
          "Cluster 1",
          "Cluster 1",
          "Cluster 1",
          "Cluster 1",
          "Cluster 1",
          "Cluster 1",
          "Cluster 1",
          "Cluster 1",
          "Cluster 1",
          "Cluster 1",
          "Cluster 1",
          "Cluster 1",
          "Cluster 1",
          "Cluster 1",
          "Cluster 1",
          "Cluster 1",
          "Cluster 1",
          "Cluster 1",
          "Cluster 1",
          "Cluster 1",
          "Cluster 1",
          "Cluster 1",
          "Cluster 1",
          "Cluster 1",
          "Cluster 1",
          "Cluster 1",
          "Cluster 1",
          "Cluster 1",
          "Cluster 1",
          "Cluster 1",
          "Cluster 1",
          "Cluster 1",
          "Cluster 1",
          "Cluster 1",
          "Cluster 1",
          "Cluster 1",
          "Cluster 1",
          "Cluster 1",
          "Cluster 1",
          "Cluster 1",
          "Cluster 1",
          "Cluster 1",
          "Cluster 1",
          "Cluster 1",
          "Cluster 1",
          "Cluster 1",
          "Cluster 1",
          "Cluster 1",
          "Cluster 1",
          "Cluster 1",
          "Cluster 1",
          "Cluster 1",
          "Cluster 1",
          "Cluster 1",
          "Cluster 1",
          "Cluster 1",
          "Cluster 1",
          "Cluster 1",
          "Cluster 1",
          "Cluster 1",
          "Cluster 1",
          "Cluster 1",
          "Cluster 1",
          "Cluster 1",
          "Cluster 1",
          "Cluster 1",
          "Cluster 1",
          "Cluster 1",
          "Cluster 1",
          "Cluster 1",
          "Cluster 1",
          "Cluster 1",
          "Cluster 1",
          "Cluster 1",
          "Cluster 1",
          "Cluster 1",
          "Cluster 1",
          "Cluster 1",
          "Cluster 1",
          "Cluster 1",
          "Cluster 1",
          "Cluster 1",
          "Cluster 1",
          "Cluster 1",
          "Cluster 1",
          "Cluster 1",
          "Cluster 1",
          "Cluster 1",
          "Cluster 1",
          "Cluster 1",
          "Cluster 1",
          "Cluster 1",
          "Cluster 1",
          "Cluster 1",
          "Cluster 1",
          "Cluster 1",
          "Cluster 1",
          "Cluster 1",
          "Cluster 1",
          "Cluster 1",
          "Cluster 1",
          "Cluster 1",
          "Cluster 1",
          "Cluster 1",
          "Cluster 1",
          "Cluster 1",
          "Cluster 1"
         ],
         "xaxis": "x",
         "yaxis": "y"
        },
        {
         "alignmentgroup": "True",
         "customdata": [
          [
           65,
           70430,
           0.6969942581249643,
           6971.164886262858,
           "Cluster 1"
          ],
          [
           57,
           69655,
           0.6748906779058501,
           5889.831167170132,
           "Cluster 1"
          ],
          [
           65,
           71229,
           0.7878897626638453,
           9024.337460598084,
           "Cluster 1"
          ],
          [
           59,
           69408,
           0.8799059975919311,
           6491.771149967824,
           "Cluster 1"
          ],
          [
           61,
           73495,
           0.7727563051023116,
           9288.189785744367,
           "Cluster 1"
          ],
          [
           60,
           65942,
           0.8005783854654352,
           5253.2650066086435,
           "Cluster 1"
          ],
          [
           55,
           73895,
           0.7471254610291731,
           5563.906948891499,
           "Cluster 1"
          ],
          [
           63,
           75078,
           0.7831591503681397,
           7468.8510795028005,
           "Cluster 1"
          ],
          [
           62,
           62747,
           0.7705945596869115,
           5852.326242628098,
           "Cluster 1"
          ],
          [
           59,
           75505,
           0.7682786576081454,
           5006.528691371692,
           "Cluster 1"
          ],
          [
           67,
           59243,
           0.7436599996604758,
           5446.557472721708,
           "Cluster 1"
          ],
          [
           58,
           77559,
           0.7122963723872477,
           5742.524488088997,
           "Cluster 1"
          ],
          [
           66,
           77052,
           0.7072624347132287,
           6296.417311227459,
           "Cluster 1"
          ],
          [
           58,
           70272,
           0.8229596005059499,
           5290.087044285296,
           "Cluster 1"
          ],
          [
           57,
           65608,
           0.7662313009024402,
           6904.318224287022,
           "Cluster 1"
          ],
          [
           57,
           76573,
           0.8405990704520518,
           6225.3760824332285,
           "Cluster 1"
          ],
          [
           66,
           71672,
           0.7538892176112998,
           7387.835437850721,
           "Cluster 1"
          ],
          [
           59,
           69460,
           0.7527238381125997,
           6101.372146632121,
           "Cluster 1"
          ],
          [
           68,
           77648,
           0.7965446939835457,
           6190.864082788901,
           "Cluster 1"
          ],
          [
           61,
           74282,
           0.6922364738673796,
           7286.754751068365,
           "Cluster 1"
          ],
          [
           58,
           70369,
           0.9045204855363144,
           7461.567502649429,
           "Cluster 1"
          ],
          [
           59,
           75495,
           0.7945029052198103,
           6702.9519263157545,
           "Cluster 1"
          ],
          [
           61,
           71171,
           0.7210804930623951,
           6457.790641224788,
           "Cluster 1"
          ],
          [
           64,
           76410,
           0.7756041848937439,
           6135.308197117819,
           "Cluster 1"
          ],
          [
           63,
           56875,
           0.7622805817657738,
           7837.233619544163,
           "Cluster 1"
          ],
          [
           64,
           78801,
           0.7403674891662984,
           6420.9440712002615,
           "Cluster 1"
          ],
          [
           62,
           67731,
           0.8191699488980382,
           5956.555677017446,
           "Cluster 1"
          ],
          [
           61,
           67372,
           0.7340673095092516,
           6618.549336247915,
           "Cluster 1"
          ],
          [
           62,
           73675,
           0.7966191667425384,
           4688.657157271711,
           "Cluster 1"
          ],
          [
           67,
           68663,
           0.7738336308243648,
           7451.9940140258705,
           "Cluster 1"
          ],
          [
           61,
           78837,
           0.7459489746307642,
           6811.303235949058,
           "Cluster 1"
          ],
          [
           57,
           72055,
           0.7549723463413129,
           6544.847498075687,
           "Cluster 1"
          ],
          [
           63,
           67370,
           0.8999405530923943,
           5985.077029740457,
           "Cluster 1"
          ],
          [
           56,
           80431,
           0.7594315957853627,
           8150.55743948241,
           "Cluster 1"
          ],
          [
           51,
           72086,
           0.7911147257599156,
           6732.096068632267,
           "Cluster 1"
          ],
          [
           59,
           82199,
           0.8035145098215853,
           5880.814834306347,
           "Cluster 1"
          ],
          [
           58,
           80248,
           0.7249557054919687,
           7641.16038162423,
           "Cluster 1"
          ],
          [
           55,
           64768,
           0.7332568512323248,
           6486.353872691102,
           "Cluster 1"
          ],
          [
           61,
           68842,
           0.7544065421993587,
           4077.6586565080543,
           "Cluster 1"
          ],
          [
           55,
           76831,
           0.7421137340413241,
           7806.398750466399,
           "Cluster 1"
          ],
          [
           58,
           78611,
           0.910416682938019,
           7665.884294519009,
           "Cluster 1"
          ],
          [
           68,
           68944,
           0.7455674638713768,
           6828.709702363695,
           "Cluster 1"
          ],
          [
           58,
           69247,
           0.7237211912021976,
           8715.67957429646,
           "Cluster 1"
          ],
          [
           67,
           78702,
           0.7632736815688779,
           5030.364838791924,
           "Cluster 1"
          ],
          [
           56,
           73516,
           0.806499154055182,
           7696.832373798451,
           "Cluster 1"
          ],
          [
           59,
           73596,
           0.8567042188430352,
           8281.718740320448,
           "Cluster 1"
          ],
          [
           59,
           90422,
           0.8062102206275251,
           6746.281083820821,
           "Cluster 1"
          ],
          [
           57,
           79794,
           0.82240840085096,
           5893.975284946178,
           "Cluster 1"
          ],
          [
           60,
           70054,
           0.7143393610830643,
           6609.918507412548,
           "Cluster 1"
          ],
          [
           67,
           80914,
           0.8196642592960329,
           6833.507136694643,
           "Cluster 1"
          ],
          [
           61,
           65914,
           0.7781022309770123,
           6406.8771303520325,
           "Cluster 1"
          ],
          [
           60,
           74460,
           0.7545393292392412,
           7567.6476522203675,
           "Cluster 1"
          ],
          [
           59,
           73350,
           0.6797735912164855,
           6710.5740183754415,
           "Cluster 1"
          ],
          [
           57,
           64803,
           0.7285849289103553,
           6255.552641057161,
           "Cluster 1"
          ],
          [
           59,
           56321,
           0.806565925193039,
           6129.288986032587,
           "Cluster 1"
          ],
          [
           59,
           67401,
           0.7114339697492305,
           6529.586309935448,
           "Cluster 1"
          ],
          [
           58,
           70676,
           0.7640283880376706,
           7664.415650964042,
           "Cluster 1"
          ],
          [
           63,
           70580,
           0.7665090449070475,
           7262.108723452133,
           "Cluster 1"
          ],
          [
           61,
           72027,
           0.7623249166772856,
           6926.123598416466,
           "Cluster 1"
          ],
          [
           56,
           65313,
           0.7546029986455771,
           5574.2436767070985,
           "Cluster 1"
          ],
          [
           58,
           76052,
           0.7215881830727278,
           6681.9843863770275,
           "Cluster 1"
          ],
          [
           56,
           75599,
           0.7737370986430746,
           6799.625271842961,
           "Cluster 1"
          ],
          [
           59,
           68038,
           0.8014869916095588,
           7719.283632687176,
           "Cluster 1"
          ],
          [
           61,
           72060,
           0.8334590233217959,
           7924.6411381540165,
           "Cluster 1"
          ],
          [
           60,
           63476,
           0.7519000198498227,
           7543.542801728056,
           "Cluster 1"
          ],
          [
           56,
           78992,
           0.8122757021441627,
           7285.18043685174,
           "Cluster 1"
          ],
          [
           63,
           82343,
           0.7323186222078123,
           8090.706739679063,
           "Cluster 1"
          ],
          [
           58,
           78078,
           0.7837795500405715,
           6483.049643745244,
           "Cluster 1"
          ],
          [
           59,
           77978,
           0.7188952048526104,
           8316.31110205122,
           "Cluster 1"
          ],
          [
           62,
           69326,
           0.7980123380544829,
           7003.095703317772,
           "Cluster 1"
          ],
          [
           59,
           69115,
           0.7598834338453199,
           5997.690199856996,
           "Cluster 1"
          ],
          [
           59,
           67346,
           0.7251568963089163,
           8857.849116294088,
           "Cluster 1"
          ],
          [
           65,
           74430,
           0.7517741617758547,
           7145.251128357927,
           "Cluster 1"
          ],
          [
           64,
           62886,
           0.7480162682831766,
           8302.588638401632,
           "Cluster 1"
          ],
          [
           59,
           80876,
           0.6573140731575163,
           7232.825142650888,
           "Cluster 1"
          ],
          [
           59,
           73057,
           0.8302949092020397,
           7819.393215767329,
           "Cluster 1"
          ],
          [
           61,
           65647,
           0.7174899773841509,
           7497.231607003855,
           "Cluster 1"
          ],
          [
           64,
           64331,
           0.7571277508774099,
           5815.660096290825,
           "Cluster 1"
          ],
          [
           58,
           77769,
           0.7913287771988531,
           6559.8299230048315,
           "Cluster 1"
          ],
          [
           57,
           76594,
           0.7906578552491133,
           6584.654681310476,
           "Cluster 1"
          ],
          [
           58,
           70798,
           0.7535283874245788,
           5330.73989989779,
           "Cluster 1"
          ],
          [
           56,
           86484,
           0.7321233689266612,
           8777.496176839057,
           "Cluster 1"
          ],
          [
           63,
           85761,
           0.8005979105724924,
           7175.090218501247,
           "Cluster 1"
          ],
          [
           58,
           70259,
           0.7697129169369328,
           7101.674514204499,
           "Cluster 1"
          ],
          [
           60,
           79969,
           0.812104912914789,
           4879.334872972362,
           "Cluster 1"
          ],
          [
           58,
           69879,
           0.7209986871945887,
           6669.033518051874,
           "Cluster 1"
          ],
          [
           62,
           73480,
           0.7391949797931453,
           6277.675150528886,
           "Cluster 1"
          ],
          [
           66,
           72571,
           0.8115483367376335,
           6509.41150610998,
           "Cluster 1"
          ],
          [
           66,
           64866,
           0.7665941891374249,
           5037.899138583947,
           "Cluster 1"
          ],
          [
           63,
           72815,
           0.8200359737627068,
           5504.385543801038,
           "Cluster 1"
          ],
          [
           64,
           71692,
           0.8426521453196145,
           7002.9765543033545,
           "Cluster 1"
          ],
          [
           62,
           63596,
           0.7453271943508174,
           6142.201619345869,
           "Cluster 1"
          ],
          [
           62,
           62650,
           0.766572365027147,
           7533.673609198676,
           "Cluster 1"
          ],
          [
           60,
           71436,
           0.8320590985324969,
           8557.86012627717,
           "Cluster 1"
          ],
          [
           65,
           65736,
           0.7785687658100923,
           6387.2196944302905,
           "Cluster 1"
          ],
          [
           60,
           70663,
           0.7153396972946453,
           7557.937593550947,
           "Cluster 1"
          ],
          [
           63,
           80705,
           0.7626699527314824,
           5154.330634621805,
           "Cluster 1"
          ],
          [
           56,
           84386,
           0.7849450699605269,
           7270.41953428175,
           "Cluster 1"
          ],
          [
           58,
           75757,
           0.8097944168848634,
           7390.5772934370325,
           "Cluster 1"
          ],
          [
           62,
           71050,
           0.7353568506694507,
           6988.197368273879,
           "Cluster 1"
          ],
          [
           56,
           68698,
           0.7162678503859907,
           7070.967006969191,
           "Cluster 1"
          ],
          [
           59,
           67781,
           0.7225483489421433,
           6701.527664794541,
           "Cluster 1"
          ],
          [
           65,
           66017,
           0.7861892594159869,
           6159.662935925753,
           "Cluster 1"
          ],
          [
           62,
           80093,
           0.6909167811268888,
           6756.749072752337,
           "Cluster 1"
          ],
          [
           59,
           67988,
           0.8114707012366371,
           7255.903114334659,
           "Cluster 1"
          ],
          [
           64,
           88361,
           0.7745562258521365,
           7240.759687480846,
           "Cluster 1"
          ],
          [
           66,
           82526,
           0.7696800667721441,
           6205.662650191712,
           "Cluster 1"
          ],
          [
           59,
           74576,
           0.7812961239072382,
           10547.775367695343,
           "Cluster 1"
          ],
          [
           59,
           72588,
           0.8017156979122673,
           6300.8437570950255,
           "Cluster 1"
          ],
          [
           59,
           81799,
           0.7910820467274178,
           5417.661426197439,
           "Cluster 1"
          ],
          [
           62,
           74751,
           0.7026569520102857,
           9258.99296503407,
           "Cluster 1"
          ],
          [
           59,
           74373,
           0.7656795619984281,
           7346.334503537976,
           "Cluster 1"
          ],
          [
           54,
           76500,
           0.7851978501165687,
           6878.884248553974,
           "Cluster 1"
          ],
          [
           61,
           71933,
           0.8441067966472876,
           8022.208541100706,
           "Cluster 1"
          ],
          [
           55,
           71621,
           0.7533426836166189,
           7780.589913955977,
           "Cluster 1"
          ],
          [
           53,
           76667,
           0.7600576501232099,
           5168.225474983632,
           "Cluster 1"
          ],
          [
           55,
           78761,
           0.8271741985123882,
           8376.74947779104,
           "Cluster 1"
          ],
          [
           61,
           76955,
           0.7771175646074471,
           7467.036702314494,
           "Cluster 1"
          ],
          [
           59,
           65700,
           0.8114711740198254,
           6932.487932327357,
           "Cluster 1"
          ],
          [
           59,
           69738,
           0.7421121217155721,
           7151.650866065035,
           "Cluster 1"
          ],
          [
           56,
           63866,
           0.7618879582513512,
           7762.255066659051,
           "Cluster 1"
          ],
          [
           61,
           74117,
           0.7702140596767938,
           5103.609230428381,
           "Cluster 1"
          ],
          [
           61,
           63846,
           0.8278622414878984,
           7283.504772674617,
           "Cluster 1"
          ],
          [
           60,
           70012,
           0.7944610508231513,
           7263.242447729872,
           "Cluster 1"
          ],
          [
           57,
           75332,
           0.7215024376129366,
           6845.056822204781,
           "Cluster 1"
          ],
          [
           61,
           73245,
           0.811160373170345,
           7413.784487271215,
           "Cluster 1"
          ],
          [
           55,
           74356,
           0.7998269700906482,
           6484.630737953294,
           "Cluster 1"
          ],
          [
           53,
           62117,
           0.7331388477995737,
           7500.452413594261,
           "Cluster 1"
          ],
          [
           61,
           69001,
           0.8216687745413516,
           5074.12121172259,
           "Cluster 1"
          ],
          [
           64,
           60493,
           0.7680563479442216,
           7708.112609459162,
           "Cluster 1"
          ],
          [
           62,
           69741,
           0.8462196017575947,
           5781.658046536959,
           "Cluster 1"
          ],
          [
           55,
           71056,
           0.7565897119333272,
           7464.163256732262,
           "Cluster 1"
          ],
          [
           58,
           74340,
           0.7351650452097145,
           7259.540921675672,
           "Cluster 1"
          ],
          [
           57,
           79470,
           0.7734352958312237,
           6773.049089777121,
           "Cluster 1"
          ],
          [
           58,
           77101,
           0.7667195837506832,
           8148.49184821177,
           "Cluster 1"
          ],
          [
           64,
           76364,
           0.6993887663543108,
           5772.1171358549755,
           "Cluster 1"
          ],
          [
           57,
           74014,
           0.787378081122989,
           5783.846928267082,
           "Cluster 1"
          ],
          [
           62,
           67030,
           0.7467384433463651,
           6740.765182071713,
           "Cluster 1"
          ],
          [
           56,
           68463,
           0.8157116929554062,
           8995.180087953215,
           "Cluster 1"
          ],
          [
           53,
           74996,
           0.7387310917031671,
           7821.447803561914,
           "Cluster 1"
          ],
          [
           60,
           65340,
           0.7316484923943142,
           8354.196507802662,
           "Cluster 1"
          ],
          [
           56,
           60059,
           0.7275840223364691,
           7166.858605155183,
           "Cluster 1"
          ],
          [
           62,
           78413,
           0.7907090657200839,
           6961.2041923680945,
           "Cluster 1"
          ],
          [
           61,
           69698,
           0.7416839698444291,
           8777.077471725162,
           "Cluster 1"
          ],
          [
           62,
           68279,
           0.7196850779929922,
           7028.675510384212,
           "Cluster 1"
          ],
          [
           55,
           76057,
           0.8778279844516369,
           6132.898204816149,
           "Cluster 1"
          ],
          [
           60,
           67491,
           0.84661848692906,
           7180.713788260257,
           "Cluster 1"
          ],
          [
           58,
           83351,
           0.8406978038692191,
           6673.909711092488,
           "Cluster 1"
          ],
          [
           61,
           71033,
           0.8380950724014863,
           9456.876962701137,
           "Cluster 1"
          ],
          [
           59,
           71302,
           0.7020090041734849,
           6595.726010227134,
           "Cluster 1"
          ],
          [
           58,
           80278,
           0.8233589910091558,
           6335.97831998802,
           "Cluster 1"
          ],
          [
           56,
           67274,
           0.7798516671891869,
           6652.391024403152,
           "Cluster 1"
          ],
          [
           60,
           65054,
           0.7086131723969877,
           5417.237293788358,
           "Cluster 1"
          ],
          [
           62,
           69391,
           0.7921059737158539,
           6518.283467894094,
           "Cluster 1"
          ],
          [
           58,
           78635,
           0.7864400503429185,
           7162.739043055361,
           "Cluster 1"
          ],
          [
           64,
           86283,
           0.7568019251873561,
           6852.5548669147165,
           "Cluster 1"
          ],
          [
           63,
           69849,
           0.7403870808915297,
           7670.6909659413295,
           "Cluster 1"
          ]
         ],
         "hovertemplate": "Cluster=%{customdata[4]}<br>Age=%{customdata[0]}<br>Income=%{customdata[1]}<br>SpendingScore=%{customdata[2]}<br>Savings=%{customdata[3]}<extra></extra>",
         "legendgroup": "Cluster 1",
         "marker": {
          "color": "#EF553B"
         },
         "name": "Cluster 1",
         "notched": true,
         "offsetgroup": "Cluster 1",
         "showlegend": false,
         "type": "box",
         "x": [
          "Cluster 1",
          "Cluster 1",
          "Cluster 1",
          "Cluster 1",
          "Cluster 1",
          "Cluster 1",
          "Cluster 1",
          "Cluster 1",
          "Cluster 1",
          "Cluster 1",
          "Cluster 1",
          "Cluster 1",
          "Cluster 1",
          "Cluster 1",
          "Cluster 1",
          "Cluster 1",
          "Cluster 1",
          "Cluster 1",
          "Cluster 1",
          "Cluster 1",
          "Cluster 1",
          "Cluster 1",
          "Cluster 1",
          "Cluster 1",
          "Cluster 1",
          "Cluster 1",
          "Cluster 1",
          "Cluster 1",
          "Cluster 1",
          "Cluster 1",
          "Cluster 1",
          "Cluster 1",
          "Cluster 1",
          "Cluster 1",
          "Cluster 1",
          "Cluster 1",
          "Cluster 1",
          "Cluster 1",
          "Cluster 1",
          "Cluster 1",
          "Cluster 1",
          "Cluster 1",
          "Cluster 1",
          "Cluster 1",
          "Cluster 1",
          "Cluster 1",
          "Cluster 1",
          "Cluster 1",
          "Cluster 1",
          "Cluster 1",
          "Cluster 1",
          "Cluster 1",
          "Cluster 1",
          "Cluster 1",
          "Cluster 1",
          "Cluster 1",
          "Cluster 1",
          "Cluster 1",
          "Cluster 1",
          "Cluster 1",
          "Cluster 1",
          "Cluster 1",
          "Cluster 1",
          "Cluster 1",
          "Cluster 1",
          "Cluster 1",
          "Cluster 1",
          "Cluster 1",
          "Cluster 1",
          "Cluster 1",
          "Cluster 1",
          "Cluster 1",
          "Cluster 1",
          "Cluster 1",
          "Cluster 1",
          "Cluster 1",
          "Cluster 1",
          "Cluster 1",
          "Cluster 1",
          "Cluster 1",
          "Cluster 1",
          "Cluster 1",
          "Cluster 1",
          "Cluster 1",
          "Cluster 1",
          "Cluster 1",
          "Cluster 1",
          "Cluster 1",
          "Cluster 1",
          "Cluster 1",
          "Cluster 1",
          "Cluster 1",
          "Cluster 1",
          "Cluster 1",
          "Cluster 1",
          "Cluster 1",
          "Cluster 1",
          "Cluster 1",
          "Cluster 1",
          "Cluster 1",
          "Cluster 1",
          "Cluster 1",
          "Cluster 1",
          "Cluster 1",
          "Cluster 1",
          "Cluster 1",
          "Cluster 1",
          "Cluster 1",
          "Cluster 1",
          "Cluster 1",
          "Cluster 1",
          "Cluster 1",
          "Cluster 1",
          "Cluster 1",
          "Cluster 1",
          "Cluster 1",
          "Cluster 1",
          "Cluster 1",
          "Cluster 1",
          "Cluster 1",
          "Cluster 1",
          "Cluster 1",
          "Cluster 1",
          "Cluster 1",
          "Cluster 1",
          "Cluster 1",
          "Cluster 1",
          "Cluster 1",
          "Cluster 1",
          "Cluster 1",
          "Cluster 1",
          "Cluster 1",
          "Cluster 1",
          "Cluster 1",
          "Cluster 1",
          "Cluster 1",
          "Cluster 1",
          "Cluster 1",
          "Cluster 1",
          "Cluster 1",
          "Cluster 1",
          "Cluster 1",
          "Cluster 1",
          "Cluster 1",
          "Cluster 1",
          "Cluster 1",
          "Cluster 1",
          "Cluster 1",
          "Cluster 1",
          "Cluster 1",
          "Cluster 1",
          "Cluster 1",
          "Cluster 1",
          "Cluster 1",
          "Cluster 1",
          "Cluster 1",
          "Cluster 1"
         ],
         "xaxis": "x2",
         "yaxis": "y2"
        },
        {
         "alignmentgroup": "True",
         "bingroup": "x",
         "hovertemplate": "Cluster=%{x}<br>count=%{y}<extra></extra>",
         "legendgroup": "Cluster 2",
         "marker": {
          "color": "#00cc96",
          "opacity": 0.7
         },
         "name": "Cluster 2",
         "offsetgroup": "Cluster 2",
         "orientation": "v",
         "showlegend": true,
         "type": "histogram",
         "x": [
          "Cluster 2",
          "Cluster 2",
          "Cluster 2",
          "Cluster 2",
          "Cluster 2",
          "Cluster 2",
          "Cluster 2",
          "Cluster 2",
          "Cluster 2",
          "Cluster 2",
          "Cluster 2",
          "Cluster 2",
          "Cluster 2",
          "Cluster 2",
          "Cluster 2",
          "Cluster 2",
          "Cluster 2",
          "Cluster 2",
          "Cluster 2",
          "Cluster 2",
          "Cluster 2",
          "Cluster 2",
          "Cluster 2",
          "Cluster 2",
          "Cluster 2",
          "Cluster 2",
          "Cluster 2",
          "Cluster 2",
          "Cluster 2",
          "Cluster 2",
          "Cluster 2",
          "Cluster 2",
          "Cluster 2",
          "Cluster 2",
          "Cluster 2",
          "Cluster 2",
          "Cluster 2",
          "Cluster 2",
          "Cluster 2",
          "Cluster 2",
          "Cluster 2",
          "Cluster 2",
          "Cluster 2",
          "Cluster 2",
          "Cluster 2",
          "Cluster 2",
          "Cluster 2",
          "Cluster 2",
          "Cluster 2",
          "Cluster 2",
          "Cluster 2",
          "Cluster 2",
          "Cluster 2",
          "Cluster 2",
          "Cluster 2",
          "Cluster 2",
          "Cluster 2",
          "Cluster 2",
          "Cluster 2",
          "Cluster 2",
          "Cluster 2",
          "Cluster 2",
          "Cluster 2",
          "Cluster 2",
          "Cluster 2",
          "Cluster 2",
          "Cluster 2",
          "Cluster 2",
          "Cluster 2",
          "Cluster 2",
          "Cluster 2",
          "Cluster 2",
          "Cluster 2",
          "Cluster 2",
          "Cluster 2",
          "Cluster 2",
          "Cluster 2",
          "Cluster 2",
          "Cluster 2",
          "Cluster 2",
          "Cluster 2",
          "Cluster 2",
          "Cluster 2",
          "Cluster 2",
          "Cluster 2",
          "Cluster 2",
          "Cluster 2",
          "Cluster 2",
          "Cluster 2",
          "Cluster 2",
          "Cluster 2",
          "Cluster 2",
          "Cluster 2",
          "Cluster 2",
          "Cluster 2",
          "Cluster 2",
          "Cluster 2",
          "Cluster 2",
          "Cluster 2",
          "Cluster 2",
          "Cluster 2",
          "Cluster 2",
          "Cluster 2",
          "Cluster 2",
          "Cluster 2",
          "Cluster 2",
          "Cluster 2",
          "Cluster 2",
          "Cluster 2",
          "Cluster 2",
          "Cluster 2",
          "Cluster 2",
          "Cluster 2",
          "Cluster 2",
          "Cluster 2",
          "Cluster 2",
          "Cluster 2",
          "Cluster 2",
          "Cluster 2",
          "Cluster 2",
          "Cluster 2",
          "Cluster 2",
          "Cluster 2",
          "Cluster 2",
          "Cluster 2",
          "Cluster 2",
          "Cluster 2",
          "Cluster 2",
          "Cluster 2",
          "Cluster 2",
          "Cluster 2",
          "Cluster 2",
          "Cluster 2",
          "Cluster 2",
          "Cluster 2",
          "Cluster 2",
          "Cluster 2",
          "Cluster 2",
          "Cluster 2",
          "Cluster 2",
          "Cluster 2",
          "Cluster 2",
          "Cluster 2",
          "Cluster 2",
          "Cluster 2",
          "Cluster 2",
          "Cluster 2",
          "Cluster 2",
          "Cluster 2",
          "Cluster 2",
          "Cluster 2"
         ],
         "xaxis": "x",
         "yaxis": "y"
        },
        {
         "alignmentgroup": "True",
         "customdata": [
          [
           38,
           104738,
           0.4059588503683713,
           15634.313868027426,
           "Cluster 2"
          ],
          [
           29,
           112531,
           0.3427661743407053,
           14361.334979176147,
           "Cluster 2"
          ],
          [
           36,
           109809,
           0.355660187354229,
           14978.502144076487,
           "Cluster 2"
          ],
          [
           31,
           110882,
           0.3252806065281125,
           14004.61374291491,
           "Cluster 2"
          ],
          [
           39,
           100661,
           0.3766412501689559,
           16873.128638209408,
           "Cluster 2"
          ],
          [
           88,
           123651,
           0.02902714029105191,
           13504.577571797938,
           "Cluster 2"
          ],
          [
           86,
           124372,
           0,
           15374.465952896948,
           "Cluster 2"
          ],
          [
           35,
           108499,
           0.2612719132713158,
           16046.08301542436,
           "Cluster 2"
          ],
          [
           30,
           96241,
           0.3773384910014747,
           15485.156009739387,
           "Cluster 2"
          ],
          [
           35,
           106588,
           0.3422142051018276,
           15648.65667046098,
           "Cluster 2"
          ],
          [
           25,
           101503,
           0.28846885607409833,
           15026.262148820157,
           "Cluster 2"
          ],
          [
           37,
           106894,
           0.3432357689892068,
           14075.217365594552,
           "Cluster 2"
          ],
          [
           30,
           107302,
           0.2396771776819925,
           13993.24401848172,
           "Cluster 2"
          ],
          [
           36,
           109038,
           0.3242132027621541,
           16502.389477657125,
           "Cluster 2"
          ],
          [
           34,
           103204,
           0.30108735378393314,
           15149.810421179482,
           "Cluster 2"
          ],
          [
           33,
           98033,
           0.30951111585458696,
           15774.690605560645,
           "Cluster 2"
          ],
          [
           36,
           101811,
           0.3406667947415742,
           15048.89961242685,
           "Cluster 2"
          ],
          [
           32,
           101905,
           0.3074763135926987,
           17532.16478349903,
           "Cluster 2"
          ],
          [
           83,
           117943,
           0.07721324003343044,
           15391.95219220651,
           "Cluster 2"
          ],
          [
           31,
           112943,
           0.34123950330738706,
           14297.702229457283,
           "Cluster 2"
          ],
          [
           37,
           108651,
           0.1923436158292553,
           15881.242198260683,
           "Cluster 2"
          ],
          [
           36,
           100158,
           0.31606041409802405,
           13832.379370734528,
           "Cluster 2"
          ],
          [
           90,
           124170,
           0.030751314393913882,
           14773.407205599842,
           "Cluster 2"
          ],
          [
           31,
           105006,
           0.3741658782934958,
           15419.41776312329,
           "Cluster 2"
          ],
          [
           37,
           110732,
           0.3226762482802641,
           14265.351840497759,
           "Cluster 2"
          ],
          [
           35,
           104678,
           0.3279928581002429,
           15422.055799721802,
           "Cluster 2"
          ],
          [
           33,
           92569,
           0.33607980556714456,
           13765.685995748696,
           "Cluster 2"
          ],
          [
           84,
           114406,
           0.12383837464097253,
           16840.570583774286,
           "Cluster 2"
          ],
          [
           37,
           107958,
           0.34666907654318496,
           13641.009538079368,
           "Cluster 2"
          ],
          [
           29,
           99161,
           0.3079200040396055,
           15631.836772980834,
           "Cluster 2"
          ],
          [
           44,
           114642,
           0.3092049154534188,
           14067.617788950563,
           "Cluster 2"
          ],
          [
           32,
           106543,
           0.3107432443044589,
           14337.288328489092,
           "Cluster 2"
          ],
          [
           31,
           105036,
           0.2722279930569666,
           16465.063521972657,
           "Cluster 2"
          ],
          [
           29,
           103223,
           0.3388162937437745,
           16252.883053065632,
           "Cluster 2"
          ],
          [
           36,
           98137,
           0.29740129315965397,
           15978.332837131276,
           "Cluster 2"
          ],
          [
           31,
           105826,
           0.2862743235826754,
           13856.805832195869,
           "Cluster 2"
          ],
          [
           90,
           117668,
           0.08272274299401555,
           12554.692742420659,
           "Cluster 2"
          ],
          [
           33,
           106757,
           0.25839611372125515,
           14431.652799234367,
           "Cluster 2"
          ],
          [
           33,
           107100,
           0.3424354833732075,
           14895.473479049117,
           "Cluster 2"
          ],
          [
           89,
           119697,
           0.0916792017028315,
           16215.399076555514,
           "Cluster 2"
          ],
          [
           29,
           101943,
           0.3256230614429721,
           14619.354282159029,
           "Cluster 2"
          ],
          [
           32,
           108417,
           0.28737086714008075,
           16696.398659007995,
           "Cluster 2"
          ],
          [
           84,
           122696,
           0.08218683192473558,
           13809.734086698068,
           "Cluster 2"
          ],
          [
           30,
           101073,
           0.3143871202044516,
           14324.555977118509,
           "Cluster 2"
          ],
          [
           88,
           120678,
           0.06327285129660287,
           14264.473846639943,
           "Cluster 2"
          ],
          [
           38,
           94775,
           0.3803902009461493,
           16867.13082002739,
           "Cluster 2"
          ],
          [
           92,
           122879,
           0.0607240352184939,
           13709.670274517475,
           "Cluster 2"
          ],
          [
           31,
           107963,
           0.2905086327499087,
           13407.081391032512,
           "Cluster 2"
          ],
          [
           30,
           99949,
           0.344679223509786,
           13621.639726331408,
           "Cluster 2"
          ],
          [
           36,
           99780,
           0.2654326074020303,
           16398.40133318453,
           "Cluster 2"
          ],
          [
           85,
           111389,
           0.0367953622110323,
           16009.237762922363,
           "Cluster 2"
          ],
          [
           30,
           98030,
           0.4111117138132285,
           16316.842905166694,
           "Cluster 2"
          ],
          [
           28,
           101206,
           0.3874406981253433,
           14936.775388622864,
           "Cluster 2"
          ],
          [
           37,
           107877,
           0.3346179841546032,
           17968.55392863446,
           "Cluster 2"
          ],
          [
           29,
           119366,
           0.3587713900686116,
           15012.853014226299,
           "Cluster 2"
          ],
          [
           31,
           102618,
           0.2763779214063509,
           13209.301612848929,
           "Cluster 2"
          ],
          [
           29,
           106014,
           0.34794511357773106,
           15038.010746320377,
           "Cluster 2"
          ],
          [
           31,
           101209,
           0.3043229953712128,
           16917.571691218804,
           "Cluster 2"
          ],
          [
           33,
           101058,
           0.3150815497840024,
           14911.868398206978,
           "Cluster 2"
          ],
          [
           31,
           101481,
           0.2702350511848681,
           15226.614133627569,
           "Cluster 2"
          ],
          [
           83,
           119429,
           0.042154801078558464,
           15607.561541234569,
           "Cluster 2"
          ],
          [
           34,
           98993,
           0.3229930887837502,
           16138.079373431863,
           "Cluster 2"
          ],
          [
           22,
           109152,
           0.32344641636242355,
           16022.482482363523,
           "Cluster 2"
          ],
          [
           87,
           117564,
           0.1282795957567026,
           14000.248964992143,
           "Cluster 2"
          ],
          [
           34,
           102291,
           0.24786227611431386,
           15819.577601160518,
           "Cluster 2"
          ],
          [
           25,
           106772,
           0.3909047196000217,
           16353.471790615497,
           "Cluster 2"
          ],
          [
           31,
           107994,
           0.2944689389706671,
           13685.972361738892,
           "Cluster 2"
          ],
          [
           31,
           114833,
           0.3050696862135815,
           13953.029721407644,
           "Cluster 2"
          ],
          [
           31,
           107932,
           0.3742421881649845,
           12207.526078087714,
           "Cluster 2"
          ],
          [
           35,
           110106,
           0.2867692710102035,
           14924.537223475552,
           "Cluster 2"
          ],
          [
           28,
           100592,
           0.2595983487762325,
           15520.355775683653,
           "Cluster 2"
          ],
          [
           33,
           116616,
           0.3209300476959025,
           15104.49811363824,
           "Cluster 2"
          ],
          [
           31,
           111449,
           0.29410620308282165,
           13929.62155143948,
           "Cluster 2"
          ],
          [
           28,
           94762,
           0.3035961911057213,
           15352.521936894913,
           "Cluster 2"
          ],
          [
           39,
           100540,
           0.3849229829012918,
           16741.013894847743,
           "Cluster 2"
          ],
          [
           36,
           96336,
           0.28809756719298163,
           15286.769335194167,
           "Cluster 2"
          ],
          [
           32,
           117050,
           0.3113555349689566,
           14310.546206532163,
           "Cluster 2"
          ],
          [
           93,
           126601,
           0.025170169477345742,
           14117.44703707058,
           "Cluster 2"
          ],
          [
           36,
           104285,
           0.2123600508972585,
           13347.558779497918,
           "Cluster 2"
          ],
          [
           34,
           104284,
           0.34454541177986714,
           13541.801770810564,
           "Cluster 2"
          ],
          [
           37,
           110595,
           0.28664850500199834,
           15235.445457133224,
           "Cluster 2"
          ],
          [
           33,
           94964,
           0.3302325026567214,
           14018.349867336628,
           "Cluster 2"
          ],
          [
           43,
           101641,
           0.3819838041034955,
           14424.097995592982,
           "Cluster 2"
          ],
          [
           33,
           100275,
           0.3630856827120957,
           13735.438742381079,
           "Cluster 2"
          ],
          [
           26,
           97750,
           0.2934087605160681,
           15823.032361634105,
           "Cluster 2"
          ],
          [
           24,
           110564,
           0.3049430059244969,
           14967.839625179657,
           "Cluster 2"
          ],
          [
           31,
           107115,
           0.3280420856997338,
           15693.499570389358,
           "Cluster 2"
          ],
          [
           29,
           111426,
           0.4002811559385194,
           14352.643773230728,
           "Cluster 2"
          ],
          [
           36,
           108004,
           0.3089229914936124,
           15813.964573146997,
           "Cluster 2"
          ],
          [
           86,
           128378,
           0.12608340975849852,
           13585.778624417357,
           "Cluster 2"
          ],
          [
           33,
           114555,
           0.2792568364789493,
           13746.745438440072,
           "Cluster 2"
          ],
          [
           29,
           116451,
           0.3406596106851227,
           15294.661511529368,
           "Cluster 2"
          ],
          [
           40,
           98821,
           0.27908085018704903,
           15995.160053914664,
           "Cluster 2"
          ],
          [
           35,
           105991,
           0.34337797815210225,
           16616.088239618915,
           "Cluster 2"
          ],
          [
           32,
           102035,
           0.26207035616469115,
           14209.932802396092,
           "Cluster 2"
          ],
          [
           37,
           106664,
           0.2775867542026021,
           14479.374117495967,
           "Cluster 2"
          ],
          [
           34,
           89598,
           0.3401523810436963,
           12832.768720823738,
           "Cluster 2"
          ],
          [
           34,
           107255,
           0.3283430294033384,
           15130.595225546444,
           "Cluster 2"
          ],
          [
           84,
           115237,
           0.06877820981367339,
           14396.568282311468,
           "Cluster 2"
          ],
          [
           82,
           126257,
           0.07809619439943333,
           15816.101922357922,
           "Cluster 2"
          ],
          [
           88,
           114767,
           0.032207542338926365,
           17833.093470094427,
           "Cluster 2"
          ],
          [
           85,
           118169,
           0.123196057747337,
           14855.951023927619,
           "Cluster 2"
          ],
          [
           35,
           117112,
           0.3047918711384766,
           15908.035997555322,
           "Cluster 2"
          ],
          [
           33,
           111813,
           0.2382437868013801,
           15901.238967721652,
           "Cluster 2"
          ],
          [
           33,
           105667,
           0.25075080562386165,
           12869.761073905089,
           "Cluster 2"
          ],
          [
           29,
           91375,
           0.2354504258588228,
           13104.962760687613,
           "Cluster 2"
          ],
          [
           83,
           117347,
           0.15569409232860987,
           15086.701120471576,
           "Cluster 2"
          ],
          [
           28,
           99611,
           0.2795578681222758,
           15345.658121390226,
           "Cluster 2"
          ],
          [
           31,
           99457,
           0.3658064971511749,
           14580.613477014092,
           "Cluster 2"
          ],
          [
           37,
           97831,
           0.3744658274308825,
           14935.144813058325,
           "Cluster 2"
          ],
          [
           31,
           108067,
           0.2686742663930692,
           13316.767286164832,
           "Cluster 2"
          ],
          [
           33,
           106345,
           0.3392354218755358,
           15300.45379012999,
           "Cluster 2"
          ],
          [
           30,
           107926,
           0.2301607310342209,
           15520.536309707046,
           "Cluster 2"
          ],
          [
           30,
           108581,
           0.3094467811568005,
           15628.791650531211,
           "Cluster 2"
          ],
          [
           34,
           98165,
           0.17412049382306485,
           15721.86284266975,
           "Cluster 2"
          ],
          [
           30,
           106350,
           0.3694162857692797,
           14863.233588279092,
           "Cluster 2"
          ],
          [
           30,
           107525,
           0.2948164301396663,
           12702.847385049918,
           "Cluster 2"
          ],
          [
           86,
           115689,
           0.057842956133581036,
           14803.153273493916,
           "Cluster 2"
          ],
          [
           29,
           102028,
           0.2889604994756899,
           14634.430692347907,
           "Cluster 2"
          ],
          [
           30,
           102056,
           0.2607006223919937,
           15370.66882713054,
           "Cluster 2"
          ],
          [
           28,
           111937,
           0.2537347301209012,
           13669.110632506934,
           "Cluster 2"
          ],
          [
           37,
           97678,
           0.2574704443875843,
           15834.113173627364,
           "Cluster 2"
          ],
          [
           37,
           108635,
           0.28649570314839057,
           14558.054542315444,
           "Cluster 2"
          ],
          [
           82,
           121642,
           0.054653190464209855,
           14177.513323069668,
           "Cluster 2"
          ],
          [
           42,
           106990,
           0.330065422314764,
           14856.938997469417,
           "Cluster 2"
          ],
          [
           28,
           97965,
           0.3134915614599665,
           14981.402201916082,
           "Cluster 2"
          ],
          [
           30,
           108928,
           0.30386361503665704,
           14339.652917342728,
           "Cluster 2"
          ],
          [
           32,
           95536,
           0.26624605681014885,
           15420.625644002741,
           "Cluster 2"
          ],
          [
           35,
           107131,
           0.2424731551814769,
           16200.013010637644,
           "Cluster 2"
          ],
          [
           35,
           101691,
           0.3491110181825554,
           14152.671689505803,
           "Cluster 2"
          ],
          [
           31,
           104388,
           0.2864732316476225,
           14406.561248437842,
           "Cluster 2"
          ],
          [
           35,
           102308,
           0.2751372175012177,
           14874.557991326978,
           "Cluster 2"
          ],
          [
           33,
           99637,
           0.2282170773869075,
           15139.403142647532,
           "Cluster 2"
          ],
          [
           29,
           110860,
           0.31944030103524745,
           16260.42103081417,
           "Cluster 2"
          ],
          [
           35,
           112878,
           0.3009135799974076,
           13755.48230187328,
           "Cluster 2"
          ],
          [
           38,
           115146,
           0.3144900731288347,
           14798.868153501797,
           "Cluster 2"
          ],
          [
           34,
           111303,
           0.34531257710928803,
           14624.318634976555,
           "Cluster 2"
          ],
          [
           33,
           108345,
           0.32541328975821004,
           15646.32171735943,
           "Cluster 2"
          ],
          [
           32,
           110439,
           0.30699015827427256,
           13873.50756985278,
           "Cluster 2"
          ],
          [
           34,
           98752,
           0.3720337099315751,
           14975.384238944334,
           "Cluster 2"
          ],
          [
           31,
           116247,
           0.2943151380482853,
           16178.204715186297,
           "Cluster 2"
          ],
          [
           27,
           106758,
           0.2662947092346973,
           14942.560723173168,
           "Cluster 2"
          ],
          [
           39,
           99216,
           0.21660614339457274,
           15230.345105300736,
           "Cluster 2"
          ],
          [
           38,
           113659,
           0.3334859873871594,
           14364.693391419,
           "Cluster 2"
          ],
          [
           84,
           110582,
           0.07904903227945975,
           14937.995169685584,
           "Cluster 2"
          ],
          [
           77,
           128596,
           0.04082407066250976,
           14503.410786381415,
           "Cluster 2"
          ],
          [
           34,
           103428,
           0.2474244093916156,
           13791.035761571968,
           "Cluster 2"
          ],
          [
           28,
           109075,
           0.36276196062401134,
           14082.458238005996,
           "Cluster 2"
          ],
          [
           36,
           105567,
           0.3126388486955741,
           14355.31094653896,
           "Cluster 2"
          ],
          [
           91,
           118794,
           0.0192120658984376,
           14047.388986415735,
           "Cluster 2"
          ],
          [
           34,
           119877,
           0.3054369951589357,
           15634.788286084158,
           "Cluster 2"
          ]
         ],
         "hovertemplate": "Cluster=%{customdata[4]}<br>Age=%{customdata[0]}<br>Income=%{customdata[1]}<br>SpendingScore=%{customdata[2]}<br>Savings=%{customdata[3]}<extra></extra>",
         "legendgroup": "Cluster 2",
         "marker": {
          "color": "#00cc96"
         },
         "name": "Cluster 2",
         "notched": true,
         "offsetgroup": "Cluster 2",
         "showlegend": false,
         "type": "box",
         "x": [
          "Cluster 2",
          "Cluster 2",
          "Cluster 2",
          "Cluster 2",
          "Cluster 2",
          "Cluster 2",
          "Cluster 2",
          "Cluster 2",
          "Cluster 2",
          "Cluster 2",
          "Cluster 2",
          "Cluster 2",
          "Cluster 2",
          "Cluster 2",
          "Cluster 2",
          "Cluster 2",
          "Cluster 2",
          "Cluster 2",
          "Cluster 2",
          "Cluster 2",
          "Cluster 2",
          "Cluster 2",
          "Cluster 2",
          "Cluster 2",
          "Cluster 2",
          "Cluster 2",
          "Cluster 2",
          "Cluster 2",
          "Cluster 2",
          "Cluster 2",
          "Cluster 2",
          "Cluster 2",
          "Cluster 2",
          "Cluster 2",
          "Cluster 2",
          "Cluster 2",
          "Cluster 2",
          "Cluster 2",
          "Cluster 2",
          "Cluster 2",
          "Cluster 2",
          "Cluster 2",
          "Cluster 2",
          "Cluster 2",
          "Cluster 2",
          "Cluster 2",
          "Cluster 2",
          "Cluster 2",
          "Cluster 2",
          "Cluster 2",
          "Cluster 2",
          "Cluster 2",
          "Cluster 2",
          "Cluster 2",
          "Cluster 2",
          "Cluster 2",
          "Cluster 2",
          "Cluster 2",
          "Cluster 2",
          "Cluster 2",
          "Cluster 2",
          "Cluster 2",
          "Cluster 2",
          "Cluster 2",
          "Cluster 2",
          "Cluster 2",
          "Cluster 2",
          "Cluster 2",
          "Cluster 2",
          "Cluster 2",
          "Cluster 2",
          "Cluster 2",
          "Cluster 2",
          "Cluster 2",
          "Cluster 2",
          "Cluster 2",
          "Cluster 2",
          "Cluster 2",
          "Cluster 2",
          "Cluster 2",
          "Cluster 2",
          "Cluster 2",
          "Cluster 2",
          "Cluster 2",
          "Cluster 2",
          "Cluster 2",
          "Cluster 2",
          "Cluster 2",
          "Cluster 2",
          "Cluster 2",
          "Cluster 2",
          "Cluster 2",
          "Cluster 2",
          "Cluster 2",
          "Cluster 2",
          "Cluster 2",
          "Cluster 2",
          "Cluster 2",
          "Cluster 2",
          "Cluster 2",
          "Cluster 2",
          "Cluster 2",
          "Cluster 2",
          "Cluster 2",
          "Cluster 2",
          "Cluster 2",
          "Cluster 2",
          "Cluster 2",
          "Cluster 2",
          "Cluster 2",
          "Cluster 2",
          "Cluster 2",
          "Cluster 2",
          "Cluster 2",
          "Cluster 2",
          "Cluster 2",
          "Cluster 2",
          "Cluster 2",
          "Cluster 2",
          "Cluster 2",
          "Cluster 2",
          "Cluster 2",
          "Cluster 2",
          "Cluster 2",
          "Cluster 2",
          "Cluster 2",
          "Cluster 2",
          "Cluster 2",
          "Cluster 2",
          "Cluster 2",
          "Cluster 2",
          "Cluster 2",
          "Cluster 2",
          "Cluster 2",
          "Cluster 2",
          "Cluster 2",
          "Cluster 2",
          "Cluster 2",
          "Cluster 2",
          "Cluster 2",
          "Cluster 2",
          "Cluster 2",
          "Cluster 2",
          "Cluster 2",
          "Cluster 2",
          "Cluster 2",
          "Cluster 2",
          "Cluster 2",
          "Cluster 2",
          "Cluster 2",
          "Cluster 2"
         ],
         "xaxis": "x2",
         "yaxis": "y2"
        },
        {
         "alignmentgroup": "True",
         "bingroup": "x",
         "hovertemplate": "Cluster=%{x}<br>count=%{y}<extra></extra>",
         "legendgroup": "Cluster 3",
         "marker": {
          "color": "#ab63fa",
          "opacity": 0.7
         },
         "name": "Cluster 3",
         "offsetgroup": "Cluster 3",
         "orientation": "v",
         "showlegend": true,
         "type": "histogram",
         "x": [
          "Cluster 3",
          "Cluster 3",
          "Cluster 3",
          "Cluster 3",
          "Cluster 3",
          "Cluster 3",
          "Cluster 3",
          "Cluster 3",
          "Cluster 3",
          "Cluster 3",
          "Cluster 3",
          "Cluster 3",
          "Cluster 3",
          "Cluster 3",
          "Cluster 3",
          "Cluster 3",
          "Cluster 3",
          "Cluster 3",
          "Cluster 3",
          "Cluster 3",
          "Cluster 3",
          "Cluster 3",
          "Cluster 3",
          "Cluster 3",
          "Cluster 3",
          "Cluster 3",
          "Cluster 3",
          "Cluster 3",
          "Cluster 3",
          "Cluster 3",
          "Cluster 3",
          "Cluster 3",
          "Cluster 3",
          "Cluster 3",
          "Cluster 3",
          "Cluster 3",
          "Cluster 3",
          "Cluster 3",
          "Cluster 3",
          "Cluster 3",
          "Cluster 3",
          "Cluster 3",
          "Cluster 3",
          "Cluster 3",
          "Cluster 3",
          "Cluster 3",
          "Cluster 3",
          "Cluster 3",
          "Cluster 3",
          "Cluster 3"
         ],
         "xaxis": "x",
         "yaxis": "y"
        },
        {
         "alignmentgroup": "True",
         "customdata": [
          [
           27,
           122671,
           0.910107112831516,
           4206.287238709509,
           "Cluster 3"
          ],
          [
           23,
           138443,
           0.9226565539031124,
           3297.058843994153,
           "Cluster 3"
          ],
          [
           25,
           138021,
           0.944017175810026,
           3005.577482475175,
           "Cluster 3"
          ],
          [
           17,
           134734,
           0.8579216672301577,
           0,
           "Cluster 3"
          ],
          [
           24,
           129087,
           0.8271179432765905,
           3290.829468618805,
           "Cluster 3"
          ],
          [
           20,
           129469,
           0.9399954311014268,
           5522.573424346325,
           "Cluster 3"
          ],
          [
           23,
           129937,
           0.8727356634334804,
           4102.065424707484,
           "Cluster 3"
          ],
          [
           26,
           123005,
           0.9845261943505972,
           4371.23473281147,
           "Cluster 3"
          ],
          [
           23,
           126500,
           0.8650328592458483,
           3270.150434407087,
           "Cluster 3"
          ],
          [
           27,
           121468,
           0.9206489879585448,
           5011.112062373318,
           "Cluster 3"
          ],
          [
           23,
           120226,
           0.8819129663041946,
           4698.294710949844,
           "Cluster 3"
          ],
          [
           31,
           122924,
           0.89046022417733,
           3071.944576152969,
           "Cluster 3"
          ],
          [
           22,
           134209,
           0.8706980046008759,
           5138.109568643242,
           "Cluster 3"
          ],
          [
           24,
           130974,
           0.9118386021444842,
           4420.0727101369375,
           "Cluster 3"
          ],
          [
           29,
           131578,
           0.8470341025128371,
           3535.5143522162816,
           "Cluster 3"
          ],
          [
           22,
           132948,
           0.8898001728484242,
           2839.7863574778585,
           "Cluster 3"
          ],
          [
           28,
           123153,
           0.9842407862639496,
           3697.5136453853297,
           "Cluster 3"
          ],
          [
           26,
           131827,
           0.8807194909406801,
           4352.699304837541,
           "Cluster 3"
          ],
          [
           25,
           128625,
           0.8167389887954251,
           4914.117127206949,
           "Cluster 3"
          ],
          [
           24,
           136644,
           0.8716976842508705,
           1617.2257000775644,
           "Cluster 3"
          ],
          [
           24,
           134389,
           0.9388521378701832,
           4573.60634580409,
           "Cluster 3"
          ],
          [
           25,
           130934,
           0.9137660194970426,
           3942.389134492165,
           "Cluster 3"
          ],
          [
           20,
           122581,
           0.8940806156500202,
           4444.4476842520535,
           "Cluster 3"
          ],
          [
           30,
           122788,
           0.8728724057273831,
           5706.149573297764,
           "Cluster 3"
          ],
          [
           25,
           130361,
           0.9254385568124625,
           4691.55213906238,
           "Cluster 3"
          ],
          [
           28,
           123229,
           0.8733219541371664,
           610.4462190811464,
           "Cluster 3"
          ],
          [
           20,
           129142,
           0.8870519941988757,
           5603.121027746489,
           "Cluster 3"
          ],
          [
           24,
           127352,
           0.9054521594192038,
           2961.716874324024,
           "Cluster 3"
          ],
          [
           22,
           120525,
           1,
           5495.165732288548,
           "Cluster 3"
          ],
          [
           26,
           126617,
           0.8770521049168103,
           2913.368146562765,
           "Cluster 3"
          ],
          [
           17,
           123828,
           0.9420129076091708,
           3798.8403998790254,
           "Cluster 3"
          ],
          [
           26,
           125662,
           0.9268183658411524,
           6089.47832250152,
           "Cluster 3"
          ],
          [
           28,
           127699,
           0.8814245468734898,
           5490.814955670689,
           "Cluster 3"
          ],
          [
           18,
           130813,
           0.8908912472675831,
           5256.434559627984,
           "Cluster 3"
          ],
          [
           21,
           123678,
           0.8320252689431032,
           2838.8158208359087,
           "Cluster 3"
          ],
          [
           21,
           129726,
           0.9517923119702948,
           4550.7995216878835,
           "Cluster 3"
          ],
          [
           17,
           134966,
           0.9072421746334024,
           4128.044795832438,
           "Cluster 3"
          ],
          [
           27,
           125008,
           0.9596454072349518,
           2963.6377080587795,
           "Cluster 3"
          ],
          [
           25,
           131009,
           0.8640569016468125,
           4792.426581212785,
           "Cluster 3"
          ],
          [
           24,
           120465,
           0.9074853865005544,
           4838.348350281593,
           "Cluster 3"
          ],
          [
           28,
           129019,
           0.9308319590820414,
           3016.8206434862623,
           "Cluster 3"
          ],
          [
           26,
           127320,
           0.8250298045601994,
           5495.642137901324,
           "Cluster 3"
          ],
          [
           28,
           117108,
           0.857078493256913,
           4749.879237491619,
           "Cluster 3"
          ],
          [
           25,
           120957,
           0.8776734245644572,
           5590.447216086322,
           "Cluster 3"
          ],
          [
           24,
           134384,
           0.8747208244890404,
           3731.3397614449186,
           "Cluster 3"
          ],
          [
           17,
           136255,
           0.935876103673024,
           4126.226651408871,
           "Cluster 3"
          ],
          [
           29,
           142000,
           0.9400873084125808,
           5349.821181717665,
           "Cluster 3"
          ],
          [
           29,
           122264,
           0.8985788437238403,
           2494.55627432471,
           "Cluster 3"
          ],
          [
           28,
           121216,
           0.8569692823607705,
           5349.065446955783,
           "Cluster 3"
          ],
          [
           18,
           123718,
           0.8065528615489801,
           4420.445820614172,
           "Cluster 3"
          ]
         ],
         "hovertemplate": "Cluster=%{customdata[4]}<br>Age=%{customdata[0]}<br>Income=%{customdata[1]}<br>SpendingScore=%{customdata[2]}<br>Savings=%{customdata[3]}<extra></extra>",
         "legendgroup": "Cluster 3",
         "marker": {
          "color": "#ab63fa"
         },
         "name": "Cluster 3",
         "notched": true,
         "offsetgroup": "Cluster 3",
         "showlegend": false,
         "type": "box",
         "x": [
          "Cluster 3",
          "Cluster 3",
          "Cluster 3",
          "Cluster 3",
          "Cluster 3",
          "Cluster 3",
          "Cluster 3",
          "Cluster 3",
          "Cluster 3",
          "Cluster 3",
          "Cluster 3",
          "Cluster 3",
          "Cluster 3",
          "Cluster 3",
          "Cluster 3",
          "Cluster 3",
          "Cluster 3",
          "Cluster 3",
          "Cluster 3",
          "Cluster 3",
          "Cluster 3",
          "Cluster 3",
          "Cluster 3",
          "Cluster 3",
          "Cluster 3",
          "Cluster 3",
          "Cluster 3",
          "Cluster 3",
          "Cluster 3",
          "Cluster 3",
          "Cluster 3",
          "Cluster 3",
          "Cluster 3",
          "Cluster 3",
          "Cluster 3",
          "Cluster 3",
          "Cluster 3",
          "Cluster 3",
          "Cluster 3",
          "Cluster 3",
          "Cluster 3",
          "Cluster 3",
          "Cluster 3",
          "Cluster 3",
          "Cluster 3",
          "Cluster 3",
          "Cluster 3",
          "Cluster 3",
          "Cluster 3",
          "Cluster 3"
         ],
         "xaxis": "x2",
         "yaxis": "y2"
        }
       ],
       "layout": {
        "barmode": "relative",
        "legend": {
         "title": {
          "text": "Cluster"
         },
         "tracegroupgap": 0
        },
        "margin": {
         "t": 60
        },
        "template": {
         "data": {
          "bar": [
           {
            "error_x": {
             "color": "#2a3f5f"
            },
            "error_y": {
             "color": "#2a3f5f"
            },
            "marker": {
             "line": {
              "color": "#E5ECF6",
              "width": 0.5
             }
            },
            "type": "bar"
           }
          ],
          "barpolar": [
           {
            "marker": {
             "line": {
              "color": "#E5ECF6",
              "width": 0.5
             }
            },
            "type": "barpolar"
           }
          ],
          "carpet": [
           {
            "aaxis": {
             "endlinecolor": "#2a3f5f",
             "gridcolor": "white",
             "linecolor": "white",
             "minorgridcolor": "white",
             "startlinecolor": "#2a3f5f"
            },
            "baxis": {
             "endlinecolor": "#2a3f5f",
             "gridcolor": "white",
             "linecolor": "white",
             "minorgridcolor": "white",
             "startlinecolor": "#2a3f5f"
            },
            "type": "carpet"
           }
          ],
          "choropleth": [
           {
            "colorbar": {
             "outlinewidth": 0,
             "ticks": ""
            },
            "type": "choropleth"
           }
          ],
          "contour": [
           {
            "colorbar": {
             "outlinewidth": 0,
             "ticks": ""
            },
            "colorscale": [
             [
              0,
              "#0d0887"
             ],
             [
              0.1111111111111111,
              "#46039f"
             ],
             [
              0.2222222222222222,
              "#7201a8"
             ],
             [
              0.3333333333333333,
              "#9c179e"
             ],
             [
              0.4444444444444444,
              "#bd3786"
             ],
             [
              0.5555555555555556,
              "#d8576b"
             ],
             [
              0.6666666666666666,
              "#ed7953"
             ],
             [
              0.7777777777777778,
              "#fb9f3a"
             ],
             [
              0.8888888888888888,
              "#fdca26"
             ],
             [
              1,
              "#f0f921"
             ]
            ],
            "type": "contour"
           }
          ],
          "contourcarpet": [
           {
            "colorbar": {
             "outlinewidth": 0,
             "ticks": ""
            },
            "type": "contourcarpet"
           }
          ],
          "heatmap": [
           {
            "colorbar": {
             "outlinewidth": 0,
             "ticks": ""
            },
            "colorscale": [
             [
              0,
              "#0d0887"
             ],
             [
              0.1111111111111111,
              "#46039f"
             ],
             [
              0.2222222222222222,
              "#7201a8"
             ],
             [
              0.3333333333333333,
              "#9c179e"
             ],
             [
              0.4444444444444444,
              "#bd3786"
             ],
             [
              0.5555555555555556,
              "#d8576b"
             ],
             [
              0.6666666666666666,
              "#ed7953"
             ],
             [
              0.7777777777777778,
              "#fb9f3a"
             ],
             [
              0.8888888888888888,
              "#fdca26"
             ],
             [
              1,
              "#f0f921"
             ]
            ],
            "type": "heatmap"
           }
          ],
          "heatmapgl": [
           {
            "colorbar": {
             "outlinewidth": 0,
             "ticks": ""
            },
            "colorscale": [
             [
              0,
              "#0d0887"
             ],
             [
              0.1111111111111111,
              "#46039f"
             ],
             [
              0.2222222222222222,
              "#7201a8"
             ],
             [
              0.3333333333333333,
              "#9c179e"
             ],
             [
              0.4444444444444444,
              "#bd3786"
             ],
             [
              0.5555555555555556,
              "#d8576b"
             ],
             [
              0.6666666666666666,
              "#ed7953"
             ],
             [
              0.7777777777777778,
              "#fb9f3a"
             ],
             [
              0.8888888888888888,
              "#fdca26"
             ],
             [
              1,
              "#f0f921"
             ]
            ],
            "type": "heatmapgl"
           }
          ],
          "histogram": [
           {
            "marker": {
             "colorbar": {
              "outlinewidth": 0,
              "ticks": ""
             }
            },
            "type": "histogram"
           }
          ],
          "histogram2d": [
           {
            "colorbar": {
             "outlinewidth": 0,
             "ticks": ""
            },
            "colorscale": [
             [
              0,
              "#0d0887"
             ],
             [
              0.1111111111111111,
              "#46039f"
             ],
             [
              0.2222222222222222,
              "#7201a8"
             ],
             [
              0.3333333333333333,
              "#9c179e"
             ],
             [
              0.4444444444444444,
              "#bd3786"
             ],
             [
              0.5555555555555556,
              "#d8576b"
             ],
             [
              0.6666666666666666,
              "#ed7953"
             ],
             [
              0.7777777777777778,
              "#fb9f3a"
             ],
             [
              0.8888888888888888,
              "#fdca26"
             ],
             [
              1,
              "#f0f921"
             ]
            ],
            "type": "histogram2d"
           }
          ],
          "histogram2dcontour": [
           {
            "colorbar": {
             "outlinewidth": 0,
             "ticks": ""
            },
            "colorscale": [
             [
              0,
              "#0d0887"
             ],
             [
              0.1111111111111111,
              "#46039f"
             ],
             [
              0.2222222222222222,
              "#7201a8"
             ],
             [
              0.3333333333333333,
              "#9c179e"
             ],
             [
              0.4444444444444444,
              "#bd3786"
             ],
             [
              0.5555555555555556,
              "#d8576b"
             ],
             [
              0.6666666666666666,
              "#ed7953"
             ],
             [
              0.7777777777777778,
              "#fb9f3a"
             ],
             [
              0.8888888888888888,
              "#fdca26"
             ],
             [
              1,
              "#f0f921"
             ]
            ],
            "type": "histogram2dcontour"
           }
          ],
          "mesh3d": [
           {
            "colorbar": {
             "outlinewidth": 0,
             "ticks": ""
            },
            "type": "mesh3d"
           }
          ],
          "parcoords": [
           {
            "line": {
             "colorbar": {
              "outlinewidth": 0,
              "ticks": ""
             }
            },
            "type": "parcoords"
           }
          ],
          "pie": [
           {
            "automargin": true,
            "type": "pie"
           }
          ],
          "scatter": [
           {
            "marker": {
             "colorbar": {
              "outlinewidth": 0,
              "ticks": ""
             }
            },
            "type": "scatter"
           }
          ],
          "scatter3d": [
           {
            "line": {
             "colorbar": {
              "outlinewidth": 0,
              "ticks": ""
             }
            },
            "marker": {
             "colorbar": {
              "outlinewidth": 0,
              "ticks": ""
             }
            },
            "type": "scatter3d"
           }
          ],
          "scattercarpet": [
           {
            "marker": {
             "colorbar": {
              "outlinewidth": 0,
              "ticks": ""
             }
            },
            "type": "scattercarpet"
           }
          ],
          "scattergeo": [
           {
            "marker": {
             "colorbar": {
              "outlinewidth": 0,
              "ticks": ""
             }
            },
            "type": "scattergeo"
           }
          ],
          "scattergl": [
           {
            "marker": {
             "colorbar": {
              "outlinewidth": 0,
              "ticks": ""
             }
            },
            "type": "scattergl"
           }
          ],
          "scattermapbox": [
           {
            "marker": {
             "colorbar": {
              "outlinewidth": 0,
              "ticks": ""
             }
            },
            "type": "scattermapbox"
           }
          ],
          "scatterpolar": [
           {
            "marker": {
             "colorbar": {
              "outlinewidth": 0,
              "ticks": ""
             }
            },
            "type": "scatterpolar"
           }
          ],
          "scatterpolargl": [
           {
            "marker": {
             "colorbar": {
              "outlinewidth": 0,
              "ticks": ""
             }
            },
            "type": "scatterpolargl"
           }
          ],
          "scatterternary": [
           {
            "marker": {
             "colorbar": {
              "outlinewidth": 0,
              "ticks": ""
             }
            },
            "type": "scatterternary"
           }
          ],
          "surface": [
           {
            "colorbar": {
             "outlinewidth": 0,
             "ticks": ""
            },
            "colorscale": [
             [
              0,
              "#0d0887"
             ],
             [
              0.1111111111111111,
              "#46039f"
             ],
             [
              0.2222222222222222,
              "#7201a8"
             ],
             [
              0.3333333333333333,
              "#9c179e"
             ],
             [
              0.4444444444444444,
              "#bd3786"
             ],
             [
              0.5555555555555556,
              "#d8576b"
             ],
             [
              0.6666666666666666,
              "#ed7953"
             ],
             [
              0.7777777777777778,
              "#fb9f3a"
             ],
             [
              0.8888888888888888,
              "#fdca26"
             ],
             [
              1,
              "#f0f921"
             ]
            ],
            "type": "surface"
           }
          ],
          "table": [
           {
            "cells": {
             "fill": {
              "color": "#EBF0F8"
             },
             "line": {
              "color": "white"
             }
            },
            "header": {
             "fill": {
              "color": "#C8D4E3"
             },
             "line": {
              "color": "white"
             }
            },
            "type": "table"
           }
          ]
         },
         "layout": {
          "annotationdefaults": {
           "arrowcolor": "#2a3f5f",
           "arrowhead": 0,
           "arrowwidth": 1
          },
          "coloraxis": {
           "colorbar": {
            "outlinewidth": 0,
            "ticks": ""
           }
          },
          "colorscale": {
           "diverging": [
            [
             0,
             "#8e0152"
            ],
            [
             0.1,
             "#c51b7d"
            ],
            [
             0.2,
             "#de77ae"
            ],
            [
             0.3,
             "#f1b6da"
            ],
            [
             0.4,
             "#fde0ef"
            ],
            [
             0.5,
             "#f7f7f7"
            ],
            [
             0.6,
             "#e6f5d0"
            ],
            [
             0.7,
             "#b8e186"
            ],
            [
             0.8,
             "#7fbc41"
            ],
            [
             0.9,
             "#4d9221"
            ],
            [
             1,
             "#276419"
            ]
           ],
           "sequential": [
            [
             0,
             "#0d0887"
            ],
            [
             0.1111111111111111,
             "#46039f"
            ],
            [
             0.2222222222222222,
             "#7201a8"
            ],
            [
             0.3333333333333333,
             "#9c179e"
            ],
            [
             0.4444444444444444,
             "#bd3786"
            ],
            [
             0.5555555555555556,
             "#d8576b"
            ],
            [
             0.6666666666666666,
             "#ed7953"
            ],
            [
             0.7777777777777778,
             "#fb9f3a"
            ],
            [
             0.8888888888888888,
             "#fdca26"
            ],
            [
             1,
             "#f0f921"
            ]
           ],
           "sequentialminus": [
            [
             0,
             "#0d0887"
            ],
            [
             0.1111111111111111,
             "#46039f"
            ],
            [
             0.2222222222222222,
             "#7201a8"
            ],
            [
             0.3333333333333333,
             "#9c179e"
            ],
            [
             0.4444444444444444,
             "#bd3786"
            ],
            [
             0.5555555555555556,
             "#d8576b"
            ],
            [
             0.6666666666666666,
             "#ed7953"
            ],
            [
             0.7777777777777778,
             "#fb9f3a"
            ],
            [
             0.8888888888888888,
             "#fdca26"
            ],
            [
             1,
             "#f0f921"
            ]
           ]
          },
          "colorway": [
           "#636efa",
           "#EF553B",
           "#00cc96",
           "#ab63fa",
           "#FFA15A",
           "#19d3f3",
           "#FF6692",
           "#B6E880",
           "#FF97FF",
           "#FECB52"
          ],
          "font": {
           "color": "#2a3f5f"
          },
          "geo": {
           "bgcolor": "white",
           "lakecolor": "white",
           "landcolor": "#E5ECF6",
           "showlakes": true,
           "showland": true,
           "subunitcolor": "white"
          },
          "hoverlabel": {
           "align": "left"
          },
          "hovermode": "closest",
          "mapbox": {
           "style": "light"
          },
          "paper_bgcolor": "white",
          "plot_bgcolor": "#E5ECF6",
          "polar": {
           "angularaxis": {
            "gridcolor": "white",
            "linecolor": "white",
            "ticks": ""
           },
           "bgcolor": "#E5ECF6",
           "radialaxis": {
            "gridcolor": "white",
            "linecolor": "white",
            "ticks": ""
           }
          },
          "scene": {
           "xaxis": {
            "backgroundcolor": "#E5ECF6",
            "gridcolor": "white",
            "gridwidth": 2,
            "linecolor": "white",
            "showbackground": true,
            "ticks": "",
            "zerolinecolor": "white"
           },
           "yaxis": {
            "backgroundcolor": "#E5ECF6",
            "gridcolor": "white",
            "gridwidth": 2,
            "linecolor": "white",
            "showbackground": true,
            "ticks": "",
            "zerolinecolor": "white"
           },
           "zaxis": {
            "backgroundcolor": "#E5ECF6",
            "gridcolor": "white",
            "gridwidth": 2,
            "linecolor": "white",
            "showbackground": true,
            "ticks": "",
            "zerolinecolor": "white"
           }
          },
          "shapedefaults": {
           "line": {
            "color": "#2a3f5f"
           }
          },
          "ternary": {
           "aaxis": {
            "gridcolor": "white",
            "linecolor": "white",
            "ticks": ""
           },
           "baxis": {
            "gridcolor": "white",
            "linecolor": "white",
            "ticks": ""
           },
           "bgcolor": "#E5ECF6",
           "caxis": {
            "gridcolor": "white",
            "linecolor": "white",
            "ticks": ""
           }
          },
          "title": {
           "x": 0.05
          },
          "xaxis": {
           "automargin": true,
           "gridcolor": "white",
           "linecolor": "white",
           "ticks": "",
           "title": {
            "standoff": 15
           },
           "zerolinecolor": "white",
           "zerolinewidth": 2
          },
          "yaxis": {
           "automargin": true,
           "gridcolor": "white",
           "linecolor": "white",
           "ticks": "",
           "title": {
            "standoff": 15
           },
           "zerolinecolor": "white",
           "zerolinewidth": 2
          }
         }
        },
        "xaxis": {
         "anchor": "y",
         "categoryarray": [
          "Cluster 0",
          "Cluster 1",
          "Cluster 2",
          "Cluster 3"
         ],
         "categoryorder": "array",
         "domain": [
          0,
          1
         ],
         "title": {
          "text": "Cluster"
         }
        },
        "xaxis2": {
         "anchor": "y2",
         "domain": [
          0,
          1
         ],
         "matches": "x",
         "showgrid": true,
         "showticklabels": false
        },
        "yaxis": {
         "anchor": "x",
         "domain": [
          0,
          0.7326
         ],
         "title": {
          "text": "count"
         }
        },
        "yaxis2": {
         "anchor": "x2",
         "domain": [
          0.7426,
          1
         ],
         "matches": "y2",
         "showgrid": false,
         "showline": false,
         "showticklabels": false,
         "ticks": ""
        }
       }
      },
      "text/html": [
       "<div>\n",
       "        \n",
       "        \n",
       "            <div id=\"f9e90a51-b8c9-44ba-bbc8-387567637ee0\" class=\"plotly-graph-div\" style=\"height:525px; width:100%;\"></div>\n",
       "            <script type=\"text/javascript\">\n",
       "                require([\"plotly\"], function(Plotly) {\n",
       "                    window.PLOTLYENV=window.PLOTLYENV || {};\n",
       "                    \n",
       "                if (document.getElementById(\"f9e90a51-b8c9-44ba-bbc8-387567637ee0\")) {\n",
       "                    Plotly.newPlot(\n",
       "                        'f9e90a51-b8c9-44ba-bbc8-387567637ee0',\n",
       "                        [{\"alignmentgroup\": \"True\", \"bingroup\": \"x\", \"hovertemplate\": \"Cluster=%{x}<br>count=%{y}<extra></extra>\", \"legendgroup\": \"Cluster 0\", \"marker\": {\"color\": \"#636efa\", \"opacity\": 0.7}, \"name\": \"Cluster 0\", \"offsetgroup\": \"Cluster 0\", \"orientation\": \"v\", \"showlegend\": true, \"type\": \"histogram\", \"x\": [\"Cluster 0\", \"Cluster 0\", \"Cluster 0\", \"Cluster 0\", \"Cluster 0\", \"Cluster 0\", \"Cluster 0\", \"Cluster 0\", \"Cluster 0\", \"Cluster 0\", \"Cluster 0\", \"Cluster 0\", \"Cluster 0\", \"Cluster 0\", \"Cluster 0\", \"Cluster 0\", \"Cluster 0\", \"Cluster 0\", \"Cluster 0\", \"Cluster 0\", \"Cluster 0\", \"Cluster 0\", \"Cluster 0\", \"Cluster 0\", \"Cluster 0\", \"Cluster 0\", \"Cluster 0\", \"Cluster 0\", \"Cluster 0\", \"Cluster 0\", \"Cluster 0\", \"Cluster 0\", \"Cluster 0\", \"Cluster 0\", \"Cluster 0\", \"Cluster 0\", \"Cluster 0\", \"Cluster 0\", \"Cluster 0\", \"Cluster 0\", \"Cluster 0\", \"Cluster 0\", \"Cluster 0\", \"Cluster 0\", \"Cluster 0\", \"Cluster 0\", \"Cluster 0\", \"Cluster 0\", \"Cluster 0\", \"Cluster 0\", \"Cluster 0\", \"Cluster 0\", \"Cluster 0\", \"Cluster 0\", \"Cluster 0\", \"Cluster 0\", \"Cluster 0\", \"Cluster 0\", \"Cluster 0\", \"Cluster 0\", \"Cluster 0\", \"Cluster 0\", \"Cluster 0\", \"Cluster 0\", \"Cluster 0\", \"Cluster 0\", \"Cluster 0\", \"Cluster 0\", \"Cluster 0\", \"Cluster 0\", \"Cluster 0\", \"Cluster 0\", \"Cluster 0\", \"Cluster 0\", \"Cluster 0\", \"Cluster 0\", \"Cluster 0\", \"Cluster 0\", \"Cluster 0\", \"Cluster 0\", \"Cluster 0\", \"Cluster 0\", \"Cluster 0\", \"Cluster 0\", \"Cluster 0\", \"Cluster 0\", \"Cluster 0\", \"Cluster 0\", \"Cluster 0\", \"Cluster 0\", \"Cluster 0\", \"Cluster 0\", \"Cluster 0\", \"Cluster 0\", \"Cluster 0\", \"Cluster 0\", \"Cluster 0\", \"Cluster 0\", \"Cluster 0\", \"Cluster 0\", \"Cluster 0\", \"Cluster 0\", \"Cluster 0\", \"Cluster 0\", \"Cluster 0\", \"Cluster 0\", \"Cluster 0\", \"Cluster 0\", \"Cluster 0\", \"Cluster 0\", \"Cluster 0\", \"Cluster 0\", \"Cluster 0\", \"Cluster 0\", \"Cluster 0\", \"Cluster 0\", \"Cluster 0\", \"Cluster 0\", \"Cluster 0\", \"Cluster 0\", \"Cluster 0\", \"Cluster 0\", \"Cluster 0\", \"Cluster 0\", \"Cluster 0\", \"Cluster 0\", \"Cluster 0\", \"Cluster 0\", \"Cluster 0\", \"Cluster 0\", \"Cluster 0\", \"Cluster 0\", \"Cluster 0\", \"Cluster 0\", \"Cluster 0\", \"Cluster 0\", \"Cluster 0\", \"Cluster 0\", \"Cluster 0\", \"Cluster 0\", \"Cluster 0\", \"Cluster 0\", \"Cluster 0\", \"Cluster 0\", \"Cluster 0\", \"Cluster 0\", \"Cluster 0\"], \"xaxis\": \"x\", \"yaxis\": \"y\"}, {\"alignmentgroup\": \"True\", \"customdata\": [[89.0, 30267.0, 0.2893100658351509, 14386.351879589123, \"Cluster 0\"], [91.0, 29082.0, 0.28248852137129143, 18794.488169074688, \"Cluster 0\"], [92.0, 22484.0, 0.3317732623948493, 18615.632589788456, \"Cluster 0\"], [90.0, 33490.0, 0.4199085281737912, 17091.904228934392, \"Cluster 0\"], [93.0, 17672.0, 0.3032923688871533, 18516.451810726718, \"Cluster 0\"], [89.0, 26940.0, 0.3260051328059917, 16555.159377159824, \"Cluster 0\"], [88.0, 28409.0, 0.30565353367521064, 17326.175608364214, \"Cluster 0\"], [87.0, 30178.0, 0.2793159778940049, 16123.070750832, \"Cluster 0\"], [86.0, 31994.0, 0.24947694035510065, 18210.088099070614, \"Cluster 0\"], [82.0, 33610.0, 0.3012532342412973, 17755.664940228176, \"Cluster 0\"], [91.0, 12038.0, 0.3498032558856572, 16464.960504438823, \"Cluster 0\"], [88.0, 35051.0, 0.3860515062876169, 17593.24679258195, \"Cluster 0\"], [87.0, 12000.0, 0.3429910076112659, 16180.26525174153, \"Cluster 0\"], [91.0, 36639.0, 0.3261988874784867, 16275.703341192586, \"Cluster 0\"], [90.0, 22288.0, 0.2713268321051208, 18434.099152391347, \"Cluster 0\"], [85.0, 21250.0, 0.3104101151420252, 16033.971166673777, \"Cluster 0\"], [91.0, 30148.0, 0.2773889467565771, 15324.287405101717, \"Cluster 0\"], [88.0, 26351.0, 0.3041682062164747, 14035.917553542351, \"Cluster 0\"], [85.0, 28401.0, 0.3694371368158697, 15990.49413056604, \"Cluster 0\"], [85.0, 34634.0, 0.3690001696241634, 16719.815875018445, \"Cluster 0\"], [88.0, 34001.0, 0.33756932388752803, 15530.934134298665, \"Cluster 0\"], [84.0, 42018.0, 0.29799360218993026, 16148.370454036614, \"Cluster 0\"], [88.0, 26092.0, 0.3128732065230775, 17105.79392615357, \"Cluster 0\"], [94.0, 28352.0, 0.37687573531685575, 16798.886114738052, \"Cluster 0\"], [86.0, 28779.0, 0.3365233301816881, 16047.268331461928, \"Cluster 0\"], [94.0, 38923.0, 0.33022601809734325, 16971.181554867213, \"Cluster 0\"], [89.0, 25252.0, 0.32176522093208865, 16539.364186086335, \"Cluster 0\"], [87.0, 25566.0, 0.3167603729756968, 15188.058749407255, \"Cluster 0\"], [84.0, 27384.0, 0.31364671699548896, 16734.672754073246, \"Cluster 0\"], [91.0, 28777.0, 0.324193555035782, 17808.2662415687, \"Cluster 0\"], [91.0, 27168.0, 0.3322388165540652, 15893.729773516614, \"Cluster 0\"], [88.0, 22602.0, 0.35674482887974684, 16740.343496726702, \"Cluster 0\"], [88.0, 28802.0, 0.4083878319987073, 16293.038332542192, \"Cluster 0\"], [89.0, 24520.0, 0.44383270684567067, 13556.9358834699, \"Cluster 0\"], [91.0, 29750.0, 0.2884703320713124, 19201.11991627576, \"Cluster 0\"], [90.0, 33259.0, 0.377571058498228, 15315.028503741696, \"Cluster 0\"], [89.0, 33311.0, 0.3761469685086391, 17093.06995548225, \"Cluster 0\"], [83.0, 18162.0, 0.3013734548863509, 16029.469213914268, \"Cluster 0\"], [83.0, 26882.0, 0.34797963237384105, 17775.22817123954, \"Cluster 0\"], [86.0, 18812.0, 0.34154576038705153, 16157.734142403422, \"Cluster 0\"], [84.0, 29492.0, 0.3336031402694437, 17954.09505703969, \"Cluster 0\"], [94.0, 18937.0, 0.3470950600753079, 17739.776098377628, \"Cluster 0\"], [94.0, 20719.0, 0.336402269797664, 16281.832273239006, \"Cluster 0\"], [79.0, 38201.0, 0.3697828881534748, 16393.395697309446, \"Cluster 0\"], [88.0, 19510.0, 0.3167510258154691, 16529.20080632274, \"Cluster 0\"], [85.0, 30794.0, 0.2862292747117072, 17096.39150937826, \"Cluster 0\"], [82.0, 24221.0, 0.4735496605323542, 16251.759445212669, \"Cluster 0\"], [82.0, 32494.0, 0.3273154026360584, 16799.444266662453, \"Cluster 0\"], [91.0, 16950.0, 0.32300404344763, 17172.609400509067, \"Cluster 0\"], [91.0, 20681.0, 0.3546791690549572, 18401.08844474873, \"Cluster 0\"], [89.0, 20292.0, 0.3121481952107594, 16023.4456584523, \"Cluster 0\"], [84.0, 27179.0, 0.3474234168306904, 15612.628547766899, \"Cluster 0\"], [87.0, 24578.0, 0.37616545875063534, 17789.247521813828, \"Cluster 0\"], [81.0, 34425.0, 0.2726097792323641, 16262.623790655764, \"Cluster 0\"], [93.0, 20440.0, 0.2975730342292497, 17406.074017844054, \"Cluster 0\"], [84.0, 27544.0, 0.2309337663207005, 18207.36169648481, \"Cluster 0\"], [95.0, 27038.0, 0.3313520070109344, 18126.577451151075, \"Cluster 0\"], [89.0, 26127.0, 0.3044743722681633, 17194.828018777476, \"Cluster 0\"], [86.0, 46977.0, 0.2827283910152334, 15628.957075805025, \"Cluster 0\"], [85.0, 27599.0, 0.2819950483303406, 13470.97060503703, \"Cluster 0\"], [87.0, 25701.0, 0.3152205738281265, 15738.859295516553, \"Cluster 0\"], [92.0, 35877.0, 0.3668917159124752, 17287.907016982324, \"Cluster 0\"], [89.0, 19202.0, 0.3819877440174351, 16626.22236147723, \"Cluster 0\"], [85.0, 29204.0, 0.3254914498834959, 16918.903460369133, \"Cluster 0\"], [88.0, 33251.0, 0.3043913649608802, 18868.24161249696, \"Cluster 0\"], [86.0, 35998.0, 0.3216356471662456, 20000.0, \"Cluster 0\"], [94.0, 27169.0, 0.3141730453838618, 15061.776215142369, \"Cluster 0\"], [87.0, 18459.0, 0.2645499059687874, 15637.59765457844, \"Cluster 0\"], [85.0, 29610.0, 0.3181352453742131, 18475.487468080933, \"Cluster 0\"], [83.0, 28497.0, 0.3938023931664613, 15510.112981164848, \"Cluster 0\"], [87.0, 46910.0, 0.3085616998317755, 14789.14847617646, \"Cluster 0\"], [88.0, 17388.0, 0.4661894446652393, 16698.6210372462, \"Cluster 0\"], [84.0, 38042.0, 0.3660858718547989, 17465.856285855403, \"Cluster 0\"], [85.0, 34802.0, 0.2987969233586417, 16450.003270402787, \"Cluster 0\"], [91.0, 25237.0, 0.3535018242414266, 17292.733103848248, \"Cluster 0\"], [90.0, 30178.0, 0.2823512821567113, 16182.8384364088, \"Cluster 0\"], [88.0, 32708.0, 0.3682153159958089, 16711.0679804242, \"Cluster 0\"], [89.0, 31096.0, 0.2785878455435617, 17736.94259966666, \"Cluster 0\"], [88.0, 27169.0, 0.28005950486141434, 15260.635546195437, \"Cluster 0\"], [92.0, 32915.0, 0.3885749195868542, 16694.706839244012, \"Cluster 0\"], [90.0, 25733.0, 0.3385629680709827, 17631.56888411863, \"Cluster 0\"], [85.0, 26355.0, 0.34234066669498114, 17971.19363998381, \"Cluster 0\"], [88.0, 28585.0, 0.3977396663840213, 16725.841854363774, \"Cluster 0\"], [94.0, 27771.0, 0.3025032231546657, 17303.957194969433, \"Cluster 0\"], [84.0, 22286.0, 0.3955062459001081, 17886.53737311577, \"Cluster 0\"], [91.0, 26424.0, 0.3193886529047028, 16501.46877669979, \"Cluster 0\"], [88.0, 17946.0, 0.26964363039994416, 16715.160017840968, \"Cluster 0\"], [87.0, 30812.0, 0.3144631516753479, 15238.118997598334, \"Cluster 0\"], [86.0, 36031.0, 0.2401766350783482, 16945.326244896307, \"Cluster 0\"], [83.0, 30492.0, 0.3016314685914632, 15365.85846293255, \"Cluster 0\"], [83.0, 33170.0, 0.24107774427464634, 16620.010473689304, \"Cluster 0\"], [91.0, 25886.0, 0.30175376758370465, 17266.045729118025, \"Cluster 0\"], [86.0, 15695.0, 0.25717496647489363, 17366.186263516567, \"Cluster 0\"], [89.0, 22008.0, 0.3819060693389532, 16458.398097731253, \"Cluster 0\"], [92.0, 36032.0, 0.3369683066109672, 17348.5998812573, \"Cluster 0\"], [87.0, 23042.0, 0.3663120107544869, 18149.035872923057, \"Cluster 0\"], [84.0, 36463.0, 0.3536209572557781, 16563.372591147832, \"Cluster 0\"], [83.0, 30721.0, 0.3311418077630257, 17705.99238527814, \"Cluster 0\"], [83.0, 23206.0, 0.3212403632065312, 16870.672003783384, \"Cluster 0\"], [85.0, 28408.0, 0.3580738593579665, 15063.335797441836, \"Cluster 0\"], [90.0, 33188.0, 0.24881006879023135, 15866.913937696345, \"Cluster 0\"], [97.0, 27271.0, 0.28392289527040304, 14928.165597390327, \"Cluster 0\"], [92.0, 18724.0, 0.3278623148176303, 15341.381109594675, \"Cluster 0\"], [87.0, 23322.0, 0.30682119734644964, 16131.267659393414, \"Cluster 0\"], [91.0, 28165.0, 0.3036929225036061, 17460.179350212424, \"Cluster 0\"], [83.0, 28727.0, 0.3082630418510537, 18205.33626089001, \"Cluster 0\"], [87.0, 31481.0, 0.317423970601333, 16180.68808203422, \"Cluster 0\"], [91.0, 26917.0, 0.37671353045834655, 17986.618644605885, \"Cluster 0\"], [82.0, 33636.0, 0.3717829785401914, 17866.83359752812, \"Cluster 0\"], [91.0, 24370.0, 0.2963285713632805, 16141.048981383728, \"Cluster 0\"], [90.0, 24376.0, 0.2812794569155436, 15134.994226396464, \"Cluster 0\"], [86.0, 23400.0, 0.27803553844702666, 15215.28126373834, \"Cluster 0\"], [85.0, 21652.0, 0.3184561372216806, 14175.16988549895, \"Cluster 0\"], [90.0, 22782.0, 0.3563068710287742, 15924.071707885845, \"Cluster 0\"], [84.0, 18244.0, 0.29266337446440194, 17815.348406878897, \"Cluster 0\"], [87.0, 26665.0, 0.4021456613889217, 17376.914743318182, \"Cluster 0\"], [84.0, 24105.0, 0.2718090229374729, 16524.902538052145, \"Cluster 0\"], [88.0, 31366.0, 0.3796208481334848, 16079.622699815933, \"Cluster 0\"], [91.0, 22672.0, 0.2710645345158169, 15407.646761130874, \"Cluster 0\"], [84.0, 30481.0, 0.3970228936031003, 16837.205964813103, \"Cluster 0\"], [94.0, 23854.0, 0.3144466826182581, 16828.410118749016, \"Cluster 0\"], [89.0, 28160.0, 0.3388488510290433, 15607.061781887898, \"Cluster 0\"], [92.0, 33550.0, 0.3685156285793065, 17106.32591058189, \"Cluster 0\"], [89.0, 34524.0, 0.348118273264174, 14051.256515312789, \"Cluster 0\"], [90.0, 37503.0, 0.35778831446458764, 17258.57497274541, \"Cluster 0\"], [90.0, 35297.0, 0.35514901905663643, 16091.401954058958, \"Cluster 0\"], [88.0, 17851.0, 0.2898659849627828, 17472.470686173863, \"Cluster 0\"], [88.0, 33303.0, 0.39971568554521497, 15232.598068845287, \"Cluster 0\"], [93.0, 19934.0, 0.20314023979537812, 17969.693768505334, \"Cluster 0\"], [90.0, 29029.0, 0.30375897133462404, 15592.991530526488, \"Cluster 0\"], [87.0, 26045.0, 0.3752921226023748, 15903.558359374925, \"Cluster 0\"], [87.0, 30102.0, 0.3903905943444749, 16330.081190027211, \"Cluster 0\"], [91.0, 30756.0, 0.30369803009825364, 15492.004711465304, \"Cluster 0\"], [87.0, 17760.0, 0.34877754843050746, 16869.507130301474, \"Cluster 0\"], [87.0, 15671.0, 0.3507250914944152, 14326.601120246103, \"Cluster 0\"], [92.0, 35484.0, 0.3970636039704499, 17324.045112814925, \"Cluster 0\"], [84.0, 20704.0, 0.3794963151514172, 16816.911895743782, \"Cluster 0\"], [87.0, 29909.0, 0.3421516318130469, 18142.232746738577, \"Cluster 0\"], [87.0, 42592.0, 0.35528968203827593, 18086.287157859304, \"Cluster 0\"], [83.0, 34384.0, 0.3247186821733417, 14783.379085794499, \"Cluster 0\"], [79.0, 32421.0, 0.3032762059432743, 15319.467662272391, \"Cluster 0\"], [92.0, 22616.0, 0.3228506824321553, 17275.66131398456, \"Cluster 0\"], [91.0, 36991.0, 0.2685979050949868, 19047.77233878285, \"Cluster 0\"], [83.0, 34529.0, 0.3172075114569807, 16517.208746949746, \"Cluster 0\"], [86.0, 27705.0, 0.3293769514872405, 17130.85610211788, \"Cluster 0\"], [84.0, 27693.0, 0.3670629731870412, 17879.558905551898, \"Cluster 0\"], [82.0, 24391.0, 0.27610134635529604, 17053.03010738692, \"Cluster 0\"]], \"hovertemplate\": \"Cluster=%{customdata[4]}<br>Age=%{customdata[0]}<br>Income=%{customdata[1]}<br>SpendingScore=%{customdata[2]}<br>Savings=%{customdata[3]}<extra></extra>\", \"legendgroup\": \"Cluster 0\", \"marker\": {\"color\": \"#636efa\"}, \"name\": \"Cluster 0\", \"notched\": true, \"offsetgroup\": \"Cluster 0\", \"showlegend\": false, \"type\": \"box\", \"x\": [\"Cluster 0\", \"Cluster 0\", \"Cluster 0\", \"Cluster 0\", \"Cluster 0\", \"Cluster 0\", \"Cluster 0\", \"Cluster 0\", \"Cluster 0\", \"Cluster 0\", \"Cluster 0\", \"Cluster 0\", \"Cluster 0\", \"Cluster 0\", \"Cluster 0\", \"Cluster 0\", \"Cluster 0\", \"Cluster 0\", \"Cluster 0\", \"Cluster 0\", \"Cluster 0\", \"Cluster 0\", \"Cluster 0\", \"Cluster 0\", \"Cluster 0\", \"Cluster 0\", \"Cluster 0\", \"Cluster 0\", \"Cluster 0\", \"Cluster 0\", \"Cluster 0\", \"Cluster 0\", \"Cluster 0\", \"Cluster 0\", \"Cluster 0\", \"Cluster 0\", \"Cluster 0\", \"Cluster 0\", \"Cluster 0\", \"Cluster 0\", \"Cluster 0\", \"Cluster 0\", \"Cluster 0\", \"Cluster 0\", \"Cluster 0\", \"Cluster 0\", \"Cluster 0\", \"Cluster 0\", \"Cluster 0\", \"Cluster 0\", \"Cluster 0\", \"Cluster 0\", \"Cluster 0\", \"Cluster 0\", \"Cluster 0\", \"Cluster 0\", \"Cluster 0\", \"Cluster 0\", \"Cluster 0\", \"Cluster 0\", \"Cluster 0\", \"Cluster 0\", \"Cluster 0\", \"Cluster 0\", \"Cluster 0\", \"Cluster 0\", \"Cluster 0\", \"Cluster 0\", \"Cluster 0\", \"Cluster 0\", \"Cluster 0\", \"Cluster 0\", \"Cluster 0\", \"Cluster 0\", \"Cluster 0\", \"Cluster 0\", \"Cluster 0\", \"Cluster 0\", \"Cluster 0\", \"Cluster 0\", \"Cluster 0\", \"Cluster 0\", \"Cluster 0\", \"Cluster 0\", \"Cluster 0\", \"Cluster 0\", \"Cluster 0\", \"Cluster 0\", \"Cluster 0\", \"Cluster 0\", \"Cluster 0\", \"Cluster 0\", \"Cluster 0\", \"Cluster 0\", \"Cluster 0\", \"Cluster 0\", \"Cluster 0\", \"Cluster 0\", \"Cluster 0\", \"Cluster 0\", \"Cluster 0\", \"Cluster 0\", \"Cluster 0\", \"Cluster 0\", \"Cluster 0\", \"Cluster 0\", \"Cluster 0\", \"Cluster 0\", \"Cluster 0\", \"Cluster 0\", \"Cluster 0\", \"Cluster 0\", \"Cluster 0\", \"Cluster 0\", \"Cluster 0\", \"Cluster 0\", \"Cluster 0\", \"Cluster 0\", \"Cluster 0\", \"Cluster 0\", \"Cluster 0\", \"Cluster 0\", \"Cluster 0\", \"Cluster 0\", \"Cluster 0\", \"Cluster 0\", \"Cluster 0\", \"Cluster 0\", \"Cluster 0\", \"Cluster 0\", \"Cluster 0\", \"Cluster 0\", \"Cluster 0\", \"Cluster 0\", \"Cluster 0\", \"Cluster 0\", \"Cluster 0\", \"Cluster 0\", \"Cluster 0\", \"Cluster 0\", \"Cluster 0\", \"Cluster 0\", \"Cluster 0\", \"Cluster 0\", \"Cluster 0\", \"Cluster 0\", \"Cluster 0\"], \"xaxis\": \"x2\", \"yaxis\": \"y2\"}, {\"alignmentgroup\": \"True\", \"bingroup\": \"x\", \"hovertemplate\": \"Cluster=%{x}<br>count=%{y}<extra></extra>\", \"legendgroup\": \"Cluster 1\", \"marker\": {\"color\": \"#EF553B\", \"opacity\": 0.7}, \"name\": \"Cluster 1\", \"offsetgroup\": \"Cluster 1\", \"orientation\": \"v\", \"showlegend\": true, \"type\": \"histogram\", \"x\": [\"Cluster 1\", \"Cluster 1\", \"Cluster 1\", \"Cluster 1\", \"Cluster 1\", \"Cluster 1\", \"Cluster 1\", \"Cluster 1\", \"Cluster 1\", \"Cluster 1\", \"Cluster 1\", \"Cluster 1\", \"Cluster 1\", \"Cluster 1\", \"Cluster 1\", \"Cluster 1\", \"Cluster 1\", \"Cluster 1\", \"Cluster 1\", \"Cluster 1\", \"Cluster 1\", \"Cluster 1\", \"Cluster 1\", \"Cluster 1\", \"Cluster 1\", \"Cluster 1\", \"Cluster 1\", \"Cluster 1\", \"Cluster 1\", \"Cluster 1\", \"Cluster 1\", \"Cluster 1\", \"Cluster 1\", \"Cluster 1\", \"Cluster 1\", \"Cluster 1\", \"Cluster 1\", \"Cluster 1\", \"Cluster 1\", \"Cluster 1\", \"Cluster 1\", \"Cluster 1\", \"Cluster 1\", \"Cluster 1\", \"Cluster 1\", \"Cluster 1\", \"Cluster 1\", \"Cluster 1\", \"Cluster 1\", \"Cluster 1\", \"Cluster 1\", \"Cluster 1\", \"Cluster 1\", \"Cluster 1\", \"Cluster 1\", \"Cluster 1\", \"Cluster 1\", \"Cluster 1\", \"Cluster 1\", \"Cluster 1\", \"Cluster 1\", \"Cluster 1\", \"Cluster 1\", \"Cluster 1\", \"Cluster 1\", \"Cluster 1\", \"Cluster 1\", \"Cluster 1\", \"Cluster 1\", \"Cluster 1\", \"Cluster 1\", \"Cluster 1\", \"Cluster 1\", \"Cluster 1\", \"Cluster 1\", \"Cluster 1\", \"Cluster 1\", \"Cluster 1\", \"Cluster 1\", \"Cluster 1\", \"Cluster 1\", \"Cluster 1\", \"Cluster 1\", \"Cluster 1\", \"Cluster 1\", \"Cluster 1\", \"Cluster 1\", \"Cluster 1\", \"Cluster 1\", \"Cluster 1\", \"Cluster 1\", \"Cluster 1\", \"Cluster 1\", \"Cluster 1\", \"Cluster 1\", \"Cluster 1\", \"Cluster 1\", \"Cluster 1\", \"Cluster 1\", \"Cluster 1\", \"Cluster 1\", \"Cluster 1\", \"Cluster 1\", \"Cluster 1\", \"Cluster 1\", \"Cluster 1\", \"Cluster 1\", \"Cluster 1\", \"Cluster 1\", \"Cluster 1\", \"Cluster 1\", \"Cluster 1\", \"Cluster 1\", \"Cluster 1\", \"Cluster 1\", \"Cluster 1\", \"Cluster 1\", \"Cluster 1\", \"Cluster 1\", \"Cluster 1\", \"Cluster 1\", \"Cluster 1\", \"Cluster 1\", \"Cluster 1\", \"Cluster 1\", \"Cluster 1\", \"Cluster 1\", \"Cluster 1\", \"Cluster 1\", \"Cluster 1\", \"Cluster 1\", \"Cluster 1\", \"Cluster 1\", \"Cluster 1\", \"Cluster 1\", \"Cluster 1\", \"Cluster 1\", \"Cluster 1\", \"Cluster 1\", \"Cluster 1\", \"Cluster 1\", \"Cluster 1\", \"Cluster 1\", \"Cluster 1\", \"Cluster 1\", \"Cluster 1\", \"Cluster 1\", \"Cluster 1\", \"Cluster 1\", \"Cluster 1\", \"Cluster 1\", \"Cluster 1\", \"Cluster 1\", \"Cluster 1\", \"Cluster 1\", \"Cluster 1\", \"Cluster 1\"], \"xaxis\": \"x\", \"yaxis\": \"y\"}, {\"alignmentgroup\": \"True\", \"customdata\": [[65.0, 70430.0, 0.6969942581249643, 6971.164886262858, \"Cluster 1\"], [57.0, 69655.0, 0.6748906779058501, 5889.831167170132, \"Cluster 1\"], [65.0, 71229.0, 0.7878897626638453, 9024.337460598084, \"Cluster 1\"], [59.0, 69408.0, 0.8799059975919311, 6491.771149967824, \"Cluster 1\"], [61.0, 73495.0, 0.7727563051023116, 9288.189785744367, \"Cluster 1\"], [60.0, 65942.0, 0.8005783854654352, 5253.2650066086435, \"Cluster 1\"], [55.0, 73895.0, 0.7471254610291731, 5563.906948891499, \"Cluster 1\"], [63.0, 75078.0, 0.7831591503681397, 7468.8510795028005, \"Cluster 1\"], [62.0, 62747.0, 0.7705945596869115, 5852.326242628098, \"Cluster 1\"], [59.0, 75505.0, 0.7682786576081454, 5006.528691371692, \"Cluster 1\"], [67.0, 59243.0, 0.7436599996604758, 5446.557472721708, \"Cluster 1\"], [58.0, 77559.0, 0.7122963723872477, 5742.524488088997, \"Cluster 1\"], [66.0, 77052.0, 0.7072624347132287, 6296.417311227459, \"Cluster 1\"], [58.0, 70272.0, 0.8229596005059499, 5290.087044285296, \"Cluster 1\"], [57.0, 65608.0, 0.7662313009024402, 6904.318224287022, \"Cluster 1\"], [57.0, 76573.0, 0.8405990704520518, 6225.3760824332285, \"Cluster 1\"], [66.0, 71672.0, 0.7538892176112998, 7387.835437850721, \"Cluster 1\"], [59.0, 69460.0, 0.7527238381125997, 6101.372146632121, \"Cluster 1\"], [68.0, 77648.0, 0.7965446939835457, 6190.864082788901, \"Cluster 1\"], [61.0, 74282.0, 0.6922364738673796, 7286.754751068365, \"Cluster 1\"], [58.0, 70369.0, 0.9045204855363144, 7461.567502649429, \"Cluster 1\"], [59.0, 75495.0, 0.7945029052198103, 6702.9519263157545, \"Cluster 1\"], [61.0, 71171.0, 0.7210804930623951, 6457.790641224788, \"Cluster 1\"], [64.0, 76410.0, 0.7756041848937439, 6135.308197117819, \"Cluster 1\"], [63.0, 56875.0, 0.7622805817657738, 7837.233619544163, \"Cluster 1\"], [64.0, 78801.0, 0.7403674891662984, 6420.9440712002615, \"Cluster 1\"], [62.0, 67731.0, 0.8191699488980382, 5956.555677017446, \"Cluster 1\"], [61.0, 67372.0, 0.7340673095092516, 6618.549336247915, \"Cluster 1\"], [62.0, 73675.0, 0.7966191667425384, 4688.657157271711, \"Cluster 1\"], [67.0, 68663.0, 0.7738336308243648, 7451.9940140258705, \"Cluster 1\"], [61.0, 78837.0, 0.7459489746307642, 6811.303235949058, \"Cluster 1\"], [57.0, 72055.0, 0.7549723463413129, 6544.847498075687, \"Cluster 1\"], [63.0, 67370.0, 0.8999405530923943, 5985.077029740457, \"Cluster 1\"], [56.0, 80431.0, 0.7594315957853627, 8150.55743948241, \"Cluster 1\"], [51.0, 72086.0, 0.7911147257599156, 6732.096068632267, \"Cluster 1\"], [59.0, 82199.0, 0.8035145098215853, 5880.814834306347, \"Cluster 1\"], [58.0, 80248.0, 0.7249557054919687, 7641.16038162423, \"Cluster 1\"], [55.0, 64768.0, 0.7332568512323248, 6486.353872691102, \"Cluster 1\"], [61.0, 68842.0, 0.7544065421993587, 4077.6586565080543, \"Cluster 1\"], [55.0, 76831.0, 0.7421137340413241, 7806.398750466399, \"Cluster 1\"], [58.0, 78611.0, 0.910416682938019, 7665.884294519009, \"Cluster 1\"], [68.0, 68944.0, 0.7455674638713768, 6828.709702363695, \"Cluster 1\"], [58.0, 69247.0, 0.7237211912021976, 8715.67957429646, \"Cluster 1\"], [67.0, 78702.0, 0.7632736815688779, 5030.364838791924, \"Cluster 1\"], [56.0, 73516.0, 0.806499154055182, 7696.832373798451, \"Cluster 1\"], [59.0, 73596.0, 0.8567042188430352, 8281.718740320448, \"Cluster 1\"], [59.0, 90422.0, 0.8062102206275251, 6746.281083820821, \"Cluster 1\"], [57.0, 79794.0, 0.82240840085096, 5893.975284946178, \"Cluster 1\"], [60.0, 70054.0, 0.7143393610830643, 6609.918507412548, \"Cluster 1\"], [67.0, 80914.0, 0.8196642592960329, 6833.507136694643, \"Cluster 1\"], [61.0, 65914.0, 0.7781022309770123, 6406.8771303520325, \"Cluster 1\"], [60.0, 74460.0, 0.7545393292392412, 7567.6476522203675, \"Cluster 1\"], [59.0, 73350.0, 0.6797735912164855, 6710.5740183754415, \"Cluster 1\"], [57.0, 64803.0, 0.7285849289103553, 6255.552641057161, \"Cluster 1\"], [59.0, 56321.0, 0.806565925193039, 6129.288986032587, \"Cluster 1\"], [59.0, 67401.0, 0.7114339697492305, 6529.586309935448, \"Cluster 1\"], [58.0, 70676.0, 0.7640283880376706, 7664.415650964042, \"Cluster 1\"], [63.0, 70580.0, 0.7665090449070475, 7262.108723452133, \"Cluster 1\"], [61.0, 72027.0, 0.7623249166772856, 6926.123598416466, \"Cluster 1\"], [56.0, 65313.0, 0.7546029986455771, 5574.2436767070985, \"Cluster 1\"], [58.0, 76052.0, 0.7215881830727278, 6681.9843863770275, \"Cluster 1\"], [56.0, 75599.0, 0.7737370986430746, 6799.625271842961, \"Cluster 1\"], [59.0, 68038.0, 0.8014869916095588, 7719.283632687176, \"Cluster 1\"], [61.0, 72060.0, 0.8334590233217959, 7924.6411381540165, \"Cluster 1\"], [60.0, 63476.0, 0.7519000198498227, 7543.542801728056, \"Cluster 1\"], [56.0, 78992.0, 0.8122757021441627, 7285.18043685174, \"Cluster 1\"], [63.0, 82343.0, 0.7323186222078123, 8090.706739679063, \"Cluster 1\"], [58.0, 78078.0, 0.7837795500405715, 6483.049643745244, \"Cluster 1\"], [59.0, 77978.0, 0.7188952048526104, 8316.31110205122, \"Cluster 1\"], [62.0, 69326.0, 0.7980123380544829, 7003.095703317772, \"Cluster 1\"], [59.0, 69115.0, 0.7598834338453199, 5997.690199856996, \"Cluster 1\"], [59.0, 67346.0, 0.7251568963089163, 8857.849116294088, \"Cluster 1\"], [65.0, 74430.0, 0.7517741617758547, 7145.251128357927, \"Cluster 1\"], [64.0, 62886.0, 0.7480162682831766, 8302.588638401632, \"Cluster 1\"], [59.0, 80876.0, 0.6573140731575163, 7232.825142650888, \"Cluster 1\"], [59.0, 73057.0, 0.8302949092020397, 7819.393215767329, \"Cluster 1\"], [61.0, 65647.0, 0.7174899773841509, 7497.231607003855, \"Cluster 1\"], [64.0, 64331.0, 0.7571277508774099, 5815.660096290825, \"Cluster 1\"], [58.0, 77769.0, 0.7913287771988531, 6559.8299230048315, \"Cluster 1\"], [57.0, 76594.0, 0.7906578552491133, 6584.654681310476, \"Cluster 1\"], [58.0, 70798.0, 0.7535283874245788, 5330.73989989779, \"Cluster 1\"], [56.0, 86484.0, 0.7321233689266612, 8777.496176839057, \"Cluster 1\"], [63.0, 85761.0, 0.8005979105724924, 7175.090218501247, \"Cluster 1\"], [58.0, 70259.0, 0.7697129169369328, 7101.674514204499, \"Cluster 1\"], [60.0, 79969.0, 0.812104912914789, 4879.334872972362, \"Cluster 1\"], [58.0, 69879.0, 0.7209986871945887, 6669.033518051874, \"Cluster 1\"], [62.0, 73480.0, 0.7391949797931453, 6277.675150528886, \"Cluster 1\"], [66.0, 72571.0, 0.8115483367376335, 6509.41150610998, \"Cluster 1\"], [66.0, 64866.0, 0.7665941891374249, 5037.899138583947, \"Cluster 1\"], [63.0, 72815.0, 0.8200359737627068, 5504.385543801038, \"Cluster 1\"], [64.0, 71692.0, 0.8426521453196145, 7002.9765543033545, \"Cluster 1\"], [62.0, 63596.0, 0.7453271943508174, 6142.201619345869, \"Cluster 1\"], [62.0, 62650.0, 0.766572365027147, 7533.673609198676, \"Cluster 1\"], [60.0, 71436.0, 0.8320590985324969, 8557.86012627717, \"Cluster 1\"], [65.0, 65736.0, 0.7785687658100923, 6387.2196944302905, \"Cluster 1\"], [60.0, 70663.0, 0.7153396972946453, 7557.937593550947, \"Cluster 1\"], [63.0, 80705.0, 0.7626699527314824, 5154.330634621805, \"Cluster 1\"], [56.0, 84386.0, 0.7849450699605269, 7270.41953428175, \"Cluster 1\"], [58.0, 75757.0, 0.8097944168848634, 7390.5772934370325, \"Cluster 1\"], [62.0, 71050.0, 0.7353568506694507, 6988.197368273879, \"Cluster 1\"], [56.0, 68698.0, 0.7162678503859907, 7070.967006969191, \"Cluster 1\"], [59.0, 67781.0, 0.7225483489421433, 6701.527664794541, \"Cluster 1\"], [65.0, 66017.0, 0.7861892594159869, 6159.662935925753, \"Cluster 1\"], [62.0, 80093.0, 0.6909167811268888, 6756.749072752337, \"Cluster 1\"], [59.0, 67988.0, 0.8114707012366371, 7255.903114334659, \"Cluster 1\"], [64.0, 88361.0, 0.7745562258521365, 7240.759687480846, \"Cluster 1\"], [66.0, 82526.0, 0.7696800667721441, 6205.662650191712, \"Cluster 1\"], [59.0, 74576.0, 0.7812961239072382, 10547.775367695343, \"Cluster 1\"], [59.0, 72588.0, 0.8017156979122673, 6300.8437570950255, \"Cluster 1\"], [59.0, 81799.0, 0.7910820467274178, 5417.661426197439, \"Cluster 1\"], [62.0, 74751.0, 0.7026569520102857, 9258.99296503407, \"Cluster 1\"], [59.0, 74373.0, 0.7656795619984281, 7346.334503537976, \"Cluster 1\"], [54.0, 76500.0, 0.7851978501165687, 6878.884248553974, \"Cluster 1\"], [61.0, 71933.0, 0.8441067966472876, 8022.208541100706, \"Cluster 1\"], [55.0, 71621.0, 0.7533426836166189, 7780.589913955977, \"Cluster 1\"], [53.0, 76667.0, 0.7600576501232099, 5168.225474983632, \"Cluster 1\"], [55.0, 78761.0, 0.8271741985123882, 8376.74947779104, \"Cluster 1\"], [61.0, 76955.0, 0.7771175646074471, 7467.036702314494, \"Cluster 1\"], [59.0, 65700.0, 0.8114711740198254, 6932.487932327357, \"Cluster 1\"], [59.0, 69738.0, 0.7421121217155721, 7151.650866065035, \"Cluster 1\"], [56.0, 63866.0, 0.7618879582513512, 7762.255066659051, \"Cluster 1\"], [61.0, 74117.0, 0.7702140596767938, 5103.609230428381, \"Cluster 1\"], [61.0, 63846.0, 0.8278622414878984, 7283.504772674617, \"Cluster 1\"], [60.0, 70012.0, 0.7944610508231513, 7263.242447729872, \"Cluster 1\"], [57.0, 75332.0, 0.7215024376129366, 6845.056822204781, \"Cluster 1\"], [61.0, 73245.0, 0.811160373170345, 7413.784487271215, \"Cluster 1\"], [55.0, 74356.0, 0.7998269700906482, 6484.630737953294, \"Cluster 1\"], [53.0, 62117.0, 0.7331388477995737, 7500.452413594261, \"Cluster 1\"], [61.0, 69001.0, 0.8216687745413516, 5074.12121172259, \"Cluster 1\"], [64.0, 60493.0, 0.7680563479442216, 7708.112609459162, \"Cluster 1\"], [62.0, 69741.0, 0.8462196017575947, 5781.658046536959, \"Cluster 1\"], [55.0, 71056.0, 0.7565897119333272, 7464.163256732262, \"Cluster 1\"], [58.0, 74340.0, 0.7351650452097145, 7259.540921675672, \"Cluster 1\"], [57.0, 79470.0, 0.7734352958312237, 6773.049089777121, \"Cluster 1\"], [58.0, 77101.0, 0.7667195837506832, 8148.49184821177, \"Cluster 1\"], [64.0, 76364.0, 0.6993887663543108, 5772.1171358549755, \"Cluster 1\"], [57.0, 74014.0, 0.787378081122989, 5783.846928267082, \"Cluster 1\"], [62.0, 67030.0, 0.7467384433463651, 6740.765182071713, \"Cluster 1\"], [56.0, 68463.0, 0.8157116929554062, 8995.180087953215, \"Cluster 1\"], [53.0, 74996.0, 0.7387310917031671, 7821.447803561914, \"Cluster 1\"], [60.0, 65340.0, 0.7316484923943142, 8354.196507802662, \"Cluster 1\"], [56.0, 60059.0, 0.7275840223364691, 7166.858605155183, \"Cluster 1\"], [62.0, 78413.0, 0.7907090657200839, 6961.2041923680945, \"Cluster 1\"], [61.0, 69698.0, 0.7416839698444291, 8777.077471725162, \"Cluster 1\"], [62.0, 68279.0, 0.7196850779929922, 7028.675510384212, \"Cluster 1\"], [55.0, 76057.0, 0.8778279844516369, 6132.898204816149, \"Cluster 1\"], [60.0, 67491.0, 0.84661848692906, 7180.713788260257, \"Cluster 1\"], [58.0, 83351.0, 0.8406978038692191, 6673.909711092488, \"Cluster 1\"], [61.0, 71033.0, 0.8380950724014863, 9456.876962701137, \"Cluster 1\"], [59.0, 71302.0, 0.7020090041734849, 6595.726010227134, \"Cluster 1\"], [58.0, 80278.0, 0.8233589910091558, 6335.97831998802, \"Cluster 1\"], [56.0, 67274.0, 0.7798516671891869, 6652.391024403152, \"Cluster 1\"], [60.0, 65054.0, 0.7086131723969877, 5417.237293788358, \"Cluster 1\"], [62.0, 69391.0, 0.7921059737158539, 6518.283467894094, \"Cluster 1\"], [58.0, 78635.0, 0.7864400503429185, 7162.739043055361, \"Cluster 1\"], [64.0, 86283.0, 0.7568019251873561, 6852.5548669147165, \"Cluster 1\"], [63.0, 69849.0, 0.7403870808915297, 7670.6909659413295, \"Cluster 1\"]], \"hovertemplate\": \"Cluster=%{customdata[4]}<br>Age=%{customdata[0]}<br>Income=%{customdata[1]}<br>SpendingScore=%{customdata[2]}<br>Savings=%{customdata[3]}<extra></extra>\", \"legendgroup\": \"Cluster 1\", \"marker\": {\"color\": \"#EF553B\"}, \"name\": \"Cluster 1\", \"notched\": true, \"offsetgroup\": \"Cluster 1\", \"showlegend\": false, \"type\": \"box\", \"x\": [\"Cluster 1\", \"Cluster 1\", \"Cluster 1\", \"Cluster 1\", \"Cluster 1\", \"Cluster 1\", \"Cluster 1\", \"Cluster 1\", \"Cluster 1\", \"Cluster 1\", \"Cluster 1\", \"Cluster 1\", \"Cluster 1\", \"Cluster 1\", \"Cluster 1\", \"Cluster 1\", \"Cluster 1\", \"Cluster 1\", \"Cluster 1\", \"Cluster 1\", \"Cluster 1\", \"Cluster 1\", \"Cluster 1\", \"Cluster 1\", \"Cluster 1\", \"Cluster 1\", \"Cluster 1\", \"Cluster 1\", \"Cluster 1\", \"Cluster 1\", \"Cluster 1\", \"Cluster 1\", \"Cluster 1\", \"Cluster 1\", \"Cluster 1\", \"Cluster 1\", \"Cluster 1\", \"Cluster 1\", \"Cluster 1\", \"Cluster 1\", \"Cluster 1\", \"Cluster 1\", \"Cluster 1\", \"Cluster 1\", \"Cluster 1\", \"Cluster 1\", \"Cluster 1\", \"Cluster 1\", \"Cluster 1\", \"Cluster 1\", \"Cluster 1\", \"Cluster 1\", \"Cluster 1\", \"Cluster 1\", \"Cluster 1\", \"Cluster 1\", \"Cluster 1\", \"Cluster 1\", \"Cluster 1\", \"Cluster 1\", \"Cluster 1\", \"Cluster 1\", \"Cluster 1\", \"Cluster 1\", \"Cluster 1\", \"Cluster 1\", \"Cluster 1\", \"Cluster 1\", \"Cluster 1\", \"Cluster 1\", \"Cluster 1\", \"Cluster 1\", \"Cluster 1\", \"Cluster 1\", \"Cluster 1\", \"Cluster 1\", \"Cluster 1\", \"Cluster 1\", \"Cluster 1\", \"Cluster 1\", \"Cluster 1\", \"Cluster 1\", \"Cluster 1\", \"Cluster 1\", \"Cluster 1\", \"Cluster 1\", \"Cluster 1\", \"Cluster 1\", \"Cluster 1\", \"Cluster 1\", \"Cluster 1\", \"Cluster 1\", \"Cluster 1\", \"Cluster 1\", \"Cluster 1\", \"Cluster 1\", \"Cluster 1\", \"Cluster 1\", \"Cluster 1\", \"Cluster 1\", \"Cluster 1\", \"Cluster 1\", \"Cluster 1\", \"Cluster 1\", \"Cluster 1\", \"Cluster 1\", \"Cluster 1\", \"Cluster 1\", \"Cluster 1\", \"Cluster 1\", \"Cluster 1\", \"Cluster 1\", \"Cluster 1\", \"Cluster 1\", \"Cluster 1\", \"Cluster 1\", \"Cluster 1\", \"Cluster 1\", \"Cluster 1\", \"Cluster 1\", \"Cluster 1\", \"Cluster 1\", \"Cluster 1\", \"Cluster 1\", \"Cluster 1\", \"Cluster 1\", \"Cluster 1\", \"Cluster 1\", \"Cluster 1\", \"Cluster 1\", \"Cluster 1\", \"Cluster 1\", \"Cluster 1\", \"Cluster 1\", \"Cluster 1\", \"Cluster 1\", \"Cluster 1\", \"Cluster 1\", \"Cluster 1\", \"Cluster 1\", \"Cluster 1\", \"Cluster 1\", \"Cluster 1\", \"Cluster 1\", \"Cluster 1\", \"Cluster 1\", \"Cluster 1\", \"Cluster 1\", \"Cluster 1\", \"Cluster 1\", \"Cluster 1\", \"Cluster 1\", \"Cluster 1\", \"Cluster 1\", \"Cluster 1\", \"Cluster 1\", \"Cluster 1\"], \"xaxis\": \"x2\", \"yaxis\": \"y2\"}, {\"alignmentgroup\": \"True\", \"bingroup\": \"x\", \"hovertemplate\": \"Cluster=%{x}<br>count=%{y}<extra></extra>\", \"legendgroup\": \"Cluster 2\", \"marker\": {\"color\": \"#00cc96\", \"opacity\": 0.7}, \"name\": \"Cluster 2\", \"offsetgroup\": \"Cluster 2\", \"orientation\": \"v\", \"showlegend\": true, \"type\": \"histogram\", \"x\": [\"Cluster 2\", \"Cluster 2\", \"Cluster 2\", \"Cluster 2\", \"Cluster 2\", \"Cluster 2\", \"Cluster 2\", \"Cluster 2\", \"Cluster 2\", \"Cluster 2\", \"Cluster 2\", \"Cluster 2\", \"Cluster 2\", \"Cluster 2\", \"Cluster 2\", \"Cluster 2\", \"Cluster 2\", \"Cluster 2\", \"Cluster 2\", \"Cluster 2\", \"Cluster 2\", \"Cluster 2\", \"Cluster 2\", \"Cluster 2\", \"Cluster 2\", \"Cluster 2\", \"Cluster 2\", \"Cluster 2\", \"Cluster 2\", \"Cluster 2\", \"Cluster 2\", \"Cluster 2\", \"Cluster 2\", \"Cluster 2\", \"Cluster 2\", \"Cluster 2\", \"Cluster 2\", \"Cluster 2\", \"Cluster 2\", \"Cluster 2\", \"Cluster 2\", \"Cluster 2\", \"Cluster 2\", \"Cluster 2\", \"Cluster 2\", \"Cluster 2\", \"Cluster 2\", \"Cluster 2\", \"Cluster 2\", \"Cluster 2\", \"Cluster 2\", \"Cluster 2\", \"Cluster 2\", \"Cluster 2\", \"Cluster 2\", \"Cluster 2\", \"Cluster 2\", \"Cluster 2\", \"Cluster 2\", \"Cluster 2\", \"Cluster 2\", \"Cluster 2\", \"Cluster 2\", \"Cluster 2\", \"Cluster 2\", \"Cluster 2\", \"Cluster 2\", \"Cluster 2\", \"Cluster 2\", \"Cluster 2\", \"Cluster 2\", \"Cluster 2\", \"Cluster 2\", \"Cluster 2\", \"Cluster 2\", \"Cluster 2\", \"Cluster 2\", \"Cluster 2\", \"Cluster 2\", \"Cluster 2\", \"Cluster 2\", \"Cluster 2\", \"Cluster 2\", \"Cluster 2\", \"Cluster 2\", \"Cluster 2\", \"Cluster 2\", \"Cluster 2\", \"Cluster 2\", \"Cluster 2\", \"Cluster 2\", \"Cluster 2\", \"Cluster 2\", \"Cluster 2\", \"Cluster 2\", \"Cluster 2\", \"Cluster 2\", \"Cluster 2\", \"Cluster 2\", \"Cluster 2\", \"Cluster 2\", \"Cluster 2\", \"Cluster 2\", \"Cluster 2\", \"Cluster 2\", \"Cluster 2\", \"Cluster 2\", \"Cluster 2\", \"Cluster 2\", \"Cluster 2\", \"Cluster 2\", \"Cluster 2\", \"Cluster 2\", \"Cluster 2\", \"Cluster 2\", \"Cluster 2\", \"Cluster 2\", \"Cluster 2\", \"Cluster 2\", \"Cluster 2\", \"Cluster 2\", \"Cluster 2\", \"Cluster 2\", \"Cluster 2\", \"Cluster 2\", \"Cluster 2\", \"Cluster 2\", \"Cluster 2\", \"Cluster 2\", \"Cluster 2\", \"Cluster 2\", \"Cluster 2\", \"Cluster 2\", \"Cluster 2\", \"Cluster 2\", \"Cluster 2\", \"Cluster 2\", \"Cluster 2\", \"Cluster 2\", \"Cluster 2\", \"Cluster 2\", \"Cluster 2\", \"Cluster 2\", \"Cluster 2\", \"Cluster 2\", \"Cluster 2\", \"Cluster 2\", \"Cluster 2\", \"Cluster 2\", \"Cluster 2\", \"Cluster 2\"], \"xaxis\": \"x\", \"yaxis\": \"y\"}, {\"alignmentgroup\": \"True\", \"customdata\": [[38.0, 104738.0, 0.4059588503683713, 15634.313868027426, \"Cluster 2\"], [29.0, 112531.0, 0.3427661743407053, 14361.334979176147, \"Cluster 2\"], [36.0, 109809.0, 0.355660187354229, 14978.502144076487, \"Cluster 2\"], [31.0, 110882.0, 0.3252806065281125, 14004.61374291491, \"Cluster 2\"], [39.0, 100661.0, 0.3766412501689559, 16873.128638209408, \"Cluster 2\"], [88.0, 123651.0, 0.02902714029105191, 13504.577571797938, \"Cluster 2\"], [86.0, 124372.0, 0.0, 15374.465952896948, \"Cluster 2\"], [35.0, 108499.0, 0.2612719132713158, 16046.08301542436, \"Cluster 2\"], [30.0, 96241.0, 0.3773384910014747, 15485.156009739387, \"Cluster 2\"], [35.0, 106588.0, 0.3422142051018276, 15648.65667046098, \"Cluster 2\"], [25.0, 101503.0, 0.28846885607409833, 15026.262148820157, \"Cluster 2\"], [37.0, 106894.0, 0.3432357689892068, 14075.217365594552, \"Cluster 2\"], [30.0, 107302.0, 0.2396771776819925, 13993.24401848172, \"Cluster 2\"], [36.0, 109038.0, 0.3242132027621541, 16502.389477657125, \"Cluster 2\"], [34.0, 103204.0, 0.30108735378393314, 15149.810421179482, \"Cluster 2\"], [33.0, 98033.0, 0.30951111585458696, 15774.690605560645, \"Cluster 2\"], [36.0, 101811.0, 0.3406667947415742, 15048.89961242685, \"Cluster 2\"], [32.0, 101905.0, 0.3074763135926987, 17532.16478349903, \"Cluster 2\"], [83.0, 117943.0, 0.07721324003343044, 15391.95219220651, \"Cluster 2\"], [31.0, 112943.0, 0.34123950330738706, 14297.702229457283, \"Cluster 2\"], [37.0, 108651.0, 0.1923436158292553, 15881.242198260683, \"Cluster 2\"], [36.0, 100158.0, 0.31606041409802405, 13832.379370734528, \"Cluster 2\"], [90.0, 124170.0, 0.030751314393913882, 14773.407205599842, \"Cluster 2\"], [31.0, 105006.0, 0.3741658782934958, 15419.41776312329, \"Cluster 2\"], [37.0, 110732.0, 0.3226762482802641, 14265.351840497759, \"Cluster 2\"], [35.0, 104678.0, 0.3279928581002429, 15422.055799721802, \"Cluster 2\"], [33.0, 92569.0, 0.33607980556714456, 13765.685995748696, \"Cluster 2\"], [84.0, 114406.0, 0.12383837464097253, 16840.570583774286, \"Cluster 2\"], [37.0, 107958.0, 0.34666907654318496, 13641.009538079368, \"Cluster 2\"], [29.0, 99161.0, 0.3079200040396055, 15631.836772980834, \"Cluster 2\"], [44.0, 114642.0, 0.3092049154534188, 14067.617788950563, \"Cluster 2\"], [32.0, 106543.0, 0.3107432443044589, 14337.288328489092, \"Cluster 2\"], [31.0, 105036.0, 0.2722279930569666, 16465.063521972657, \"Cluster 2\"], [29.0, 103223.0, 0.3388162937437745, 16252.883053065632, \"Cluster 2\"], [36.0, 98137.0, 0.29740129315965397, 15978.332837131276, \"Cluster 2\"], [31.0, 105826.0, 0.2862743235826754, 13856.805832195869, \"Cluster 2\"], [90.0, 117668.0, 0.08272274299401555, 12554.692742420659, \"Cluster 2\"], [33.0, 106757.0, 0.25839611372125515, 14431.652799234367, \"Cluster 2\"], [33.0, 107100.0, 0.3424354833732075, 14895.473479049117, \"Cluster 2\"], [89.0, 119697.0, 0.0916792017028315, 16215.399076555514, \"Cluster 2\"], [29.0, 101943.0, 0.3256230614429721, 14619.354282159029, \"Cluster 2\"], [32.0, 108417.0, 0.28737086714008075, 16696.398659007995, \"Cluster 2\"], [84.0, 122696.0, 0.08218683192473558, 13809.734086698068, \"Cluster 2\"], [30.0, 101073.0, 0.3143871202044516, 14324.555977118509, \"Cluster 2\"], [88.0, 120678.0, 0.06327285129660287, 14264.473846639943, \"Cluster 2\"], [38.0, 94775.0, 0.3803902009461493, 16867.13082002739, \"Cluster 2\"], [92.0, 122879.0, 0.0607240352184939, 13709.670274517475, \"Cluster 2\"], [31.0, 107963.0, 0.2905086327499087, 13407.081391032512, \"Cluster 2\"], [30.0, 99949.0, 0.344679223509786, 13621.639726331408, \"Cluster 2\"], [36.0, 99780.0, 0.2654326074020303, 16398.40133318453, \"Cluster 2\"], [85.0, 111389.0, 0.0367953622110323, 16009.237762922363, \"Cluster 2\"], [30.0, 98030.0, 0.4111117138132285, 16316.842905166694, \"Cluster 2\"], [28.0, 101206.0, 0.3874406981253433, 14936.775388622864, \"Cluster 2\"], [37.0, 107877.0, 0.3346179841546032, 17968.55392863446, \"Cluster 2\"], [29.0, 119366.0, 0.3587713900686116, 15012.853014226299, \"Cluster 2\"], [31.0, 102618.0, 0.2763779214063509, 13209.301612848929, \"Cluster 2\"], [29.0, 106014.0, 0.34794511357773106, 15038.010746320377, \"Cluster 2\"], [31.0, 101209.0, 0.3043229953712128, 16917.571691218804, \"Cluster 2\"], [33.0, 101058.0, 0.3150815497840024, 14911.868398206978, \"Cluster 2\"], [31.0, 101481.0, 0.2702350511848681, 15226.614133627569, \"Cluster 2\"], [83.0, 119429.0, 0.042154801078558464, 15607.561541234569, \"Cluster 2\"], [34.0, 98993.0, 0.3229930887837502, 16138.079373431863, \"Cluster 2\"], [22.0, 109152.0, 0.32344641636242355, 16022.482482363523, \"Cluster 2\"], [87.0, 117564.0, 0.1282795957567026, 14000.248964992143, \"Cluster 2\"], [34.0, 102291.0, 0.24786227611431386, 15819.577601160518, \"Cluster 2\"], [25.0, 106772.0, 0.3909047196000217, 16353.471790615497, \"Cluster 2\"], [31.0, 107994.0, 0.2944689389706671, 13685.972361738892, \"Cluster 2\"], [31.0, 114833.0, 0.3050696862135815, 13953.029721407644, \"Cluster 2\"], [31.0, 107932.0, 0.3742421881649845, 12207.526078087714, \"Cluster 2\"], [35.0, 110106.0, 0.2867692710102035, 14924.537223475552, \"Cluster 2\"], [28.0, 100592.0, 0.2595983487762325, 15520.355775683653, \"Cluster 2\"], [33.0, 116616.0, 0.3209300476959025, 15104.49811363824, \"Cluster 2\"], [31.0, 111449.0, 0.29410620308282165, 13929.62155143948, \"Cluster 2\"], [28.0, 94762.0, 0.3035961911057213, 15352.521936894913, \"Cluster 2\"], [39.0, 100540.0, 0.3849229829012918, 16741.013894847743, \"Cluster 2\"], [36.0, 96336.0, 0.28809756719298163, 15286.769335194167, \"Cluster 2\"], [32.0, 117050.0, 0.3113555349689566, 14310.546206532163, \"Cluster 2\"], [93.0, 126601.0, 0.025170169477345742, 14117.44703707058, \"Cluster 2\"], [36.0, 104285.0, 0.2123600508972585, 13347.558779497918, \"Cluster 2\"], [34.0, 104284.0, 0.34454541177986714, 13541.801770810564, \"Cluster 2\"], [37.0, 110595.0, 0.28664850500199834, 15235.445457133224, \"Cluster 2\"], [33.0, 94964.0, 0.3302325026567214, 14018.349867336628, \"Cluster 2\"], [43.0, 101641.0, 0.3819838041034955, 14424.097995592982, \"Cluster 2\"], [33.0, 100275.0, 0.3630856827120957, 13735.438742381079, \"Cluster 2\"], [26.0, 97750.0, 0.2934087605160681, 15823.032361634105, \"Cluster 2\"], [24.0, 110564.0, 0.3049430059244969, 14967.839625179657, \"Cluster 2\"], [31.0, 107115.0, 0.3280420856997338, 15693.499570389358, \"Cluster 2\"], [29.0, 111426.0, 0.4002811559385194, 14352.643773230728, \"Cluster 2\"], [36.0, 108004.0, 0.3089229914936124, 15813.964573146997, \"Cluster 2\"], [86.0, 128378.0, 0.12608340975849852, 13585.778624417357, \"Cluster 2\"], [33.0, 114555.0, 0.2792568364789493, 13746.745438440072, \"Cluster 2\"], [29.0, 116451.0, 0.3406596106851227, 15294.661511529368, \"Cluster 2\"], [40.0, 98821.0, 0.27908085018704903, 15995.160053914664, \"Cluster 2\"], [35.0, 105991.0, 0.34337797815210225, 16616.088239618915, \"Cluster 2\"], [32.0, 102035.0, 0.26207035616469115, 14209.932802396092, \"Cluster 2\"], [37.0, 106664.0, 0.2775867542026021, 14479.374117495967, \"Cluster 2\"], [34.0, 89598.0, 0.3401523810436963, 12832.768720823738, \"Cluster 2\"], [34.0, 107255.0, 0.3283430294033384, 15130.595225546444, \"Cluster 2\"], [84.0, 115237.0, 0.06877820981367339, 14396.568282311468, \"Cluster 2\"], [82.0, 126257.0, 0.07809619439943333, 15816.101922357922, \"Cluster 2\"], [88.0, 114767.0, 0.032207542338926365, 17833.093470094427, \"Cluster 2\"], [85.0, 118169.0, 0.123196057747337, 14855.951023927619, \"Cluster 2\"], [35.0, 117112.0, 0.3047918711384766, 15908.035997555322, \"Cluster 2\"], [33.0, 111813.0, 0.2382437868013801, 15901.238967721652, \"Cluster 2\"], [33.0, 105667.0, 0.25075080562386165, 12869.761073905089, \"Cluster 2\"], [29.0, 91375.0, 0.2354504258588228, 13104.962760687613, \"Cluster 2\"], [83.0, 117347.0, 0.15569409232860987, 15086.701120471576, \"Cluster 2\"], [28.0, 99611.0, 0.2795578681222758, 15345.658121390226, \"Cluster 2\"], [31.0, 99457.0, 0.3658064971511749, 14580.613477014092, \"Cluster 2\"], [37.0, 97831.0, 0.3744658274308825, 14935.144813058325, \"Cluster 2\"], [31.0, 108067.0, 0.2686742663930692, 13316.767286164832, \"Cluster 2\"], [33.0, 106345.0, 0.3392354218755358, 15300.45379012999, \"Cluster 2\"], [30.0, 107926.0, 0.2301607310342209, 15520.536309707046, \"Cluster 2\"], [30.0, 108581.0, 0.3094467811568005, 15628.791650531211, \"Cluster 2\"], [34.0, 98165.0, 0.17412049382306485, 15721.86284266975, \"Cluster 2\"], [30.0, 106350.0, 0.3694162857692797, 14863.233588279092, \"Cluster 2\"], [30.0, 107525.0, 0.2948164301396663, 12702.847385049918, \"Cluster 2\"], [86.0, 115689.0, 0.057842956133581036, 14803.153273493916, \"Cluster 2\"], [29.0, 102028.0, 0.2889604994756899, 14634.430692347907, \"Cluster 2\"], [30.0, 102056.0, 0.2607006223919937, 15370.66882713054, \"Cluster 2\"], [28.0, 111937.0, 0.2537347301209012, 13669.110632506934, \"Cluster 2\"], [37.0, 97678.0, 0.2574704443875843, 15834.113173627364, \"Cluster 2\"], [37.0, 108635.0, 0.28649570314839057, 14558.054542315444, \"Cluster 2\"], [82.0, 121642.0, 0.054653190464209855, 14177.513323069668, \"Cluster 2\"], [42.0, 106990.0, 0.330065422314764, 14856.938997469417, \"Cluster 2\"], [28.0, 97965.0, 0.3134915614599665, 14981.402201916082, \"Cluster 2\"], [30.0, 108928.0, 0.30386361503665704, 14339.652917342728, \"Cluster 2\"], [32.0, 95536.0, 0.26624605681014885, 15420.625644002741, \"Cluster 2\"], [35.0, 107131.0, 0.2424731551814769, 16200.013010637644, \"Cluster 2\"], [35.0, 101691.0, 0.3491110181825554, 14152.671689505803, \"Cluster 2\"], [31.0, 104388.0, 0.2864732316476225, 14406.561248437842, \"Cluster 2\"], [35.0, 102308.0, 0.2751372175012177, 14874.557991326978, \"Cluster 2\"], [33.0, 99637.0, 0.2282170773869075, 15139.403142647532, \"Cluster 2\"], [29.0, 110860.0, 0.31944030103524745, 16260.42103081417, \"Cluster 2\"], [35.0, 112878.0, 0.3009135799974076, 13755.48230187328, \"Cluster 2\"], [38.0, 115146.0, 0.3144900731288347, 14798.868153501797, \"Cluster 2\"], [34.0, 111303.0, 0.34531257710928803, 14624.318634976555, \"Cluster 2\"], [33.0, 108345.0, 0.32541328975821004, 15646.32171735943, \"Cluster 2\"], [32.0, 110439.0, 0.30699015827427256, 13873.50756985278, \"Cluster 2\"], [34.0, 98752.0, 0.3720337099315751, 14975.384238944334, \"Cluster 2\"], [31.0, 116247.0, 0.2943151380482853, 16178.204715186297, \"Cluster 2\"], [27.0, 106758.0, 0.2662947092346973, 14942.560723173168, \"Cluster 2\"], [39.0, 99216.0, 0.21660614339457274, 15230.345105300736, \"Cluster 2\"], [38.0, 113659.0, 0.3334859873871594, 14364.693391419, \"Cluster 2\"], [84.0, 110582.0, 0.07904903227945975, 14937.995169685584, \"Cluster 2\"], [77.0, 128596.0, 0.04082407066250976, 14503.410786381415, \"Cluster 2\"], [34.0, 103428.0, 0.2474244093916156, 13791.035761571968, \"Cluster 2\"], [28.0, 109075.0, 0.36276196062401134, 14082.458238005996, \"Cluster 2\"], [36.0, 105567.0, 0.3126388486955741, 14355.31094653896, \"Cluster 2\"], [91.0, 118794.0, 0.0192120658984376, 14047.388986415735, \"Cluster 2\"], [34.0, 119877.0, 0.3054369951589357, 15634.788286084158, \"Cluster 2\"]], \"hovertemplate\": \"Cluster=%{customdata[4]}<br>Age=%{customdata[0]}<br>Income=%{customdata[1]}<br>SpendingScore=%{customdata[2]}<br>Savings=%{customdata[3]}<extra></extra>\", \"legendgroup\": \"Cluster 2\", \"marker\": {\"color\": \"#00cc96\"}, \"name\": \"Cluster 2\", \"notched\": true, \"offsetgroup\": \"Cluster 2\", \"showlegend\": false, \"type\": \"box\", \"x\": [\"Cluster 2\", \"Cluster 2\", \"Cluster 2\", \"Cluster 2\", \"Cluster 2\", \"Cluster 2\", \"Cluster 2\", \"Cluster 2\", \"Cluster 2\", \"Cluster 2\", \"Cluster 2\", \"Cluster 2\", \"Cluster 2\", \"Cluster 2\", \"Cluster 2\", \"Cluster 2\", \"Cluster 2\", \"Cluster 2\", \"Cluster 2\", \"Cluster 2\", \"Cluster 2\", \"Cluster 2\", \"Cluster 2\", \"Cluster 2\", \"Cluster 2\", \"Cluster 2\", \"Cluster 2\", \"Cluster 2\", \"Cluster 2\", \"Cluster 2\", \"Cluster 2\", \"Cluster 2\", \"Cluster 2\", \"Cluster 2\", \"Cluster 2\", \"Cluster 2\", \"Cluster 2\", \"Cluster 2\", \"Cluster 2\", \"Cluster 2\", \"Cluster 2\", \"Cluster 2\", \"Cluster 2\", \"Cluster 2\", \"Cluster 2\", \"Cluster 2\", \"Cluster 2\", \"Cluster 2\", \"Cluster 2\", \"Cluster 2\", \"Cluster 2\", \"Cluster 2\", \"Cluster 2\", \"Cluster 2\", \"Cluster 2\", \"Cluster 2\", \"Cluster 2\", \"Cluster 2\", \"Cluster 2\", \"Cluster 2\", \"Cluster 2\", \"Cluster 2\", \"Cluster 2\", \"Cluster 2\", \"Cluster 2\", \"Cluster 2\", \"Cluster 2\", \"Cluster 2\", \"Cluster 2\", \"Cluster 2\", \"Cluster 2\", \"Cluster 2\", \"Cluster 2\", \"Cluster 2\", \"Cluster 2\", \"Cluster 2\", \"Cluster 2\", \"Cluster 2\", \"Cluster 2\", \"Cluster 2\", \"Cluster 2\", \"Cluster 2\", \"Cluster 2\", \"Cluster 2\", \"Cluster 2\", \"Cluster 2\", \"Cluster 2\", \"Cluster 2\", \"Cluster 2\", \"Cluster 2\", \"Cluster 2\", \"Cluster 2\", \"Cluster 2\", \"Cluster 2\", \"Cluster 2\", \"Cluster 2\", \"Cluster 2\", \"Cluster 2\", \"Cluster 2\", \"Cluster 2\", \"Cluster 2\", \"Cluster 2\", \"Cluster 2\", \"Cluster 2\", \"Cluster 2\", \"Cluster 2\", \"Cluster 2\", \"Cluster 2\", \"Cluster 2\", \"Cluster 2\", \"Cluster 2\", \"Cluster 2\", \"Cluster 2\", \"Cluster 2\", \"Cluster 2\", \"Cluster 2\", \"Cluster 2\", \"Cluster 2\", \"Cluster 2\", \"Cluster 2\", \"Cluster 2\", \"Cluster 2\", \"Cluster 2\", \"Cluster 2\", \"Cluster 2\", \"Cluster 2\", \"Cluster 2\", \"Cluster 2\", \"Cluster 2\", \"Cluster 2\", \"Cluster 2\", \"Cluster 2\", \"Cluster 2\", \"Cluster 2\", \"Cluster 2\", \"Cluster 2\", \"Cluster 2\", \"Cluster 2\", \"Cluster 2\", \"Cluster 2\", \"Cluster 2\", \"Cluster 2\", \"Cluster 2\", \"Cluster 2\", \"Cluster 2\", \"Cluster 2\", \"Cluster 2\", \"Cluster 2\", \"Cluster 2\", \"Cluster 2\", \"Cluster 2\"], \"xaxis\": \"x2\", \"yaxis\": \"y2\"}, {\"alignmentgroup\": \"True\", \"bingroup\": \"x\", \"hovertemplate\": \"Cluster=%{x}<br>count=%{y}<extra></extra>\", \"legendgroup\": \"Cluster 3\", \"marker\": {\"color\": \"#ab63fa\", \"opacity\": 0.7}, \"name\": \"Cluster 3\", \"offsetgroup\": \"Cluster 3\", \"orientation\": \"v\", \"showlegend\": true, \"type\": \"histogram\", \"x\": [\"Cluster 3\", \"Cluster 3\", \"Cluster 3\", \"Cluster 3\", \"Cluster 3\", \"Cluster 3\", \"Cluster 3\", \"Cluster 3\", \"Cluster 3\", \"Cluster 3\", \"Cluster 3\", \"Cluster 3\", \"Cluster 3\", \"Cluster 3\", \"Cluster 3\", \"Cluster 3\", \"Cluster 3\", \"Cluster 3\", \"Cluster 3\", \"Cluster 3\", \"Cluster 3\", \"Cluster 3\", \"Cluster 3\", \"Cluster 3\", \"Cluster 3\", \"Cluster 3\", \"Cluster 3\", \"Cluster 3\", \"Cluster 3\", \"Cluster 3\", \"Cluster 3\", \"Cluster 3\", \"Cluster 3\", \"Cluster 3\", \"Cluster 3\", \"Cluster 3\", \"Cluster 3\", \"Cluster 3\", \"Cluster 3\", \"Cluster 3\", \"Cluster 3\", \"Cluster 3\", \"Cluster 3\", \"Cluster 3\", \"Cluster 3\", \"Cluster 3\", \"Cluster 3\", \"Cluster 3\", \"Cluster 3\", \"Cluster 3\"], \"xaxis\": \"x\", \"yaxis\": \"y\"}, {\"alignmentgroup\": \"True\", \"customdata\": [[27.0, 122671.0, 0.910107112831516, 4206.287238709509, \"Cluster 3\"], [23.0, 138443.0, 0.9226565539031124, 3297.058843994153, \"Cluster 3\"], [25.0, 138021.0, 0.944017175810026, 3005.577482475175, \"Cluster 3\"], [17.0, 134734.0, 0.8579216672301577, 0.0, \"Cluster 3\"], [24.0, 129087.0, 0.8271179432765905, 3290.829468618805, \"Cluster 3\"], [20.0, 129469.0, 0.9399954311014268, 5522.573424346325, \"Cluster 3\"], [23.0, 129937.0, 0.8727356634334804, 4102.065424707484, \"Cluster 3\"], [26.0, 123005.0, 0.9845261943505972, 4371.23473281147, \"Cluster 3\"], [23.0, 126500.0, 0.8650328592458483, 3270.150434407087, \"Cluster 3\"], [27.0, 121468.0, 0.9206489879585448, 5011.112062373318, \"Cluster 3\"], [23.0, 120226.0, 0.8819129663041946, 4698.294710949844, \"Cluster 3\"], [31.0, 122924.0, 0.89046022417733, 3071.944576152969, \"Cluster 3\"], [22.0, 134209.0, 0.8706980046008759, 5138.109568643242, \"Cluster 3\"], [24.0, 130974.0, 0.9118386021444842, 4420.0727101369375, \"Cluster 3\"], [29.0, 131578.0, 0.8470341025128371, 3535.5143522162816, \"Cluster 3\"], [22.0, 132948.0, 0.8898001728484242, 2839.7863574778585, \"Cluster 3\"], [28.0, 123153.0, 0.9842407862639496, 3697.5136453853297, \"Cluster 3\"], [26.0, 131827.0, 0.8807194909406801, 4352.699304837541, \"Cluster 3\"], [25.0, 128625.0, 0.8167389887954251, 4914.117127206949, \"Cluster 3\"], [24.0, 136644.0, 0.8716976842508705, 1617.2257000775644, \"Cluster 3\"], [24.0, 134389.0, 0.9388521378701832, 4573.60634580409, \"Cluster 3\"], [25.0, 130934.0, 0.9137660194970426, 3942.389134492165, \"Cluster 3\"], [20.0, 122581.0, 0.8940806156500202, 4444.4476842520535, \"Cluster 3\"], [30.0, 122788.0, 0.8728724057273831, 5706.149573297764, \"Cluster 3\"], [25.0, 130361.0, 0.9254385568124625, 4691.55213906238, \"Cluster 3\"], [28.0, 123229.0, 0.8733219541371664, 610.4462190811464, \"Cluster 3\"], [20.0, 129142.0, 0.8870519941988757, 5603.121027746489, \"Cluster 3\"], [24.0, 127352.0, 0.9054521594192038, 2961.716874324024, \"Cluster 3\"], [22.0, 120525.0, 1.0, 5495.165732288548, \"Cluster 3\"], [26.0, 126617.0, 0.8770521049168103, 2913.368146562765, \"Cluster 3\"], [17.0, 123828.0, 0.9420129076091708, 3798.8403998790254, \"Cluster 3\"], [26.0, 125662.0, 0.9268183658411524, 6089.47832250152, \"Cluster 3\"], [28.0, 127699.0, 0.8814245468734898, 5490.814955670689, \"Cluster 3\"], [18.0, 130813.0, 0.8908912472675831, 5256.434559627984, \"Cluster 3\"], [21.0, 123678.0, 0.8320252689431032, 2838.8158208359087, \"Cluster 3\"], [21.0, 129726.0, 0.9517923119702948, 4550.7995216878835, \"Cluster 3\"], [17.0, 134966.0, 0.9072421746334024, 4128.044795832438, \"Cluster 3\"], [27.0, 125008.0, 0.9596454072349518, 2963.6377080587795, \"Cluster 3\"], [25.0, 131009.0, 0.8640569016468125, 4792.426581212785, \"Cluster 3\"], [24.0, 120465.0, 0.9074853865005544, 4838.348350281593, \"Cluster 3\"], [28.0, 129019.0, 0.9308319590820414, 3016.8206434862623, \"Cluster 3\"], [26.0, 127320.0, 0.8250298045601994, 5495.642137901324, \"Cluster 3\"], [28.0, 117108.0, 0.857078493256913, 4749.879237491619, \"Cluster 3\"], [25.0, 120957.0, 0.8776734245644572, 5590.447216086322, \"Cluster 3\"], [24.0, 134384.0, 0.8747208244890404, 3731.3397614449186, \"Cluster 3\"], [17.0, 136255.0, 0.935876103673024, 4126.226651408871, \"Cluster 3\"], [29.0, 142000.0, 0.9400873084125808, 5349.821181717665, \"Cluster 3\"], [29.0, 122264.0, 0.8985788437238403, 2494.55627432471, \"Cluster 3\"], [28.0, 121216.0, 0.8569692823607705, 5349.065446955783, \"Cluster 3\"], [18.0, 123718.0, 0.8065528615489801, 4420.445820614172, \"Cluster 3\"]], \"hovertemplate\": \"Cluster=%{customdata[4]}<br>Age=%{customdata[0]}<br>Income=%{customdata[1]}<br>SpendingScore=%{customdata[2]}<br>Savings=%{customdata[3]}<extra></extra>\", \"legendgroup\": \"Cluster 3\", \"marker\": {\"color\": \"#ab63fa\"}, \"name\": \"Cluster 3\", \"notched\": true, \"offsetgroup\": \"Cluster 3\", \"showlegend\": false, \"type\": \"box\", \"x\": [\"Cluster 3\", \"Cluster 3\", \"Cluster 3\", \"Cluster 3\", \"Cluster 3\", \"Cluster 3\", \"Cluster 3\", \"Cluster 3\", \"Cluster 3\", \"Cluster 3\", \"Cluster 3\", \"Cluster 3\", \"Cluster 3\", \"Cluster 3\", \"Cluster 3\", \"Cluster 3\", \"Cluster 3\", \"Cluster 3\", \"Cluster 3\", \"Cluster 3\", \"Cluster 3\", \"Cluster 3\", \"Cluster 3\", \"Cluster 3\", \"Cluster 3\", \"Cluster 3\", \"Cluster 3\", \"Cluster 3\", \"Cluster 3\", \"Cluster 3\", \"Cluster 3\", \"Cluster 3\", \"Cluster 3\", \"Cluster 3\", \"Cluster 3\", \"Cluster 3\", \"Cluster 3\", \"Cluster 3\", \"Cluster 3\", \"Cluster 3\", \"Cluster 3\", \"Cluster 3\", \"Cluster 3\", \"Cluster 3\", \"Cluster 3\", \"Cluster 3\", \"Cluster 3\", \"Cluster 3\", \"Cluster 3\", \"Cluster 3\"], \"xaxis\": \"x2\", \"yaxis\": \"y2\"}],\n",
       "                        {\"barmode\": \"relative\", \"legend\": {\"title\": {\"text\": \"Cluster\"}, \"tracegroupgap\": 0}, \"margin\": {\"t\": 60}, \"template\": {\"data\": {\"bar\": [{\"error_x\": {\"color\": \"#2a3f5f\"}, \"error_y\": {\"color\": \"#2a3f5f\"}, \"marker\": {\"line\": {\"color\": \"#E5ECF6\", \"width\": 0.5}}, \"type\": \"bar\"}], \"barpolar\": [{\"marker\": {\"line\": {\"color\": \"#E5ECF6\", \"width\": 0.5}}, \"type\": \"barpolar\"}], \"carpet\": [{\"aaxis\": {\"endlinecolor\": \"#2a3f5f\", \"gridcolor\": \"white\", \"linecolor\": \"white\", \"minorgridcolor\": \"white\", \"startlinecolor\": \"#2a3f5f\"}, \"baxis\": {\"endlinecolor\": \"#2a3f5f\", \"gridcolor\": \"white\", \"linecolor\": \"white\", \"minorgridcolor\": \"white\", \"startlinecolor\": \"#2a3f5f\"}, \"type\": \"carpet\"}], \"choropleth\": [{\"colorbar\": {\"outlinewidth\": 0, \"ticks\": \"\"}, \"type\": \"choropleth\"}], \"contour\": [{\"colorbar\": {\"outlinewidth\": 0, \"ticks\": \"\"}, \"colorscale\": [[0.0, \"#0d0887\"], [0.1111111111111111, \"#46039f\"], [0.2222222222222222, \"#7201a8\"], [0.3333333333333333, \"#9c179e\"], [0.4444444444444444, \"#bd3786\"], [0.5555555555555556, \"#d8576b\"], [0.6666666666666666, \"#ed7953\"], [0.7777777777777778, \"#fb9f3a\"], [0.8888888888888888, \"#fdca26\"], [1.0, \"#f0f921\"]], \"type\": \"contour\"}], \"contourcarpet\": [{\"colorbar\": {\"outlinewidth\": 0, \"ticks\": \"\"}, \"type\": \"contourcarpet\"}], \"heatmap\": [{\"colorbar\": {\"outlinewidth\": 0, \"ticks\": \"\"}, \"colorscale\": [[0.0, \"#0d0887\"], [0.1111111111111111, \"#46039f\"], [0.2222222222222222, \"#7201a8\"], [0.3333333333333333, \"#9c179e\"], [0.4444444444444444, \"#bd3786\"], [0.5555555555555556, \"#d8576b\"], [0.6666666666666666, \"#ed7953\"], [0.7777777777777778, \"#fb9f3a\"], [0.8888888888888888, \"#fdca26\"], [1.0, \"#f0f921\"]], \"type\": \"heatmap\"}], \"heatmapgl\": [{\"colorbar\": {\"outlinewidth\": 0, \"ticks\": \"\"}, \"colorscale\": [[0.0, \"#0d0887\"], [0.1111111111111111, \"#46039f\"], [0.2222222222222222, \"#7201a8\"], [0.3333333333333333, \"#9c179e\"], [0.4444444444444444, \"#bd3786\"], [0.5555555555555556, \"#d8576b\"], [0.6666666666666666, \"#ed7953\"], [0.7777777777777778, \"#fb9f3a\"], [0.8888888888888888, \"#fdca26\"], [1.0, \"#f0f921\"]], \"type\": \"heatmapgl\"}], \"histogram\": [{\"marker\": {\"colorbar\": {\"outlinewidth\": 0, \"ticks\": \"\"}}, \"type\": \"histogram\"}], \"histogram2d\": [{\"colorbar\": {\"outlinewidth\": 0, \"ticks\": \"\"}, \"colorscale\": [[0.0, \"#0d0887\"], [0.1111111111111111, \"#46039f\"], [0.2222222222222222, \"#7201a8\"], [0.3333333333333333, \"#9c179e\"], [0.4444444444444444, \"#bd3786\"], [0.5555555555555556, \"#d8576b\"], [0.6666666666666666, \"#ed7953\"], [0.7777777777777778, \"#fb9f3a\"], [0.8888888888888888, \"#fdca26\"], [1.0, \"#f0f921\"]], \"type\": \"histogram2d\"}], \"histogram2dcontour\": [{\"colorbar\": {\"outlinewidth\": 0, \"ticks\": \"\"}, \"colorscale\": [[0.0, \"#0d0887\"], [0.1111111111111111, \"#46039f\"], [0.2222222222222222, \"#7201a8\"], [0.3333333333333333, \"#9c179e\"], [0.4444444444444444, \"#bd3786\"], [0.5555555555555556, \"#d8576b\"], [0.6666666666666666, \"#ed7953\"], [0.7777777777777778, \"#fb9f3a\"], [0.8888888888888888, \"#fdca26\"], [1.0, \"#f0f921\"]], \"type\": \"histogram2dcontour\"}], \"mesh3d\": [{\"colorbar\": {\"outlinewidth\": 0, \"ticks\": \"\"}, \"type\": \"mesh3d\"}], \"parcoords\": [{\"line\": {\"colorbar\": {\"outlinewidth\": 0, \"ticks\": \"\"}}, \"type\": \"parcoords\"}], \"pie\": [{\"automargin\": true, \"type\": \"pie\"}], \"scatter\": [{\"marker\": {\"colorbar\": {\"outlinewidth\": 0, \"ticks\": \"\"}}, \"type\": \"scatter\"}], \"scatter3d\": [{\"line\": {\"colorbar\": {\"outlinewidth\": 0, \"ticks\": \"\"}}, \"marker\": {\"colorbar\": {\"outlinewidth\": 0, \"ticks\": \"\"}}, \"type\": \"scatter3d\"}], \"scattercarpet\": [{\"marker\": {\"colorbar\": {\"outlinewidth\": 0, \"ticks\": \"\"}}, \"type\": \"scattercarpet\"}], \"scattergeo\": [{\"marker\": {\"colorbar\": {\"outlinewidth\": 0, \"ticks\": \"\"}}, \"type\": \"scattergeo\"}], \"scattergl\": [{\"marker\": {\"colorbar\": {\"outlinewidth\": 0, \"ticks\": \"\"}}, \"type\": \"scattergl\"}], \"scattermapbox\": [{\"marker\": {\"colorbar\": {\"outlinewidth\": 0, \"ticks\": \"\"}}, \"type\": \"scattermapbox\"}], \"scatterpolar\": [{\"marker\": {\"colorbar\": {\"outlinewidth\": 0, \"ticks\": \"\"}}, \"type\": \"scatterpolar\"}], \"scatterpolargl\": [{\"marker\": {\"colorbar\": {\"outlinewidth\": 0, \"ticks\": \"\"}}, \"type\": \"scatterpolargl\"}], \"scatterternary\": [{\"marker\": {\"colorbar\": {\"outlinewidth\": 0, \"ticks\": \"\"}}, \"type\": \"scatterternary\"}], \"surface\": [{\"colorbar\": {\"outlinewidth\": 0, \"ticks\": \"\"}, \"colorscale\": [[0.0, \"#0d0887\"], [0.1111111111111111, \"#46039f\"], [0.2222222222222222, \"#7201a8\"], [0.3333333333333333, \"#9c179e\"], [0.4444444444444444, \"#bd3786\"], [0.5555555555555556, \"#d8576b\"], [0.6666666666666666, \"#ed7953\"], [0.7777777777777778, \"#fb9f3a\"], [0.8888888888888888, \"#fdca26\"], [1.0, \"#f0f921\"]], \"type\": \"surface\"}], \"table\": [{\"cells\": {\"fill\": {\"color\": \"#EBF0F8\"}, \"line\": {\"color\": \"white\"}}, \"header\": {\"fill\": {\"color\": \"#C8D4E3\"}, \"line\": {\"color\": \"white\"}}, \"type\": \"table\"}]}, \"layout\": {\"annotationdefaults\": {\"arrowcolor\": \"#2a3f5f\", \"arrowhead\": 0, \"arrowwidth\": 1}, \"coloraxis\": {\"colorbar\": {\"outlinewidth\": 0, \"ticks\": \"\"}}, \"colorscale\": {\"diverging\": [[0, \"#8e0152\"], [0.1, \"#c51b7d\"], [0.2, \"#de77ae\"], [0.3, \"#f1b6da\"], [0.4, \"#fde0ef\"], [0.5, \"#f7f7f7\"], [0.6, \"#e6f5d0\"], [0.7, \"#b8e186\"], [0.8, \"#7fbc41\"], [0.9, \"#4d9221\"], [1, \"#276419\"]], \"sequential\": [[0.0, \"#0d0887\"], [0.1111111111111111, \"#46039f\"], [0.2222222222222222, \"#7201a8\"], [0.3333333333333333, \"#9c179e\"], [0.4444444444444444, \"#bd3786\"], [0.5555555555555556, \"#d8576b\"], [0.6666666666666666, \"#ed7953\"], [0.7777777777777778, \"#fb9f3a\"], [0.8888888888888888, \"#fdca26\"], [1.0, \"#f0f921\"]], \"sequentialminus\": [[0.0, \"#0d0887\"], [0.1111111111111111, \"#46039f\"], [0.2222222222222222, \"#7201a8\"], [0.3333333333333333, \"#9c179e\"], [0.4444444444444444, \"#bd3786\"], [0.5555555555555556, \"#d8576b\"], [0.6666666666666666, \"#ed7953\"], [0.7777777777777778, \"#fb9f3a\"], [0.8888888888888888, \"#fdca26\"], [1.0, \"#f0f921\"]]}, \"colorway\": [\"#636efa\", \"#EF553B\", \"#00cc96\", \"#ab63fa\", \"#FFA15A\", \"#19d3f3\", \"#FF6692\", \"#B6E880\", \"#FF97FF\", \"#FECB52\"], \"font\": {\"color\": \"#2a3f5f\"}, \"geo\": {\"bgcolor\": \"white\", \"lakecolor\": \"white\", \"landcolor\": \"#E5ECF6\", \"showlakes\": true, \"showland\": true, \"subunitcolor\": \"white\"}, \"hoverlabel\": {\"align\": \"left\"}, \"hovermode\": \"closest\", \"mapbox\": {\"style\": \"light\"}, \"paper_bgcolor\": \"white\", \"plot_bgcolor\": \"#E5ECF6\", \"polar\": {\"angularaxis\": {\"gridcolor\": \"white\", \"linecolor\": \"white\", \"ticks\": \"\"}, \"bgcolor\": \"#E5ECF6\", \"radialaxis\": {\"gridcolor\": \"white\", \"linecolor\": \"white\", \"ticks\": \"\"}}, \"scene\": {\"xaxis\": {\"backgroundcolor\": \"#E5ECF6\", \"gridcolor\": \"white\", \"gridwidth\": 2, \"linecolor\": \"white\", \"showbackground\": true, \"ticks\": \"\", \"zerolinecolor\": \"white\"}, \"yaxis\": {\"backgroundcolor\": \"#E5ECF6\", \"gridcolor\": \"white\", \"gridwidth\": 2, \"linecolor\": \"white\", \"showbackground\": true, \"ticks\": \"\", \"zerolinecolor\": \"white\"}, \"zaxis\": {\"backgroundcolor\": \"#E5ECF6\", \"gridcolor\": \"white\", \"gridwidth\": 2, \"linecolor\": \"white\", \"showbackground\": true, \"ticks\": \"\", \"zerolinecolor\": \"white\"}}, \"shapedefaults\": {\"line\": {\"color\": \"#2a3f5f\"}}, \"ternary\": {\"aaxis\": {\"gridcolor\": \"white\", \"linecolor\": \"white\", \"ticks\": \"\"}, \"baxis\": {\"gridcolor\": \"white\", \"linecolor\": \"white\", \"ticks\": \"\"}, \"bgcolor\": \"#E5ECF6\", \"caxis\": {\"gridcolor\": \"white\", \"linecolor\": \"white\", \"ticks\": \"\"}}, \"title\": {\"x\": 0.05}, \"xaxis\": {\"automargin\": true, \"gridcolor\": \"white\", \"linecolor\": \"white\", \"ticks\": \"\", \"title\": {\"standoff\": 15}, \"zerolinecolor\": \"white\", \"zerolinewidth\": 2}, \"yaxis\": {\"automargin\": true, \"gridcolor\": \"white\", \"linecolor\": \"white\", \"ticks\": \"\", \"title\": {\"standoff\": 15}, \"zerolinecolor\": \"white\", \"zerolinewidth\": 2}}}, \"xaxis\": {\"anchor\": \"y\", \"categoryarray\": [\"Cluster 0\", \"Cluster 1\", \"Cluster 2\", \"Cluster 3\"], \"categoryorder\": \"array\", \"domain\": [0.0, 1.0], \"title\": {\"text\": \"Cluster\"}}, \"xaxis2\": {\"anchor\": \"y2\", \"domain\": [0.0, 1.0], \"matches\": \"x\", \"showgrid\": true, \"showticklabels\": false}, \"yaxis\": {\"anchor\": \"x\", \"domain\": [0.0, 0.7326], \"title\": {\"text\": \"count\"}}, \"yaxis2\": {\"anchor\": \"x2\", \"domain\": [0.7426, 1.0], \"matches\": \"y2\", \"showgrid\": false, \"showline\": false, \"showticklabels\": false, \"ticks\": \"\"}},\n",
       "                        {\"responsive\": true}\n",
       "                    ).then(function(){\n",
       "                            \n",
       "var gd = document.getElementById('f9e90a51-b8c9-44ba-bbc8-387567637ee0');\n",
       "var x = new MutationObserver(function (mutations, observer) {{\n",
       "        var display = window.getComputedStyle(gd).display;\n",
       "        if (!display || display === 'none') {{\n",
       "            console.log([gd, 'removed!']);\n",
       "            Plotly.purge(gd);\n",
       "            observer.disconnect();\n",
       "        }}\n",
       "}});\n",
       "\n",
       "// Listen for the removal of the full notebook cells\n",
       "var notebookContainer = gd.closest('#notebook-container');\n",
       "if (notebookContainer) {{\n",
       "    x.observe(notebookContainer, {childList: true});\n",
       "}}\n",
       "\n",
       "// Listen for the clearing of the current output cell\n",
       "var outputEl = gd.closest('.output');\n",
       "if (outputEl) {{\n",
       "    x.observe(outputEl, {childList: true});\n",
       "}}\n",
       "\n",
       "                        })\n",
       "                };\n",
       "                });\n",
       "            </script>\n",
       "        </div>"
      ]
     },
     "metadata": {},
     "output_type": "display_data"
    },
    {
     "name": "stderr",
     "output_type": "stream",
     "text": [
      "INFO:logs:Visual Rendered Successfully\n",
      "INFO:logs:plot_model() succesfully completed......................................\n"
     ]
    }
   ],
   "source": [
    "plot_model(model = kmeans, plot = 'cluster')\n",
    "plot_model(model = kmeans, plot = 'elbow')\n",
    "plot_model(model = kmeans, plot = 'silhouette')\n",
    "plot_model(kmeans, plot = 'distribution') #to see size of clusters"
   ]
  },
  {
   "cell_type": "code",
   "execution_count": 61,
   "metadata": {},
   "outputs": [
    {
     "data": {
      "text/html": [
       "<div>\n",
       "<style scoped>\n",
       "    .dataframe tbody tr th:only-of-type {\n",
       "        vertical-align: middle;\n",
       "    }\n",
       "\n",
       "    .dataframe tbody tr th {\n",
       "        vertical-align: top;\n",
       "    }\n",
       "\n",
       "    .dataframe thead th {\n",
       "        text-align: right;\n",
       "    }\n",
       "</style>\n",
       "<table border=\"1\" class=\"dataframe\">\n",
       "  <thead>\n",
       "    <tr style=\"text-align: right;\">\n",
       "      <th></th>\n",
       "      <th>Metric</th>\n",
       "    </tr>\n",
       "  </thead>\n",
       "  <tbody>\n",
       "    <tr>\n",
       "      <th>Silhouette</th>\n",
       "      <td>0.8015</td>\n",
       "    </tr>\n",
       "    <tr>\n",
       "      <th>Calinski-Harabasz</th>\n",
       "      <td>3284.0068</td>\n",
       "    </tr>\n",
       "    <tr>\n",
       "      <th>Davies-Bouldin</th>\n",
       "      <td>0.2766</td>\n",
       "    </tr>\n",
       "  </tbody>\n",
       "</table>\n",
       "</div>"
      ],
      "text/plain": [
       "                      Metric\n",
       "Silhouette            0.8015\n",
       "Calinski-Harabasz  3284.0068\n",
       "Davies-Bouldin        0.2766"
      ]
     },
     "metadata": {},
     "output_type": "display_data"
    },
    {
     "name": "stderr",
     "output_type": "stream",
     "text": [
      "INFO:logs:KMeans(algorithm='auto', copy_x=True, init='k-means++', max_iter=300,\n",
      "       n_clusters=5, n_init=10, n_jobs=-1, precompute_distances='deprecated',\n",
      "       random_state=123, tol=0.0001, verbose=0)\n",
      "INFO:logs:create_models() succesfully completed......................................\n"
     ]
    },
    {
     "data": {
      "text/plain": [
       "<Figure size 432x288 with 0 Axes>"
      ]
     },
     "metadata": {},
     "output_type": "display_data"
    }
   ],
   "source": [
    "#Using k = 5 as per the k-elbow visualizer \n",
    "\n",
    "kmeans = create_model('kmeans', num_clusters = 5)"
   ]
  },
  {
   "cell_type": "code",
   "execution_count": 62,
   "metadata": {},
   "outputs": [
    {
     "name": "stderr",
     "output_type": "stream",
     "text": [
      "INFO:logs:(505, 5)\n",
      "INFO:logs:assign_model() succesfully completed......................................\n"
     ]
    },
    {
     "data": {
      "text/html": [
       "<div>\n",
       "<style scoped>\n",
       "    .dataframe tbody tr th:only-of-type {\n",
       "        vertical-align: middle;\n",
       "    }\n",
       "\n",
       "    .dataframe tbody tr th {\n",
       "        vertical-align: top;\n",
       "    }\n",
       "\n",
       "    .dataframe thead th {\n",
       "        text-align: right;\n",
       "    }\n",
       "</style>\n",
       "<table border=\"1\" class=\"dataframe\">\n",
       "  <thead>\n",
       "    <tr style=\"text-align: right;\">\n",
       "      <th></th>\n",
       "      <th>Age</th>\n",
       "      <th>Income</th>\n",
       "      <th>SpendingScore</th>\n",
       "      <th>Savings</th>\n",
       "      <th>Cluster</th>\n",
       "    </tr>\n",
       "  </thead>\n",
       "  <tbody>\n",
       "    <tr>\n",
       "      <th>0</th>\n",
       "      <td>58</td>\n",
       "      <td>77769</td>\n",
       "      <td>0.791329</td>\n",
       "      <td>6559.829923</td>\n",
       "      <td>Cluster 1</td>\n",
       "    </tr>\n",
       "    <tr>\n",
       "      <th>1</th>\n",
       "      <td>59</td>\n",
       "      <td>81799</td>\n",
       "      <td>0.791082</td>\n",
       "      <td>5417.661426</td>\n",
       "      <td>Cluster 1</td>\n",
       "    </tr>\n",
       "    <tr>\n",
       "      <th>2</th>\n",
       "      <td>62</td>\n",
       "      <td>74751</td>\n",
       "      <td>0.702657</td>\n",
       "      <td>9258.992965</td>\n",
       "      <td>Cluster 1</td>\n",
       "    </tr>\n",
       "    <tr>\n",
       "      <th>3</th>\n",
       "      <td>59</td>\n",
       "      <td>74373</td>\n",
       "      <td>0.765680</td>\n",
       "      <td>7346.334504</td>\n",
       "      <td>Cluster 1</td>\n",
       "    </tr>\n",
       "    <tr>\n",
       "      <th>4</th>\n",
       "      <td>87</td>\n",
       "      <td>17760</td>\n",
       "      <td>0.348778</td>\n",
       "      <td>16869.507130</td>\n",
       "      <td>Cluster 0</td>\n",
       "    </tr>\n",
       "  </tbody>\n",
       "</table>\n",
       "</div>"
      ],
      "text/plain": [
       "   Age  Income  SpendingScore       Savings    Cluster\n",
       "0   58   77769       0.791329   6559.829923  Cluster 1\n",
       "1   59   81799       0.791082   5417.661426  Cluster 1\n",
       "2   62   74751       0.702657   9258.992965  Cluster 1\n",
       "3   59   74373       0.765680   7346.334504  Cluster 1\n",
       "4   87   17760       0.348778  16869.507130  Cluster 0"
      ]
     },
     "execution_count": 62,
     "metadata": {},
     "output_type": "execute_result"
    },
    {
     "data": {
      "text/plain": [
       "Cluster 1    157\n",
       "Cluster 0    147\n",
       "Cluster 2    126\n",
       "Cluster 3     50\n",
       "Cluster 4     25\n",
       "Name: Cluster, dtype: int64"
      ]
     },
     "execution_count": 62,
     "metadata": {},
     "output_type": "execute_result"
    }
   ],
   "source": [
    "kmeans_results = assign_model(kmeans)\n",
    "kmeans_results.head()\n",
    "kmeans_results['Cluster'].value_counts()"
   ]
  },
  {
   "cell_type": "code",
   "execution_count": 63,
   "metadata": {},
   "outputs": [],
   "source": [
    "# Answer to Question [1], Part [c]"
   ]
  },
  {
   "cell_type": "code",
   "execution_count": 64,
   "metadata": {},
   "outputs": [
    {
     "data": {
      "text/html": [
       "<div>\n",
       "<style scoped>\n",
       "    .dataframe tbody tr th:only-of-type {\n",
       "        vertical-align: middle;\n",
       "    }\n",
       "\n",
       "    .dataframe tbody tr th {\n",
       "        vertical-align: top;\n",
       "    }\n",
       "\n",
       "    .dataframe thead th {\n",
       "        text-align: right;\n",
       "    }\n",
       "</style>\n",
       "<table border=\"1\" class=\"dataframe\">\n",
       "  <thead>\n",
       "    <tr style=\"text-align: right;\">\n",
       "      <th></th>\n",
       "      <th>Cluster</th>\n",
       "      <th>Cluster 0</th>\n",
       "      <th>Cluster 1</th>\n",
       "      <th>Cluster 2</th>\n",
       "      <th>Cluster 3</th>\n",
       "      <th>Cluster 4</th>\n",
       "    </tr>\n",
       "  </thead>\n",
       "  <tbody>\n",
       "    <tr>\n",
       "      <th rowspan=\"8\" valign=\"top\">Age</th>\n",
       "      <th>count</th>\n",
       "      <td>147.000000</td>\n",
       "      <td>157.000000</td>\n",
       "      <td>126.000000</td>\n",
       "      <td>50.000000</td>\n",
       "      <td>25.000000</td>\n",
       "    </tr>\n",
       "    <tr>\n",
       "      <th>mean</th>\n",
       "      <td>87.775510</td>\n",
       "      <td>59.955414</td>\n",
       "      <td>32.777778</td>\n",
       "      <td>24.180000</td>\n",
       "      <td>86.000000</td>\n",
       "    </tr>\n",
       "    <tr>\n",
       "      <th>std</th>\n",
       "      <td>3.508885</td>\n",
       "      <td>3.376662</td>\n",
       "      <td>3.792390</td>\n",
       "      <td>3.662775</td>\n",
       "      <td>3.662877</td>\n",
       "    </tr>\n",
       "    <tr>\n",
       "      <th>min</th>\n",
       "      <td>79.000000</td>\n",
       "      <td>51.000000</td>\n",
       "      <td>22.000000</td>\n",
       "      <td>17.000000</td>\n",
       "      <td>77.000000</td>\n",
       "    </tr>\n",
       "    <tr>\n",
       "      <th>25%</th>\n",
       "      <td>85.000000</td>\n",
       "      <td>58.000000</td>\n",
       "      <td>30.000000</td>\n",
       "      <td>22.000000</td>\n",
       "      <td>84.000000</td>\n",
       "    </tr>\n",
       "    <tr>\n",
       "      <th>50%</th>\n",
       "      <td>88.000000</td>\n",
       "      <td>59.000000</td>\n",
       "      <td>33.000000</td>\n",
       "      <td>24.500000</td>\n",
       "      <td>86.000000</td>\n",
       "    </tr>\n",
       "    <tr>\n",
       "      <th>75%</th>\n",
       "      <td>91.000000</td>\n",
       "      <td>62.000000</td>\n",
       "      <td>35.000000</td>\n",
       "      <td>27.000000</td>\n",
       "      <td>88.000000</td>\n",
       "    </tr>\n",
       "    <tr>\n",
       "      <th>max</th>\n",
       "      <td>97.000000</td>\n",
       "      <td>68.000000</td>\n",
       "      <td>44.000000</td>\n",
       "      <td>31.000000</td>\n",
       "      <td>93.000000</td>\n",
       "    </tr>\n",
       "    <tr>\n",
       "      <th rowspan=\"8\" valign=\"top\">Income</th>\n",
       "      <th>count</th>\n",
       "      <td>147.000000</td>\n",
       "      <td>157.000000</td>\n",
       "      <td>126.000000</td>\n",
       "      <td>50.000000</td>\n",
       "      <td>25.000000</td>\n",
       "    </tr>\n",
       "    <tr>\n",
       "      <th>mean</th>\n",
       "      <td>27866.102041</td>\n",
       "      <td>72448.063694</td>\n",
       "      <td>105265.809524</td>\n",
       "      <td>128029.120000</td>\n",
       "      <td>119944.040000</td>\n",
       "    </tr>\n",
       "    <tr>\n",
       "      <th>std</th>\n",
       "      <td>6448.805481</td>\n",
       "      <td>6240.260008</td>\n",
       "      <td>6080.621753</td>\n",
       "      <td>5688.904656</td>\n",
       "      <td>4941.052254</td>\n",
       "    </tr>\n",
       "    <tr>\n",
       "      <th>min</th>\n",
       "      <td>12000.000000</td>\n",
       "      <td>56321.000000</td>\n",
       "      <td>89598.000000</td>\n",
       "      <td>117108.000000</td>\n",
       "      <td>110582.000000</td>\n",
       "    </tr>\n",
       "    <tr>\n",
       "      <th>25%</th>\n",
       "      <td>23361.000000</td>\n",
       "      <td>68463.000000</td>\n",
       "      <td>100760.250000</td>\n",
       "      <td>123042.000000</td>\n",
       "      <td>117347.000000</td>\n",
       "    </tr>\n",
       "    <tr>\n",
       "      <th>50%</th>\n",
       "      <td>27771.000000</td>\n",
       "      <td>72027.000000</td>\n",
       "      <td>106002.500000</td>\n",
       "      <td>128162.000000</td>\n",
       "      <td>119429.000000</td>\n",
       "    </tr>\n",
       "    <tr>\n",
       "      <th>75%</th>\n",
       "      <td>32601.000000</td>\n",
       "      <td>76594.000000</td>\n",
       "      <td>108858.750000</td>\n",
       "      <td>131435.750000</td>\n",
       "      <td>123651.000000</td>\n",
       "    </tr>\n",
       "    <tr>\n",
       "      <th>max</th>\n",
       "      <td>46977.000000</td>\n",
       "      <td>90422.000000</td>\n",
       "      <td>119877.000000</td>\n",
       "      <td>142000.000000</td>\n",
       "      <td>128596.000000</td>\n",
       "    </tr>\n",
       "    <tr>\n",
       "      <th rowspan=\"8\" valign=\"top\">SpendingScore</th>\n",
       "      <th>count</th>\n",
       "      <td>147.000000</td>\n",
       "      <td>157.000000</td>\n",
       "      <td>126.000000</td>\n",
       "      <td>50.000000</td>\n",
       "      <td>25.000000</td>\n",
       "    </tr>\n",
       "    <tr>\n",
       "      <th>mean</th>\n",
       "      <td>0.328800</td>\n",
       "      <td>0.771518</td>\n",
       "      <td>0.309926</td>\n",
       "      <td>0.896892</td>\n",
       "      <td>0.068378</td>\n",
       "    </tr>\n",
       "    <tr>\n",
       "      <th>std</th>\n",
       "      <td>0.045224</td>\n",
       "      <td>0.046058</td>\n",
       "      <td>0.045513</td>\n",
       "      <td>0.043466</td>\n",
       "      <td>0.039744</td>\n",
       "    </tr>\n",
       "    <tr>\n",
       "      <th>min</th>\n",
       "      <td>0.203140</td>\n",
       "      <td>0.657314</td>\n",
       "      <td>0.174120</td>\n",
       "      <td>0.806553</td>\n",
       "      <td>0.000000</td>\n",
       "    </tr>\n",
       "    <tr>\n",
       "      <th>25%</th>\n",
       "      <td>0.301502</td>\n",
       "      <td>0.740367</td>\n",
       "      <td>0.281237</td>\n",
       "      <td>0.871957</td>\n",
       "      <td>0.036795</td>\n",
       "    </tr>\n",
       "    <tr>\n",
       "      <th>50%</th>\n",
       "      <td>0.324719</td>\n",
       "      <td>0.766720</td>\n",
       "      <td>0.309479</td>\n",
       "      <td>0.890676</td>\n",
       "      <td>0.063273</td>\n",
       "    </tr>\n",
       "    <tr>\n",
       "      <th>75%</th>\n",
       "      <td>0.357267</td>\n",
       "      <td>0.800598</td>\n",
       "      <td>0.341096</td>\n",
       "      <td>0.926473</td>\n",
       "      <td>0.082723</td>\n",
       "    </tr>\n",
       "    <tr>\n",
       "      <th>max</th>\n",
       "      <td>0.473550</td>\n",
       "      <td>0.910417</td>\n",
       "      <td>0.411112</td>\n",
       "      <td>1.000000</td>\n",
       "      <td>0.155694</td>\n",
       "    </tr>\n",
       "    <tr>\n",
       "      <th rowspan=\"8\" valign=\"top\">Savings</th>\n",
       "      <th>count</th>\n",
       "      <td>147.000000</td>\n",
       "      <td>157.000000</td>\n",
       "      <td>126.000000</td>\n",
       "      <td>50.000000</td>\n",
       "      <td>25.000000</td>\n",
       "    </tr>\n",
       "    <tr>\n",
       "      <th>mean</th>\n",
       "      <td>16659.261445</td>\n",
       "      <td>6889.972190</td>\n",
       "      <td>14962.778066</td>\n",
       "      <td>4087.520309</td>\n",
       "      <td>14808.683793</td>\n",
       "    </tr>\n",
       "    <tr>\n",
       "      <th>std</th>\n",
       "      <td>1183.850178</td>\n",
       "      <td>1052.276354</td>\n",
       "      <td>1061.734017</td>\n",
       "      <td>1277.754801</td>\n",
       "      <td>1159.339639</td>\n",
       "    </tr>\n",
       "    <tr>\n",
       "      <th>min</th>\n",
       "      <td>13470.970605</td>\n",
       "      <td>4077.658657</td>\n",
       "      <td>12207.526078</td>\n",
       "      <td>0.000000</td>\n",
       "      <td>12554.692742</td>\n",
       "    </tr>\n",
       "    <tr>\n",
       "      <th>25%</th>\n",
       "      <td>15957.282919</td>\n",
       "      <td>6225.376082</td>\n",
       "      <td>14223.787562</td>\n",
       "      <td>3275.320193</td>\n",
       "      <td>14047.388986</td>\n",
       "    </tr>\n",
       "    <tr>\n",
       "      <th>50%</th>\n",
       "      <td>16711.067980</td>\n",
       "      <td>6845.056822</td>\n",
       "      <td>14976.943192</td>\n",
       "      <td>4361.967019</td>\n",
       "      <td>14773.407206</td>\n",
       "    </tr>\n",
       "    <tr>\n",
       "      <th>75%</th>\n",
       "      <td>17433.126684</td>\n",
       "      <td>7497.231607</td>\n",
       "      <td>15682.288845</td>\n",
       "      <td>4986.863329</td>\n",
       "      <td>15391.952192</td>\n",
       "    </tr>\n",
       "    <tr>\n",
       "      <th>max</th>\n",
       "      <td>20000.000000</td>\n",
       "      <td>10547.775368</td>\n",
       "      <td>17968.553929</td>\n",
       "      <td>6089.478323</td>\n",
       "      <td>17833.093470</td>\n",
       "    </tr>\n",
       "  </tbody>\n",
       "</table>\n",
       "</div>"
      ],
      "text/plain": [
       "Cluster                 Cluster 0     Cluster 1      Cluster 2      Cluster 3  \\\n",
       "Age           count    147.000000    157.000000     126.000000      50.000000   \n",
       "              mean      87.775510     59.955414      32.777778      24.180000   \n",
       "              std        3.508885      3.376662       3.792390       3.662775   \n",
       "              min       79.000000     51.000000      22.000000      17.000000   \n",
       "              25%       85.000000     58.000000      30.000000      22.000000   \n",
       "              50%       88.000000     59.000000      33.000000      24.500000   \n",
       "              75%       91.000000     62.000000      35.000000      27.000000   \n",
       "              max       97.000000     68.000000      44.000000      31.000000   \n",
       "Income        count    147.000000    157.000000     126.000000      50.000000   \n",
       "              mean   27866.102041  72448.063694  105265.809524  128029.120000   \n",
       "              std     6448.805481   6240.260008    6080.621753    5688.904656   \n",
       "              min    12000.000000  56321.000000   89598.000000  117108.000000   \n",
       "              25%    23361.000000  68463.000000  100760.250000  123042.000000   \n",
       "              50%    27771.000000  72027.000000  106002.500000  128162.000000   \n",
       "              75%    32601.000000  76594.000000  108858.750000  131435.750000   \n",
       "              max    46977.000000  90422.000000  119877.000000  142000.000000   \n",
       "SpendingScore count    147.000000    157.000000     126.000000      50.000000   \n",
       "              mean       0.328800      0.771518       0.309926       0.896892   \n",
       "              std        0.045224      0.046058       0.045513       0.043466   \n",
       "              min        0.203140      0.657314       0.174120       0.806553   \n",
       "              25%        0.301502      0.740367       0.281237       0.871957   \n",
       "              50%        0.324719      0.766720       0.309479       0.890676   \n",
       "              75%        0.357267      0.800598       0.341096       0.926473   \n",
       "              max        0.473550      0.910417       0.411112       1.000000   \n",
       "Savings       count    147.000000    157.000000     126.000000      50.000000   \n",
       "              mean   16659.261445   6889.972190   14962.778066    4087.520309   \n",
       "              std     1183.850178   1052.276354    1061.734017    1277.754801   \n",
       "              min    13470.970605   4077.658657   12207.526078       0.000000   \n",
       "              25%    15957.282919   6225.376082   14223.787562    3275.320193   \n",
       "              50%    16711.067980   6845.056822   14976.943192    4361.967019   \n",
       "              75%    17433.126684   7497.231607   15682.288845    4986.863329   \n",
       "              max    20000.000000  10547.775368   17968.553929    6089.478323   \n",
       "\n",
       "Cluster                  Cluster 4  \n",
       "Age           count      25.000000  \n",
       "              mean       86.000000  \n",
       "              std         3.662877  \n",
       "              min        77.000000  \n",
       "              25%        84.000000  \n",
       "              50%        86.000000  \n",
       "              75%        88.000000  \n",
       "              max        93.000000  \n",
       "Income        count      25.000000  \n",
       "              mean   119944.040000  \n",
       "              std      4941.052254  \n",
       "              min    110582.000000  \n",
       "              25%    117347.000000  \n",
       "              50%    119429.000000  \n",
       "              75%    123651.000000  \n",
       "              max    128596.000000  \n",
       "SpendingScore count      25.000000  \n",
       "              mean        0.068378  \n",
       "              std         0.039744  \n",
       "              min         0.000000  \n",
       "              25%         0.036795  \n",
       "              50%         0.063273  \n",
       "              75%         0.082723  \n",
       "              max         0.155694  \n",
       "Savings       count      25.000000  \n",
       "              mean    14808.683793  \n",
       "              std      1159.339639  \n",
       "              min     12554.692742  \n",
       "              25%     14047.388986  \n",
       "              50%     14773.407206  \n",
       "              75%     15391.952192  \n",
       "              max     17833.093470  "
      ]
     },
     "execution_count": 64,
     "metadata": {},
     "output_type": "execute_result"
    }
   ],
   "source": [
    "kmeans_results.groupby('Cluster').describe().transpose()"
   ]
  },
  {
   "cell_type": "code",
   "execution_count": 66,
   "metadata": {},
   "outputs": [
    {
     "name": "stdout",
     "output_type": "stream",
     "text": [
      "KMeans(algorithm='auto', copy_x=True, init='k-means++', max_iter=300,\n",
      "       n_clusters=5, n_init=10, n_jobs=-1, precompute_distances='deprecated',\n",
      "       random_state=123, tol=0.0001, verbose=0)\n"
     ]
    }
   ],
   "source": [
    "print(kmeans)"
   ]
  }
 ],
 "metadata": {
  "kernelspec": {
   "display_name": "pycaret",
   "language": "python",
   "name": "pycaret"
  },
  "language_info": {
   "codemirror_mode": {
    "name": "ipython",
    "version": 3
   },
   "file_extension": ".py",
   "mimetype": "text/x-python",
   "name": "python",
   "nbconvert_exporter": "python",
   "pygments_lexer": "ipython3",
   "version": "3.6.10"
  }
 },
 "nbformat": 4,
 "nbformat_minor": 2
}
